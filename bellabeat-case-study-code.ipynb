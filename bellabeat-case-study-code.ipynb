{
 "cells": [
  {
   "cell_type": "code",
   "execution_count": 1,
   "id": "dae86260",
   "metadata": {
    "_cell_guid": "b1076dfc-b9ad-4769-8c92-a6c4dae69d19",
    "_uuid": "8f2839f25d086af736a60e9eeb907d3b93b6e0e5",
    "execution": {
     "iopub.execute_input": "2025-03-22T06:38:22.404477Z",
     "iopub.status.busy": "2025-03-22T06:38:22.404099Z",
     "iopub.status.idle": "2025-03-22T06:38:23.589361Z",
     "shell.execute_reply": "2025-03-22T06:38:23.588262Z"
    },
    "papermill": {
     "duration": 1.203336,
     "end_time": "2025-03-22T06:38:23.591468",
     "exception": false,
     "start_time": "2025-03-22T06:38:22.388132",
     "status": "completed"
    },
    "tags": []
   },
   "outputs": [
    {
     "name": "stdout",
     "output_type": "stream",
     "text": [
      "/kaggle/input/fitbit/mturkfitbit_export_3.12.16-4.11.16/Fitabase Data 3.12.16-4.11.16/minuteCaloriesNarrow_merged.csv\n",
      "/kaggle/input/fitbit/mturkfitbit_export_3.12.16-4.11.16/Fitabase Data 3.12.16-4.11.16/weightLogInfo_merged.csv\n",
      "/kaggle/input/fitbit/mturkfitbit_export_3.12.16-4.11.16/Fitabase Data 3.12.16-4.11.16/minuteMETsNarrow_merged.csv\n",
      "/kaggle/input/fitbit/mturkfitbit_export_3.12.16-4.11.16/Fitabase Data 3.12.16-4.11.16/hourlyCalories_merged.csv\n",
      "/kaggle/input/fitbit/mturkfitbit_export_3.12.16-4.11.16/Fitabase Data 3.12.16-4.11.16/heartrate_seconds_merged.csv\n",
      "/kaggle/input/fitbit/mturkfitbit_export_3.12.16-4.11.16/Fitabase Data 3.12.16-4.11.16/minuteSleep_merged.csv\n",
      "/kaggle/input/fitbit/mturkfitbit_export_3.12.16-4.11.16/Fitabase Data 3.12.16-4.11.16/hourlyIntensities_merged.csv\n",
      "/kaggle/input/fitbit/mturkfitbit_export_3.12.16-4.11.16/Fitabase Data 3.12.16-4.11.16/hourlySteps_merged.csv\n",
      "/kaggle/input/fitbit/mturkfitbit_export_3.12.16-4.11.16/Fitabase Data 3.12.16-4.11.16/minuteStepsNarrow_merged.csv\n",
      "/kaggle/input/fitbit/mturkfitbit_export_3.12.16-4.11.16/Fitabase Data 3.12.16-4.11.16/minuteIntensitiesNarrow_merged.csv\n",
      "/kaggle/input/fitbit/mturkfitbit_export_3.12.16-4.11.16/Fitabase Data 3.12.16-4.11.16/dailyActivity_merged.csv\n",
      "/kaggle/input/fitbit/mturkfitbit_export_4.12.16-5.12.16/Fitabase Data 4.12.16-5.12.16/minuteCaloriesNarrow_merged.csv\n",
      "/kaggle/input/fitbit/mturkfitbit_export_4.12.16-5.12.16/Fitabase Data 4.12.16-5.12.16/weightLogInfo_merged.csv\n",
      "/kaggle/input/fitbit/mturkfitbit_export_4.12.16-5.12.16/Fitabase Data 4.12.16-5.12.16/sleepDay_merged.csv\n",
      "/kaggle/input/fitbit/mturkfitbit_export_4.12.16-5.12.16/Fitabase Data 4.12.16-5.12.16/dailyIntensities_merged.csv\n",
      "/kaggle/input/fitbit/mturkfitbit_export_4.12.16-5.12.16/Fitabase Data 4.12.16-5.12.16/minuteIntensitiesWide_merged.csv\n",
      "/kaggle/input/fitbit/mturkfitbit_export_4.12.16-5.12.16/Fitabase Data 4.12.16-5.12.16/minuteMETsNarrow_merged.csv\n",
      "/kaggle/input/fitbit/mturkfitbit_export_4.12.16-5.12.16/Fitabase Data 4.12.16-5.12.16/dailyCalories_merged.csv\n",
      "/kaggle/input/fitbit/mturkfitbit_export_4.12.16-5.12.16/Fitabase Data 4.12.16-5.12.16/hourlyCalories_merged.csv\n",
      "/kaggle/input/fitbit/mturkfitbit_export_4.12.16-5.12.16/Fitabase Data 4.12.16-5.12.16/heartrate_seconds_merged.csv\n",
      "/kaggle/input/fitbit/mturkfitbit_export_4.12.16-5.12.16/Fitabase Data 4.12.16-5.12.16/minuteSleep_merged.csv\n",
      "/kaggle/input/fitbit/mturkfitbit_export_4.12.16-5.12.16/Fitabase Data 4.12.16-5.12.16/hourlyIntensities_merged.csv\n",
      "/kaggle/input/fitbit/mturkfitbit_export_4.12.16-5.12.16/Fitabase Data 4.12.16-5.12.16/hourlySteps_merged.csv\n",
      "/kaggle/input/fitbit/mturkfitbit_export_4.12.16-5.12.16/Fitabase Data 4.12.16-5.12.16/minuteStepsNarrow_merged.csv\n",
      "/kaggle/input/fitbit/mturkfitbit_export_4.12.16-5.12.16/Fitabase Data 4.12.16-5.12.16/dailySteps_merged.csv\n",
      "/kaggle/input/fitbit/mturkfitbit_export_4.12.16-5.12.16/Fitabase Data 4.12.16-5.12.16/minuteStepsWide_merged.csv\n",
      "/kaggle/input/fitbit/mturkfitbit_export_4.12.16-5.12.16/Fitabase Data 4.12.16-5.12.16/minuteIntensitiesNarrow_merged.csv\n",
      "/kaggle/input/fitbit/mturkfitbit_export_4.12.16-5.12.16/Fitabase Data 4.12.16-5.12.16/minuteCaloriesWide_merged.csv\n",
      "/kaggle/input/fitbit/mturkfitbit_export_4.12.16-5.12.16/Fitabase Data 4.12.16-5.12.16/dailyActivity_merged.csv\n"
     ]
    }
   ],
   "source": [
    "# This Python 3 environment comes with many helpful analytics libraries installed\n",
    "# It is defined by the kaggle/python Docker image: https://github.com/kaggle/docker-python\n",
    "# For example, here's several helpful packages to load\n",
    "\n",
    "import numpy as np # linear algebra\n",
    "import pandas as pd # data processing, CSV file I/O (e.g. pd.read_csv)\n",
    "\n",
    "# Input data files are available in the read-only \"../input/\" directory\n",
    "# For example, running this (by clicking run or pressing Shift+Enter) will list all files under the input directory\n",
    "\n",
    "import os\n",
    "for dirname, _, filenames in os.walk('/kaggle/input'):\n",
    "    for filename in filenames:\n",
    "        print(os.path.join(dirname, filename))\n",
    "\n",
    "# You can write up to 20GB to the current directory (/kaggle/working/) that gets preserved as output when you create a version using \"Save & Run All\" \n",
    "# You can also write temporary files to /kaggle/temp/, but they won't be saved outside of the current session"
   ]
  },
  {
   "cell_type": "code",
   "execution_count": 2,
   "id": "1d3e589c",
   "metadata": {
    "execution": {
     "iopub.execute_input": "2025-03-22T06:38:23.621548Z",
     "iopub.status.busy": "2025-03-22T06:38:23.620988Z",
     "iopub.status.idle": "2025-03-22T06:38:23.647231Z",
     "shell.execute_reply": "2025-03-22T06:38:23.646050Z"
    },
    "papermill": {
     "duration": 0.043173,
     "end_time": "2025-03-22T06:38:23.649303",
     "exception": false,
     "start_time": "2025-03-22T06:38:23.606130",
     "status": "completed"
    },
    "tags": []
   },
   "outputs": [],
   "source": [
    "daily_activity_merged = pd.read_csv(\"/kaggle/input/fitbit/mturkfitbit_export_4.12.16-5.12.16/Fitabase Data 4.12.16-5.12.16/dailyActivity_merged.csv\")"
   ]
  },
  {
   "cell_type": "code",
   "execution_count": 3,
   "id": "76ebf2ff",
   "metadata": {
    "execution": {
     "iopub.execute_input": "2025-03-22T06:38:23.679277Z",
     "iopub.status.busy": "2025-03-22T06:38:23.678834Z",
     "iopub.status.idle": "2025-03-22T06:38:23.691955Z",
     "shell.execute_reply": "2025-03-22T06:38:23.690704Z"
    },
    "papermill": {
     "duration": 0.030464,
     "end_time": "2025-03-22T06:38:23.694017",
     "exception": false,
     "start_time": "2025-03-22T06:38:23.663553",
     "status": "completed"
    },
    "tags": []
   },
   "outputs": [],
   "source": [
    "daily_calories_merged = pd.read_csv(\"/kaggle/input/fitbit/mturkfitbit_export_4.12.16-5.12.16/Fitabase Data 4.12.16-5.12.16/dailyCalories_merged.csv\")"
   ]
  },
  {
   "cell_type": "code",
   "execution_count": 4,
   "id": "cf0a928a",
   "metadata": {
    "execution": {
     "iopub.execute_input": "2025-03-22T06:38:23.723664Z",
     "iopub.status.busy": "2025-03-22T06:38:23.723257Z",
     "iopub.status.idle": "2025-03-22T06:38:23.737174Z",
     "shell.execute_reply": "2025-03-22T06:38:23.736046Z"
    },
    "papermill": {
     "duration": 0.030974,
     "end_time": "2025-03-22T06:38:23.739307",
     "exception": false,
     "start_time": "2025-03-22T06:38:23.708333",
     "status": "completed"
    },
    "tags": []
   },
   "outputs": [],
   "source": [
    "daily_intensity_merged = pd.read_csv(\"/kaggle/input/fitbit/mturkfitbit_export_4.12.16-5.12.16/Fitabase Data 4.12.16-5.12.16/dailyIntensities_merged.csv\")"
   ]
  },
  {
   "cell_type": "code",
   "execution_count": 5,
   "id": "6d35c047",
   "metadata": {
    "execution": {
     "iopub.execute_input": "2025-03-22T06:38:23.769028Z",
     "iopub.status.busy": "2025-03-22T06:38:23.768653Z",
     "iopub.status.idle": "2025-03-22T06:38:23.781251Z",
     "shell.execute_reply": "2025-03-22T06:38:23.780083Z"
    },
    "papermill": {
     "duration": 0.029594,
     "end_time": "2025-03-22T06:38:23.783245",
     "exception": false,
     "start_time": "2025-03-22T06:38:23.753651",
     "status": "completed"
    },
    "tags": []
   },
   "outputs": [],
   "source": [
    "daily_steps_merged = pd.read_csv(\"/kaggle/input/fitbit/mturkfitbit_export_4.12.16-5.12.16/Fitabase Data 4.12.16-5.12.16/dailySteps_merged.csv\")"
   ]
  },
  {
   "cell_type": "code",
   "execution_count": 6,
   "id": "0a69fb6b",
   "metadata": {
    "execution": {
     "iopub.execute_input": "2025-03-22T06:38:23.813069Z",
     "iopub.status.busy": "2025-03-22T06:38:23.812643Z",
     "iopub.status.idle": "2025-03-22T06:38:23.822281Z",
     "shell.execute_reply": "2025-03-22T06:38:23.821436Z"
    },
    "papermill": {
     "duration": 0.026412,
     "end_time": "2025-03-22T06:38:23.824014",
     "exception": false,
     "start_time": "2025-03-22T06:38:23.797602",
     "status": "completed"
    },
    "tags": []
   },
   "outputs": [],
   "source": [
    "daily_sleep_merged = pd.read_csv(\"/kaggle/input/fitbit/mturkfitbit_export_4.12.16-5.12.16/Fitabase Data 4.12.16-5.12.16/sleepDay_merged.csv\")"
   ]
  },
  {
   "cell_type": "code",
   "execution_count": 7,
   "id": "24b864f0",
   "metadata": {
    "execution": {
     "iopub.execute_input": "2025-03-22T06:38:23.853606Z",
     "iopub.status.busy": "2025-03-22T06:38:23.853242Z",
     "iopub.status.idle": "2025-03-22T06:38:23.865946Z",
     "shell.execute_reply": "2025-03-22T06:38:23.864838Z"
    },
    "papermill": {
     "duration": 0.029721,
     "end_time": "2025-03-22T06:38:23.867970",
     "exception": false,
     "start_time": "2025-03-22T06:38:23.838249",
     "status": "completed"
    },
    "tags": []
   },
   "outputs": [],
   "source": [
    "weightloginfo = pd.read_csv(\"/kaggle/input/fitbit/mturkfitbit_export_4.12.16-5.12.16/Fitabase Data 4.12.16-5.12.16/weightLogInfo_merged.csv\")"
   ]
  },
  {
   "cell_type": "markdown",
   "id": "795bc900",
   "metadata": {
    "papermill": {
     "duration": 0.01348,
     "end_time": "2025-03-22T06:38:23.895630",
     "exception": false,
     "start_time": "2025-03-22T06:38:23.882150",
     "status": "completed"
    },
    "tags": []
   },
   "source": [
    "# explore all datasets- \n",
    "## datasets imported till now- \n",
    "1. daily_activity_merged\n",
    "2. daily_calories_merged\n",
    "3. daily_intensity_merged\n",
    "4. daily_steps_merged\n",
    "5. daily_sleep_merged\n",
    "6. weightloginfo\n",
    "\n",
    "findings after exploring-  \n",
    "\n",
    "1. daily_activity_merged ---  need to fix columns datatype // #### done\n",
    "2. daily_calories_merged ---  need to fix columns datatype // #### done\n",
    "3. daily_intensity_merged ---  need to fix columns datatype // #### done\n",
    "4. daily_steps_merged ---  need to fix columns datatype // #### done\n",
    "5. daily_sleep_merged ---  need to fix columns datatype  --- need to fix duplicate rows\n",
    "6. weightloginfo  ---  need to fix columns datatype  --- need to fix null values in rows"
   ]
  },
  {
   "cell_type": "code",
   "execution_count": 8,
   "id": "aba68f09",
   "metadata": {
    "execution": {
     "iopub.execute_input": "2025-03-22T06:38:23.924656Z",
     "iopub.status.busy": "2025-03-22T06:38:23.924300Z",
     "iopub.status.idle": "2025-03-22T06:38:23.960370Z",
     "shell.execute_reply": "2025-03-22T06:38:23.959038Z"
    },
    "papermill": {
     "duration": 0.052695,
     "end_time": "2025-03-22T06:38:23.962149",
     "exception": false,
     "start_time": "2025-03-22T06:38:23.909454",
     "status": "completed"
    },
    "tags": []
   },
   "outputs": [
    {
     "data": {
      "text/html": [
       "<div>\n",
       "<style scoped>\n",
       "    .dataframe tbody tr th:only-of-type {\n",
       "        vertical-align: middle;\n",
       "    }\n",
       "\n",
       "    .dataframe tbody tr th {\n",
       "        vertical-align: top;\n",
       "    }\n",
       "\n",
       "    .dataframe thead th {\n",
       "        text-align: right;\n",
       "    }\n",
       "</style>\n",
       "<table border=\"1\" class=\"dataframe\">\n",
       "  <thead>\n",
       "    <tr style=\"text-align: right;\">\n",
       "      <th></th>\n",
       "      <th>Id</th>\n",
       "      <th>ActivityDate</th>\n",
       "      <th>TotalSteps</th>\n",
       "      <th>TotalDistance</th>\n",
       "      <th>TrackerDistance</th>\n",
       "      <th>LoggedActivitiesDistance</th>\n",
       "      <th>VeryActiveDistance</th>\n",
       "      <th>ModeratelyActiveDistance</th>\n",
       "      <th>LightActiveDistance</th>\n",
       "      <th>SedentaryActiveDistance</th>\n",
       "      <th>VeryActiveMinutes</th>\n",
       "      <th>FairlyActiveMinutes</th>\n",
       "      <th>LightlyActiveMinutes</th>\n",
       "      <th>SedentaryMinutes</th>\n",
       "      <th>Calories</th>\n",
       "    </tr>\n",
       "  </thead>\n",
       "  <tbody>\n",
       "    <tr>\n",
       "      <th>0</th>\n",
       "      <td>1503960366</td>\n",
       "      <td>4/12/2016</td>\n",
       "      <td>13162</td>\n",
       "      <td>8.50</td>\n",
       "      <td>8.50</td>\n",
       "      <td>0.0</td>\n",
       "      <td>1.88</td>\n",
       "      <td>0.55</td>\n",
       "      <td>6.06</td>\n",
       "      <td>0.0</td>\n",
       "      <td>25</td>\n",
       "      <td>13</td>\n",
       "      <td>328</td>\n",
       "      <td>728</td>\n",
       "      <td>1985</td>\n",
       "    </tr>\n",
       "    <tr>\n",
       "      <th>1</th>\n",
       "      <td>1503960366</td>\n",
       "      <td>4/13/2016</td>\n",
       "      <td>10735</td>\n",
       "      <td>6.97</td>\n",
       "      <td>6.97</td>\n",
       "      <td>0.0</td>\n",
       "      <td>1.57</td>\n",
       "      <td>0.69</td>\n",
       "      <td>4.71</td>\n",
       "      <td>0.0</td>\n",
       "      <td>21</td>\n",
       "      <td>19</td>\n",
       "      <td>217</td>\n",
       "      <td>776</td>\n",
       "      <td>1797</td>\n",
       "    </tr>\n",
       "    <tr>\n",
       "      <th>2</th>\n",
       "      <td>1503960366</td>\n",
       "      <td>4/14/2016</td>\n",
       "      <td>10460</td>\n",
       "      <td>6.74</td>\n",
       "      <td>6.74</td>\n",
       "      <td>0.0</td>\n",
       "      <td>2.44</td>\n",
       "      <td>0.40</td>\n",
       "      <td>3.91</td>\n",
       "      <td>0.0</td>\n",
       "      <td>30</td>\n",
       "      <td>11</td>\n",
       "      <td>181</td>\n",
       "      <td>1218</td>\n",
       "      <td>1776</td>\n",
       "    </tr>\n",
       "    <tr>\n",
       "      <th>3</th>\n",
       "      <td>1503960366</td>\n",
       "      <td>4/15/2016</td>\n",
       "      <td>9762</td>\n",
       "      <td>6.28</td>\n",
       "      <td>6.28</td>\n",
       "      <td>0.0</td>\n",
       "      <td>2.14</td>\n",
       "      <td>1.26</td>\n",
       "      <td>2.83</td>\n",
       "      <td>0.0</td>\n",
       "      <td>29</td>\n",
       "      <td>34</td>\n",
       "      <td>209</td>\n",
       "      <td>726</td>\n",
       "      <td>1745</td>\n",
       "    </tr>\n",
       "    <tr>\n",
       "      <th>4</th>\n",
       "      <td>1503960366</td>\n",
       "      <td>4/16/2016</td>\n",
       "      <td>12669</td>\n",
       "      <td>8.16</td>\n",
       "      <td>8.16</td>\n",
       "      <td>0.0</td>\n",
       "      <td>2.71</td>\n",
       "      <td>0.41</td>\n",
       "      <td>5.04</td>\n",
       "      <td>0.0</td>\n",
       "      <td>36</td>\n",
       "      <td>10</td>\n",
       "      <td>221</td>\n",
       "      <td>773</td>\n",
       "      <td>1863</td>\n",
       "    </tr>\n",
       "  </tbody>\n",
       "</table>\n",
       "</div>"
      ],
      "text/plain": [
       "           Id ActivityDate  TotalSteps  TotalDistance  TrackerDistance  \\\n",
       "0  1503960366    4/12/2016       13162           8.50             8.50   \n",
       "1  1503960366    4/13/2016       10735           6.97             6.97   \n",
       "2  1503960366    4/14/2016       10460           6.74             6.74   \n",
       "3  1503960366    4/15/2016        9762           6.28             6.28   \n",
       "4  1503960366    4/16/2016       12669           8.16             8.16   \n",
       "\n",
       "   LoggedActivitiesDistance  VeryActiveDistance  ModeratelyActiveDistance  \\\n",
       "0                       0.0                1.88                      0.55   \n",
       "1                       0.0                1.57                      0.69   \n",
       "2                       0.0                2.44                      0.40   \n",
       "3                       0.0                2.14                      1.26   \n",
       "4                       0.0                2.71                      0.41   \n",
       "\n",
       "   LightActiveDistance  SedentaryActiveDistance  VeryActiveMinutes  \\\n",
       "0                 6.06                      0.0                 25   \n",
       "1                 4.71                      0.0                 21   \n",
       "2                 3.91                      0.0                 30   \n",
       "3                 2.83                      0.0                 29   \n",
       "4                 5.04                      0.0                 36   \n",
       "\n",
       "   FairlyActiveMinutes  LightlyActiveMinutes  SedentaryMinutes  Calories  \n",
       "0                   13                   328               728      1985  \n",
       "1                   19                   217               776      1797  \n",
       "2                   11                   181              1218      1776  \n",
       "3                   34                   209               726      1745  \n",
       "4                   10                   221               773      1863  "
      ]
     },
     "execution_count": 8,
     "metadata": {},
     "output_type": "execute_result"
    }
   ],
   "source": [
    "daily_activity_merged.head()"
   ]
  },
  {
   "cell_type": "code",
   "execution_count": 9,
   "id": "7aa1c4c6",
   "metadata": {
    "execution": {
     "iopub.execute_input": "2025-03-22T06:38:23.991838Z",
     "iopub.status.busy": "2025-03-22T06:38:23.991509Z",
     "iopub.status.idle": "2025-03-22T06:38:24.007998Z",
     "shell.execute_reply": "2025-03-22T06:38:24.006794Z"
    },
    "papermill": {
     "duration": 0.033628,
     "end_time": "2025-03-22T06:38:24.010159",
     "exception": false,
     "start_time": "2025-03-22T06:38:23.976531",
     "status": "completed"
    },
    "tags": []
   },
   "outputs": [
    {
     "data": {
      "text/html": [
       "<div>\n",
       "<style scoped>\n",
       "    .dataframe tbody tr th:only-of-type {\n",
       "        vertical-align: middle;\n",
       "    }\n",
       "\n",
       "    .dataframe tbody tr th {\n",
       "        vertical-align: top;\n",
       "    }\n",
       "\n",
       "    .dataframe thead th {\n",
       "        text-align: right;\n",
       "    }\n",
       "</style>\n",
       "<table border=\"1\" class=\"dataframe\">\n",
       "  <thead>\n",
       "    <tr style=\"text-align: right;\">\n",
       "      <th></th>\n",
       "      <th>Id</th>\n",
       "      <th>ActivityDate</th>\n",
       "      <th>TotalSteps</th>\n",
       "      <th>TotalDistance</th>\n",
       "      <th>TrackerDistance</th>\n",
       "      <th>LoggedActivitiesDistance</th>\n",
       "      <th>VeryActiveDistance</th>\n",
       "      <th>ModeratelyActiveDistance</th>\n",
       "      <th>LightActiveDistance</th>\n",
       "      <th>SedentaryActiveDistance</th>\n",
       "      <th>VeryActiveMinutes</th>\n",
       "      <th>FairlyActiveMinutes</th>\n",
       "      <th>LightlyActiveMinutes</th>\n",
       "      <th>SedentaryMinutes</th>\n",
       "      <th>Calories</th>\n",
       "    </tr>\n",
       "  </thead>\n",
       "  <tbody>\n",
       "    <tr>\n",
       "      <th>935</th>\n",
       "      <td>8877689391</td>\n",
       "      <td>5/8/2016</td>\n",
       "      <td>10686</td>\n",
       "      <td>8.110000</td>\n",
       "      <td>8.110000</td>\n",
       "      <td>0.0</td>\n",
       "      <td>1.08</td>\n",
       "      <td>0.20</td>\n",
       "      <td>6.80</td>\n",
       "      <td>0.00</td>\n",
       "      <td>17</td>\n",
       "      <td>4</td>\n",
       "      <td>245</td>\n",
       "      <td>1174</td>\n",
       "      <td>2847</td>\n",
       "    </tr>\n",
       "    <tr>\n",
       "      <th>936</th>\n",
       "      <td>8877689391</td>\n",
       "      <td>5/9/2016</td>\n",
       "      <td>20226</td>\n",
       "      <td>18.250000</td>\n",
       "      <td>18.250000</td>\n",
       "      <td>0.0</td>\n",
       "      <td>11.10</td>\n",
       "      <td>0.80</td>\n",
       "      <td>6.24</td>\n",
       "      <td>0.05</td>\n",
       "      <td>73</td>\n",
       "      <td>19</td>\n",
       "      <td>217</td>\n",
       "      <td>1131</td>\n",
       "      <td>3710</td>\n",
       "    </tr>\n",
       "    <tr>\n",
       "      <th>937</th>\n",
       "      <td>8877689391</td>\n",
       "      <td>5/10/2016</td>\n",
       "      <td>10733</td>\n",
       "      <td>8.150000</td>\n",
       "      <td>8.150000</td>\n",
       "      <td>0.0</td>\n",
       "      <td>1.35</td>\n",
       "      <td>0.46</td>\n",
       "      <td>6.28</td>\n",
       "      <td>0.00</td>\n",
       "      <td>18</td>\n",
       "      <td>11</td>\n",
       "      <td>224</td>\n",
       "      <td>1187</td>\n",
       "      <td>2832</td>\n",
       "    </tr>\n",
       "    <tr>\n",
       "      <th>938</th>\n",
       "      <td>8877689391</td>\n",
       "      <td>5/11/2016</td>\n",
       "      <td>21420</td>\n",
       "      <td>19.559999</td>\n",
       "      <td>19.559999</td>\n",
       "      <td>0.0</td>\n",
       "      <td>13.22</td>\n",
       "      <td>0.41</td>\n",
       "      <td>5.89</td>\n",
       "      <td>0.00</td>\n",
       "      <td>88</td>\n",
       "      <td>12</td>\n",
       "      <td>213</td>\n",
       "      <td>1127</td>\n",
       "      <td>3832</td>\n",
       "    </tr>\n",
       "    <tr>\n",
       "      <th>939</th>\n",
       "      <td>8877689391</td>\n",
       "      <td>5/12/2016</td>\n",
       "      <td>8064</td>\n",
       "      <td>6.120000</td>\n",
       "      <td>6.120000</td>\n",
       "      <td>0.0</td>\n",
       "      <td>1.82</td>\n",
       "      <td>0.04</td>\n",
       "      <td>4.25</td>\n",
       "      <td>0.00</td>\n",
       "      <td>23</td>\n",
       "      <td>1</td>\n",
       "      <td>137</td>\n",
       "      <td>770</td>\n",
       "      <td>1849</td>\n",
       "    </tr>\n",
       "  </tbody>\n",
       "</table>\n",
       "</div>"
      ],
      "text/plain": [
       "             Id ActivityDate  TotalSteps  TotalDistance  TrackerDistance  \\\n",
       "935  8877689391     5/8/2016       10686       8.110000         8.110000   \n",
       "936  8877689391     5/9/2016       20226      18.250000        18.250000   \n",
       "937  8877689391    5/10/2016       10733       8.150000         8.150000   \n",
       "938  8877689391    5/11/2016       21420      19.559999        19.559999   \n",
       "939  8877689391    5/12/2016        8064       6.120000         6.120000   \n",
       "\n",
       "     LoggedActivitiesDistance  VeryActiveDistance  ModeratelyActiveDistance  \\\n",
       "935                       0.0                1.08                      0.20   \n",
       "936                       0.0               11.10                      0.80   \n",
       "937                       0.0                1.35                      0.46   \n",
       "938                       0.0               13.22                      0.41   \n",
       "939                       0.0                1.82                      0.04   \n",
       "\n",
       "     LightActiveDistance  SedentaryActiveDistance  VeryActiveMinutes  \\\n",
       "935                 6.80                     0.00                 17   \n",
       "936                 6.24                     0.05                 73   \n",
       "937                 6.28                     0.00                 18   \n",
       "938                 5.89                     0.00                 88   \n",
       "939                 4.25                     0.00                 23   \n",
       "\n",
       "     FairlyActiveMinutes  LightlyActiveMinutes  SedentaryMinutes  Calories  \n",
       "935                    4                   245              1174      2847  \n",
       "936                   19                   217              1131      3710  \n",
       "937                   11                   224              1187      2832  \n",
       "938                   12                   213              1127      3832  \n",
       "939                    1                   137               770      1849  "
      ]
     },
     "execution_count": 9,
     "metadata": {},
     "output_type": "execute_result"
    }
   ],
   "source": [
    "daily_activity_merged.tail()"
   ]
  },
  {
   "cell_type": "code",
   "execution_count": 10,
   "id": "c86b758f",
   "metadata": {
    "execution": {
     "iopub.execute_input": "2025-03-22T06:38:24.040777Z",
     "iopub.status.busy": "2025-03-22T06:38:24.040445Z",
     "iopub.status.idle": "2025-03-22T06:38:24.069324Z",
     "shell.execute_reply": "2025-03-22T06:38:24.068086Z"
    },
    "papermill": {
     "duration": 0.045983,
     "end_time": "2025-03-22T06:38:24.070939",
     "exception": false,
     "start_time": "2025-03-22T06:38:24.024956",
     "status": "completed"
    },
    "tags": []
   },
   "outputs": [
    {
     "name": "stdout",
     "output_type": "stream",
     "text": [
      "<class 'pandas.core.frame.DataFrame'>\n",
      "RangeIndex: 940 entries, 0 to 939\n",
      "Data columns (total 15 columns):\n",
      " #   Column                    Non-Null Count  Dtype  \n",
      "---  ------                    --------------  -----  \n",
      " 0   Id                        940 non-null    int64  \n",
      " 1   ActivityDate              940 non-null    object \n",
      " 2   TotalSteps                940 non-null    int64  \n",
      " 3   TotalDistance             940 non-null    float64\n",
      " 4   TrackerDistance           940 non-null    float64\n",
      " 5   LoggedActivitiesDistance  940 non-null    float64\n",
      " 6   VeryActiveDistance        940 non-null    float64\n",
      " 7   ModeratelyActiveDistance  940 non-null    float64\n",
      " 8   LightActiveDistance       940 non-null    float64\n",
      " 9   SedentaryActiveDistance   940 non-null    float64\n",
      " 10  VeryActiveMinutes         940 non-null    int64  \n",
      " 11  FairlyActiveMinutes       940 non-null    int64  \n",
      " 12  LightlyActiveMinutes      940 non-null    int64  \n",
      " 13  SedentaryMinutes          940 non-null    int64  \n",
      " 14  Calories                  940 non-null    int64  \n",
      "dtypes: float64(7), int64(7), object(1)\n",
      "memory usage: 110.3+ KB\n"
     ]
    }
   ],
   "source": [
    "daily_activity_merged.info()"
   ]
  },
  {
   "cell_type": "code",
   "execution_count": 11,
   "id": "611ac6bb",
   "metadata": {
    "execution": {
     "iopub.execute_input": "2025-03-22T06:38:24.102782Z",
     "iopub.status.busy": "2025-03-22T06:38:24.102431Z",
     "iopub.status.idle": "2025-03-22T06:38:24.148094Z",
     "shell.execute_reply": "2025-03-22T06:38:24.146838Z"
    },
    "papermill": {
     "duration": 0.06391,
     "end_time": "2025-03-22T06:38:24.150020",
     "exception": false,
     "start_time": "2025-03-22T06:38:24.086110",
     "status": "completed"
    },
    "tags": []
   },
   "outputs": [
    {
     "data": {
      "text/html": [
       "<div>\n",
       "<style scoped>\n",
       "    .dataframe tbody tr th:only-of-type {\n",
       "        vertical-align: middle;\n",
       "    }\n",
       "\n",
       "    .dataframe tbody tr th {\n",
       "        vertical-align: top;\n",
       "    }\n",
       "\n",
       "    .dataframe thead th {\n",
       "        text-align: right;\n",
       "    }\n",
       "</style>\n",
       "<table border=\"1\" class=\"dataframe\">\n",
       "  <thead>\n",
       "    <tr style=\"text-align: right;\">\n",
       "      <th></th>\n",
       "      <th>Id</th>\n",
       "      <th>TotalSteps</th>\n",
       "      <th>TotalDistance</th>\n",
       "      <th>TrackerDistance</th>\n",
       "      <th>LoggedActivitiesDistance</th>\n",
       "      <th>VeryActiveDistance</th>\n",
       "      <th>ModeratelyActiveDistance</th>\n",
       "      <th>LightActiveDistance</th>\n",
       "      <th>SedentaryActiveDistance</th>\n",
       "      <th>VeryActiveMinutes</th>\n",
       "      <th>FairlyActiveMinutes</th>\n",
       "      <th>LightlyActiveMinutes</th>\n",
       "      <th>SedentaryMinutes</th>\n",
       "      <th>Calories</th>\n",
       "    </tr>\n",
       "  </thead>\n",
       "  <tbody>\n",
       "    <tr>\n",
       "      <th>count</th>\n",
       "      <td>9.400000e+02</td>\n",
       "      <td>940.000000</td>\n",
       "      <td>940.000000</td>\n",
       "      <td>940.000000</td>\n",
       "      <td>940.000000</td>\n",
       "      <td>940.000000</td>\n",
       "      <td>940.000000</td>\n",
       "      <td>940.000000</td>\n",
       "      <td>940.000000</td>\n",
       "      <td>940.000000</td>\n",
       "      <td>940.000000</td>\n",
       "      <td>940.000000</td>\n",
       "      <td>940.000000</td>\n",
       "      <td>940.000000</td>\n",
       "    </tr>\n",
       "    <tr>\n",
       "      <th>mean</th>\n",
       "      <td>4.855407e+09</td>\n",
       "      <td>7637.910638</td>\n",
       "      <td>5.489702</td>\n",
       "      <td>5.475351</td>\n",
       "      <td>0.108171</td>\n",
       "      <td>1.502681</td>\n",
       "      <td>0.567543</td>\n",
       "      <td>3.340819</td>\n",
       "      <td>0.001606</td>\n",
       "      <td>21.164894</td>\n",
       "      <td>13.564894</td>\n",
       "      <td>192.812766</td>\n",
       "      <td>991.210638</td>\n",
       "      <td>2303.609574</td>\n",
       "    </tr>\n",
       "    <tr>\n",
       "      <th>std</th>\n",
       "      <td>2.424805e+09</td>\n",
       "      <td>5087.150742</td>\n",
       "      <td>3.924606</td>\n",
       "      <td>3.907276</td>\n",
       "      <td>0.619897</td>\n",
       "      <td>2.658941</td>\n",
       "      <td>0.883580</td>\n",
       "      <td>2.040655</td>\n",
       "      <td>0.007346</td>\n",
       "      <td>32.844803</td>\n",
       "      <td>19.987404</td>\n",
       "      <td>109.174700</td>\n",
       "      <td>301.267437</td>\n",
       "      <td>718.166862</td>\n",
       "    </tr>\n",
       "    <tr>\n",
       "      <th>min</th>\n",
       "      <td>1.503960e+09</td>\n",
       "      <td>0.000000</td>\n",
       "      <td>0.000000</td>\n",
       "      <td>0.000000</td>\n",
       "      <td>0.000000</td>\n",
       "      <td>0.000000</td>\n",
       "      <td>0.000000</td>\n",
       "      <td>0.000000</td>\n",
       "      <td>0.000000</td>\n",
       "      <td>0.000000</td>\n",
       "      <td>0.000000</td>\n",
       "      <td>0.000000</td>\n",
       "      <td>0.000000</td>\n",
       "      <td>0.000000</td>\n",
       "    </tr>\n",
       "    <tr>\n",
       "      <th>25%</th>\n",
       "      <td>2.320127e+09</td>\n",
       "      <td>3789.750000</td>\n",
       "      <td>2.620000</td>\n",
       "      <td>2.620000</td>\n",
       "      <td>0.000000</td>\n",
       "      <td>0.000000</td>\n",
       "      <td>0.000000</td>\n",
       "      <td>1.945000</td>\n",
       "      <td>0.000000</td>\n",
       "      <td>0.000000</td>\n",
       "      <td>0.000000</td>\n",
       "      <td>127.000000</td>\n",
       "      <td>729.750000</td>\n",
       "      <td>1828.500000</td>\n",
       "    </tr>\n",
       "    <tr>\n",
       "      <th>50%</th>\n",
       "      <td>4.445115e+09</td>\n",
       "      <td>7405.500000</td>\n",
       "      <td>5.245000</td>\n",
       "      <td>5.245000</td>\n",
       "      <td>0.000000</td>\n",
       "      <td>0.210000</td>\n",
       "      <td>0.240000</td>\n",
       "      <td>3.365000</td>\n",
       "      <td>0.000000</td>\n",
       "      <td>4.000000</td>\n",
       "      <td>6.000000</td>\n",
       "      <td>199.000000</td>\n",
       "      <td>1057.500000</td>\n",
       "      <td>2134.000000</td>\n",
       "    </tr>\n",
       "    <tr>\n",
       "      <th>75%</th>\n",
       "      <td>6.962181e+09</td>\n",
       "      <td>10727.000000</td>\n",
       "      <td>7.712500</td>\n",
       "      <td>7.710000</td>\n",
       "      <td>0.000000</td>\n",
       "      <td>2.052500</td>\n",
       "      <td>0.800000</td>\n",
       "      <td>4.782500</td>\n",
       "      <td>0.000000</td>\n",
       "      <td>32.000000</td>\n",
       "      <td>19.000000</td>\n",
       "      <td>264.000000</td>\n",
       "      <td>1229.500000</td>\n",
       "      <td>2793.250000</td>\n",
       "    </tr>\n",
       "    <tr>\n",
       "      <th>max</th>\n",
       "      <td>8.877689e+09</td>\n",
       "      <td>36019.000000</td>\n",
       "      <td>28.030001</td>\n",
       "      <td>28.030001</td>\n",
       "      <td>4.942142</td>\n",
       "      <td>21.920000</td>\n",
       "      <td>6.480000</td>\n",
       "      <td>10.710000</td>\n",
       "      <td>0.110000</td>\n",
       "      <td>210.000000</td>\n",
       "      <td>143.000000</td>\n",
       "      <td>518.000000</td>\n",
       "      <td>1440.000000</td>\n",
       "      <td>4900.000000</td>\n",
       "    </tr>\n",
       "  </tbody>\n",
       "</table>\n",
       "</div>"
      ],
      "text/plain": [
       "                 Id    TotalSteps  TotalDistance  TrackerDistance  \\\n",
       "count  9.400000e+02    940.000000     940.000000       940.000000   \n",
       "mean   4.855407e+09   7637.910638       5.489702         5.475351   \n",
       "std    2.424805e+09   5087.150742       3.924606         3.907276   \n",
       "min    1.503960e+09      0.000000       0.000000         0.000000   \n",
       "25%    2.320127e+09   3789.750000       2.620000         2.620000   \n",
       "50%    4.445115e+09   7405.500000       5.245000         5.245000   \n",
       "75%    6.962181e+09  10727.000000       7.712500         7.710000   \n",
       "max    8.877689e+09  36019.000000      28.030001        28.030001   \n",
       "\n",
       "       LoggedActivitiesDistance  VeryActiveDistance  ModeratelyActiveDistance  \\\n",
       "count                940.000000          940.000000                940.000000   \n",
       "mean                   0.108171            1.502681                  0.567543   \n",
       "std                    0.619897            2.658941                  0.883580   \n",
       "min                    0.000000            0.000000                  0.000000   \n",
       "25%                    0.000000            0.000000                  0.000000   \n",
       "50%                    0.000000            0.210000                  0.240000   \n",
       "75%                    0.000000            2.052500                  0.800000   \n",
       "max                    4.942142           21.920000                  6.480000   \n",
       "\n",
       "       LightActiveDistance  SedentaryActiveDistance  VeryActiveMinutes  \\\n",
       "count           940.000000               940.000000         940.000000   \n",
       "mean              3.340819                 0.001606          21.164894   \n",
       "std               2.040655                 0.007346          32.844803   \n",
       "min               0.000000                 0.000000           0.000000   \n",
       "25%               1.945000                 0.000000           0.000000   \n",
       "50%               3.365000                 0.000000           4.000000   \n",
       "75%               4.782500                 0.000000          32.000000   \n",
       "max              10.710000                 0.110000         210.000000   \n",
       "\n",
       "       FairlyActiveMinutes  LightlyActiveMinutes  SedentaryMinutes  \\\n",
       "count           940.000000            940.000000        940.000000   \n",
       "mean             13.564894            192.812766        991.210638   \n",
       "std              19.987404            109.174700        301.267437   \n",
       "min               0.000000              0.000000          0.000000   \n",
       "25%               0.000000            127.000000        729.750000   \n",
       "50%               6.000000            199.000000       1057.500000   \n",
       "75%              19.000000            264.000000       1229.500000   \n",
       "max             143.000000            518.000000       1440.000000   \n",
       "\n",
       "          Calories  \n",
       "count   940.000000  \n",
       "mean   2303.609574  \n",
       "std     718.166862  \n",
       "min       0.000000  \n",
       "25%    1828.500000  \n",
       "50%    2134.000000  \n",
       "75%    2793.250000  \n",
       "max    4900.000000  "
      ]
     },
     "execution_count": 11,
     "metadata": {},
     "output_type": "execute_result"
    }
   ],
   "source": [
    "daily_activity_merged.describe()"
   ]
  },
  {
   "cell_type": "code",
   "execution_count": 12,
   "id": "2fc510ba",
   "metadata": {
    "execution": {
     "iopub.execute_input": "2025-03-22T06:38:24.182991Z",
     "iopub.status.busy": "2025-03-22T06:38:24.182590Z",
     "iopub.status.idle": "2025-03-22T06:38:24.190406Z",
     "shell.execute_reply": "2025-03-22T06:38:24.189362Z"
    },
    "papermill": {
     "duration": 0.025542,
     "end_time": "2025-03-22T06:38:24.192169",
     "exception": false,
     "start_time": "2025-03-22T06:38:24.166627",
     "status": "completed"
    },
    "tags": []
   },
   "outputs": [
    {
     "data": {
      "text/plain": [
       "Id                          0\n",
       "ActivityDate                0\n",
       "TotalSteps                  0\n",
       "TotalDistance               0\n",
       "TrackerDistance             0\n",
       "LoggedActivitiesDistance    0\n",
       "VeryActiveDistance          0\n",
       "ModeratelyActiveDistance    0\n",
       "LightActiveDistance         0\n",
       "SedentaryActiveDistance     0\n",
       "VeryActiveMinutes           0\n",
       "FairlyActiveMinutes         0\n",
       "LightlyActiveMinutes        0\n",
       "SedentaryMinutes            0\n",
       "Calories                    0\n",
       "dtype: int64"
      ]
     },
     "execution_count": 12,
     "metadata": {},
     "output_type": "execute_result"
    }
   ],
   "source": [
    "daily_activity_merged.isnull().sum()"
   ]
  },
  {
   "cell_type": "code",
   "execution_count": 13,
   "id": "d546cd5d",
   "metadata": {
    "execution": {
     "iopub.execute_input": "2025-03-22T06:38:24.223801Z",
     "iopub.status.busy": "2025-03-22T06:38:24.223411Z",
     "iopub.status.idle": "2025-03-22T06:38:24.232596Z",
     "shell.execute_reply": "2025-03-22T06:38:24.231406Z"
    },
    "papermill": {
     "duration": 0.027376,
     "end_time": "2025-03-22T06:38:24.234663",
     "exception": false,
     "start_time": "2025-03-22T06:38:24.207287",
     "status": "completed"
    },
    "tags": []
   },
   "outputs": [
    {
     "data": {
      "text/plain": [
       "0"
      ]
     },
     "execution_count": 13,
     "metadata": {},
     "output_type": "execute_result"
    }
   ],
   "source": [
    "daily_activity_merged.duplicated().sum()"
   ]
  },
  {
   "cell_type": "markdown",
   "id": "346869d0",
   "metadata": {
    "papermill": {
     "duration": 0.015786,
     "end_time": "2025-03-22T06:38:24.266382",
     "exception": false,
     "start_time": "2025-03-22T06:38:24.250596",
     "status": "completed"
    },
    "tags": []
   },
   "source": [
    "## need to change datatype for id and date column.\n",
    "## our data does not have any duplicate or null and nan"
   ]
  },
  {
   "cell_type": "code",
   "execution_count": 14,
   "id": "93d445ed",
   "metadata": {
    "execution": {
     "iopub.execute_input": "2025-03-22T06:38:24.297951Z",
     "iopub.status.busy": "2025-03-22T06:38:24.297565Z",
     "iopub.status.idle": "2025-03-22T06:38:24.303284Z",
     "shell.execute_reply": "2025-03-22T06:38:24.302267Z"
    },
    "papermill": {
     "duration": 0.023876,
     "end_time": "2025-03-22T06:38:24.305392",
     "exception": false,
     "start_time": "2025-03-22T06:38:24.281516",
     "status": "completed"
    },
    "tags": []
   },
   "outputs": [],
   "source": [
    "daily_activity_merged[\"Id\"] = daily_activity_merged[\"Id\"].astype(\"string\")"
   ]
  },
  {
   "cell_type": "code",
   "execution_count": 15,
   "id": "6fbaede1",
   "metadata": {
    "execution": {
     "iopub.execute_input": "2025-03-22T06:38:24.337638Z",
     "iopub.status.busy": "2025-03-22T06:38:24.337281Z",
     "iopub.status.idle": "2025-03-22T06:38:24.348023Z",
     "shell.execute_reply": "2025-03-22T06:38:24.346985Z"
    },
    "papermill": {
     "duration": 0.028641,
     "end_time": "2025-03-22T06:38:24.349848",
     "exception": false,
     "start_time": "2025-03-22T06:38:24.321207",
     "status": "completed"
    },
    "tags": []
   },
   "outputs": [],
   "source": [
    "daily_activity_merged[\"ActivityDate\"] = pd.to_datetime(daily_activity_merged[\"ActivityDate\"])"
   ]
  },
  {
   "cell_type": "code",
   "execution_count": 16,
   "id": "45c133e6",
   "metadata": {
    "execution": {
     "iopub.execute_input": "2025-03-22T06:38:24.383008Z",
     "iopub.status.busy": "2025-03-22T06:38:24.382628Z",
     "iopub.status.idle": "2025-03-22T06:38:24.394439Z",
     "shell.execute_reply": "2025-03-22T06:38:24.393236Z"
    },
    "papermill": {
     "duration": 0.030184,
     "end_time": "2025-03-22T06:38:24.396368",
     "exception": false,
     "start_time": "2025-03-22T06:38:24.366184",
     "status": "completed"
    },
    "tags": []
   },
   "outputs": [
    {
     "name": "stdout",
     "output_type": "stream",
     "text": [
      "<class 'pandas.core.frame.DataFrame'>\n",
      "RangeIndex: 940 entries, 0 to 939\n",
      "Data columns (total 15 columns):\n",
      " #   Column                    Non-Null Count  Dtype         \n",
      "---  ------                    --------------  -----         \n",
      " 0   Id                        940 non-null    string        \n",
      " 1   ActivityDate              940 non-null    datetime64[ns]\n",
      " 2   TotalSteps                940 non-null    int64         \n",
      " 3   TotalDistance             940 non-null    float64       \n",
      " 4   TrackerDistance           940 non-null    float64       \n",
      " 5   LoggedActivitiesDistance  940 non-null    float64       \n",
      " 6   VeryActiveDistance        940 non-null    float64       \n",
      " 7   ModeratelyActiveDistance  940 non-null    float64       \n",
      " 8   LightActiveDistance       940 non-null    float64       \n",
      " 9   SedentaryActiveDistance   940 non-null    float64       \n",
      " 10  VeryActiveMinutes         940 non-null    int64         \n",
      " 11  FairlyActiveMinutes       940 non-null    int64         \n",
      " 12  LightlyActiveMinutes      940 non-null    int64         \n",
      " 13  SedentaryMinutes          940 non-null    int64         \n",
      " 14  Calories                  940 non-null    int64         \n",
      "dtypes: datetime64[ns](1), float64(7), int64(6), string(1)\n",
      "memory usage: 110.3 KB\n"
     ]
    }
   ],
   "source": [
    "daily_activity_merged.info()"
   ]
  },
  {
   "cell_type": "markdown",
   "id": "49291738",
   "metadata": {
    "papermill": {
     "duration": 0.014704,
     "end_time": "2025-03-22T06:38:24.426447",
     "exception": false,
     "start_time": "2025-03-22T06:38:24.411743",
     "status": "completed"
    },
    "tags": []
   },
   "source": [
    "### daily activity dataset is cleaned now."
   ]
  },
  {
   "cell_type": "code",
   "execution_count": 17,
   "id": "1b0e0264",
   "metadata": {
    "execution": {
     "iopub.execute_input": "2025-03-22T06:38:24.458324Z",
     "iopub.status.busy": "2025-03-22T06:38:24.457898Z",
     "iopub.status.idle": "2025-03-22T06:38:24.467425Z",
     "shell.execute_reply": "2025-03-22T06:38:24.466423Z"
    },
    "papermill": {
     "duration": 0.02729,
     "end_time": "2025-03-22T06:38:24.469190",
     "exception": false,
     "start_time": "2025-03-22T06:38:24.441900",
     "status": "completed"
    },
    "tags": []
   },
   "outputs": [
    {
     "data": {
      "text/html": [
       "<div>\n",
       "<style scoped>\n",
       "    .dataframe tbody tr th:only-of-type {\n",
       "        vertical-align: middle;\n",
       "    }\n",
       "\n",
       "    .dataframe tbody tr th {\n",
       "        vertical-align: top;\n",
       "    }\n",
       "\n",
       "    .dataframe thead th {\n",
       "        text-align: right;\n",
       "    }\n",
       "</style>\n",
       "<table border=\"1\" class=\"dataframe\">\n",
       "  <thead>\n",
       "    <tr style=\"text-align: right;\">\n",
       "      <th></th>\n",
       "      <th>Id</th>\n",
       "      <th>ActivityDay</th>\n",
       "      <th>Calories</th>\n",
       "    </tr>\n",
       "  </thead>\n",
       "  <tbody>\n",
       "    <tr>\n",
       "      <th>0</th>\n",
       "      <td>1503960366</td>\n",
       "      <td>4/12/2016</td>\n",
       "      <td>1985</td>\n",
       "    </tr>\n",
       "    <tr>\n",
       "      <th>1</th>\n",
       "      <td>1503960366</td>\n",
       "      <td>4/13/2016</td>\n",
       "      <td>1797</td>\n",
       "    </tr>\n",
       "    <tr>\n",
       "      <th>2</th>\n",
       "      <td>1503960366</td>\n",
       "      <td>4/14/2016</td>\n",
       "      <td>1776</td>\n",
       "    </tr>\n",
       "    <tr>\n",
       "      <th>3</th>\n",
       "      <td>1503960366</td>\n",
       "      <td>4/15/2016</td>\n",
       "      <td>1745</td>\n",
       "    </tr>\n",
       "    <tr>\n",
       "      <th>4</th>\n",
       "      <td>1503960366</td>\n",
       "      <td>4/16/2016</td>\n",
       "      <td>1863</td>\n",
       "    </tr>\n",
       "  </tbody>\n",
       "</table>\n",
       "</div>"
      ],
      "text/plain": [
       "           Id ActivityDay  Calories\n",
       "0  1503960366   4/12/2016      1985\n",
       "1  1503960366   4/13/2016      1797\n",
       "2  1503960366   4/14/2016      1776\n",
       "3  1503960366   4/15/2016      1745\n",
       "4  1503960366   4/16/2016      1863"
      ]
     },
     "execution_count": 17,
     "metadata": {},
     "output_type": "execute_result"
    }
   ],
   "source": [
    "daily_calories_merged.head()\n"
   ]
  },
  {
   "cell_type": "code",
   "execution_count": 18,
   "id": "9f31dedd",
   "metadata": {
    "execution": {
     "iopub.execute_input": "2025-03-22T06:38:24.501459Z",
     "iopub.status.busy": "2025-03-22T06:38:24.500995Z",
     "iopub.status.idle": "2025-03-22T06:38:24.512109Z",
     "shell.execute_reply": "2025-03-22T06:38:24.510843Z"
    },
    "papermill": {
     "duration": 0.029353,
     "end_time": "2025-03-22T06:38:24.514102",
     "exception": false,
     "start_time": "2025-03-22T06:38:24.484749",
     "status": "completed"
    },
    "tags": []
   },
   "outputs": [
    {
     "name": "stdout",
     "output_type": "stream",
     "text": [
      "<class 'pandas.core.frame.DataFrame'>\n",
      "RangeIndex: 940 entries, 0 to 939\n",
      "Data columns (total 3 columns):\n",
      " #   Column       Non-Null Count  Dtype \n",
      "---  ------       --------------  ----- \n",
      " 0   Id           940 non-null    int64 \n",
      " 1   ActivityDay  940 non-null    object\n",
      " 2   Calories     940 non-null    int64 \n",
      "dtypes: int64(2), object(1)\n",
      "memory usage: 22.2+ KB\n"
     ]
    }
   ],
   "source": [
    "daily_calories_merged.info()"
   ]
  },
  {
   "cell_type": "code",
   "execution_count": 19,
   "id": "37602460",
   "metadata": {
    "execution": {
     "iopub.execute_input": "2025-03-22T06:38:24.546628Z",
     "iopub.status.busy": "2025-03-22T06:38:24.546250Z",
     "iopub.status.idle": "2025-03-22T06:38:24.563116Z",
     "shell.execute_reply": "2025-03-22T06:38:24.561787Z"
    },
    "papermill": {
     "duration": 0.03532,
     "end_time": "2025-03-22T06:38:24.565075",
     "exception": false,
     "start_time": "2025-03-22T06:38:24.529755",
     "status": "completed"
    },
    "tags": []
   },
   "outputs": [
    {
     "data": {
      "text/html": [
       "<div>\n",
       "<style scoped>\n",
       "    .dataframe tbody tr th:only-of-type {\n",
       "        vertical-align: middle;\n",
       "    }\n",
       "\n",
       "    .dataframe tbody tr th {\n",
       "        vertical-align: top;\n",
       "    }\n",
       "\n",
       "    .dataframe thead th {\n",
       "        text-align: right;\n",
       "    }\n",
       "</style>\n",
       "<table border=\"1\" class=\"dataframe\">\n",
       "  <thead>\n",
       "    <tr style=\"text-align: right;\">\n",
       "      <th></th>\n",
       "      <th>Id</th>\n",
       "      <th>Calories</th>\n",
       "    </tr>\n",
       "  </thead>\n",
       "  <tbody>\n",
       "    <tr>\n",
       "      <th>count</th>\n",
       "      <td>9.400000e+02</td>\n",
       "      <td>940.000000</td>\n",
       "    </tr>\n",
       "    <tr>\n",
       "      <th>mean</th>\n",
       "      <td>4.855407e+09</td>\n",
       "      <td>2303.609574</td>\n",
       "    </tr>\n",
       "    <tr>\n",
       "      <th>std</th>\n",
       "      <td>2.424805e+09</td>\n",
       "      <td>718.166862</td>\n",
       "    </tr>\n",
       "    <tr>\n",
       "      <th>min</th>\n",
       "      <td>1.503960e+09</td>\n",
       "      <td>0.000000</td>\n",
       "    </tr>\n",
       "    <tr>\n",
       "      <th>25%</th>\n",
       "      <td>2.320127e+09</td>\n",
       "      <td>1828.500000</td>\n",
       "    </tr>\n",
       "    <tr>\n",
       "      <th>50%</th>\n",
       "      <td>4.445115e+09</td>\n",
       "      <td>2134.000000</td>\n",
       "    </tr>\n",
       "    <tr>\n",
       "      <th>75%</th>\n",
       "      <td>6.962181e+09</td>\n",
       "      <td>2793.250000</td>\n",
       "    </tr>\n",
       "    <tr>\n",
       "      <th>max</th>\n",
       "      <td>8.877689e+09</td>\n",
       "      <td>4900.000000</td>\n",
       "    </tr>\n",
       "  </tbody>\n",
       "</table>\n",
       "</div>"
      ],
      "text/plain": [
       "                 Id     Calories\n",
       "count  9.400000e+02   940.000000\n",
       "mean   4.855407e+09  2303.609574\n",
       "std    2.424805e+09   718.166862\n",
       "min    1.503960e+09     0.000000\n",
       "25%    2.320127e+09  1828.500000\n",
       "50%    4.445115e+09  2134.000000\n",
       "75%    6.962181e+09  2793.250000\n",
       "max    8.877689e+09  4900.000000"
      ]
     },
     "execution_count": 19,
     "metadata": {},
     "output_type": "execute_result"
    }
   ],
   "source": [
    "daily_calories_merged.describe()"
   ]
  },
  {
   "cell_type": "code",
   "execution_count": 20,
   "id": "adec79f9",
   "metadata": {
    "execution": {
     "iopub.execute_input": "2025-03-22T06:38:24.598182Z",
     "iopub.status.busy": "2025-03-22T06:38:24.597760Z",
     "iopub.status.idle": "2025-03-22T06:38:24.605495Z",
     "shell.execute_reply": "2025-03-22T06:38:24.604372Z"
    },
    "papermill": {
     "duration": 0.026623,
     "end_time": "2025-03-22T06:38:24.607485",
     "exception": false,
     "start_time": "2025-03-22T06:38:24.580862",
     "status": "completed"
    },
    "tags": []
   },
   "outputs": [
    {
     "data": {
      "text/plain": [
       "Id             0\n",
       "ActivityDay    0\n",
       "Calories       0\n",
       "dtype: int64"
      ]
     },
     "execution_count": 20,
     "metadata": {},
     "output_type": "execute_result"
    }
   ],
   "source": [
    "daily_calories_merged.isnull().sum()"
   ]
  },
  {
   "cell_type": "code",
   "execution_count": 21,
   "id": "016fe2d6",
   "metadata": {
    "execution": {
     "iopub.execute_input": "2025-03-22T06:38:24.641854Z",
     "iopub.status.busy": "2025-03-22T06:38:24.641489Z",
     "iopub.status.idle": "2025-03-22T06:38:24.649051Z",
     "shell.execute_reply": "2025-03-22T06:38:24.647789Z"
    },
    "papermill": {
     "duration": 0.026393,
     "end_time": "2025-03-22T06:38:24.650836",
     "exception": false,
     "start_time": "2025-03-22T06:38:24.624443",
     "status": "completed"
    },
    "tags": []
   },
   "outputs": [
    {
     "data": {
      "text/plain": [
       "0"
      ]
     },
     "execution_count": 21,
     "metadata": {},
     "output_type": "execute_result"
    }
   ],
   "source": [
    "daily_calories_merged.duplicated().sum()"
   ]
  },
  {
   "cell_type": "code",
   "execution_count": 22,
   "id": "4e9d3e83",
   "metadata": {
    "execution": {
     "iopub.execute_input": "2025-03-22T06:38:24.684008Z",
     "iopub.status.busy": "2025-03-22T06:38:24.683639Z",
     "iopub.status.idle": "2025-03-22T06:38:24.691936Z",
     "shell.execute_reply": "2025-03-22T06:38:24.690965Z"
    },
    "papermill": {
     "duration": 0.026618,
     "end_time": "2025-03-22T06:38:24.693586",
     "exception": false,
     "start_time": "2025-03-22T06:38:24.666968",
     "status": "completed"
    },
    "tags": []
   },
   "outputs": [],
   "source": [
    "daily_calories_merged[\"Id\"] = daily_calories_merged[\"Id\"].astype(\"string\")\n",
    "daily_calories_merged[\"ActivityDay\"] = pd.to_datetime(daily_calories_merged[\"ActivityDay\"])"
   ]
  },
  {
   "cell_type": "code",
   "execution_count": 23,
   "id": "90ff471f",
   "metadata": {
    "execution": {
     "iopub.execute_input": "2025-03-22T06:38:24.726719Z",
     "iopub.status.busy": "2025-03-22T06:38:24.726342Z",
     "iopub.status.idle": "2025-03-22T06:38:24.737104Z",
     "shell.execute_reply": "2025-03-22T06:38:24.735584Z"
    },
    "papermill": {
     "duration": 0.029399,
     "end_time": "2025-03-22T06:38:24.738902",
     "exception": false,
     "start_time": "2025-03-22T06:38:24.709503",
     "status": "completed"
    },
    "tags": []
   },
   "outputs": [
    {
     "name": "stdout",
     "output_type": "stream",
     "text": [
      "<class 'pandas.core.frame.DataFrame'>\n",
      "RangeIndex: 940 entries, 0 to 939\n",
      "Data columns (total 3 columns):\n",
      " #   Column       Non-Null Count  Dtype         \n",
      "---  ------       --------------  -----         \n",
      " 0   Id           940 non-null    string        \n",
      " 1   ActivityDay  940 non-null    datetime64[ns]\n",
      " 2   Calories     940 non-null    int64         \n",
      "dtypes: datetime64[ns](1), int64(1), string(1)\n",
      "memory usage: 22.2 KB\n"
     ]
    }
   ],
   "source": [
    "daily_calories_merged.info()"
   ]
  },
  {
   "cell_type": "code",
   "execution_count": 24,
   "id": "cc94978f",
   "metadata": {
    "execution": {
     "iopub.execute_input": "2025-03-22T06:38:24.772466Z",
     "iopub.status.busy": "2025-03-22T06:38:24.772114Z",
     "iopub.status.idle": "2025-03-22T06:38:24.786476Z",
     "shell.execute_reply": "2025-03-22T06:38:24.785282Z"
    },
    "papermill": {
     "duration": 0.033214,
     "end_time": "2025-03-22T06:38:24.788434",
     "exception": false,
     "start_time": "2025-03-22T06:38:24.755220",
     "status": "completed"
    },
    "tags": []
   },
   "outputs": [
    {
     "data": {
      "text/html": [
       "<div>\n",
       "<style scoped>\n",
       "    .dataframe tbody tr th:only-of-type {\n",
       "        vertical-align: middle;\n",
       "    }\n",
       "\n",
       "    .dataframe tbody tr th {\n",
       "        vertical-align: top;\n",
       "    }\n",
       "\n",
       "    .dataframe thead th {\n",
       "        text-align: right;\n",
       "    }\n",
       "</style>\n",
       "<table border=\"1\" class=\"dataframe\">\n",
       "  <thead>\n",
       "    <tr style=\"text-align: right;\">\n",
       "      <th></th>\n",
       "      <th>Id</th>\n",
       "      <th>ActivityDay</th>\n",
       "      <th>SedentaryMinutes</th>\n",
       "      <th>LightlyActiveMinutes</th>\n",
       "      <th>FairlyActiveMinutes</th>\n",
       "      <th>VeryActiveMinutes</th>\n",
       "      <th>SedentaryActiveDistance</th>\n",
       "      <th>LightActiveDistance</th>\n",
       "      <th>ModeratelyActiveDistance</th>\n",
       "      <th>VeryActiveDistance</th>\n",
       "    </tr>\n",
       "  </thead>\n",
       "  <tbody>\n",
       "    <tr>\n",
       "      <th>0</th>\n",
       "      <td>1503960366</td>\n",
       "      <td>4/12/2016</td>\n",
       "      <td>728</td>\n",
       "      <td>328</td>\n",
       "      <td>13</td>\n",
       "      <td>25</td>\n",
       "      <td>0.0</td>\n",
       "      <td>6.06</td>\n",
       "      <td>0.55</td>\n",
       "      <td>1.88</td>\n",
       "    </tr>\n",
       "    <tr>\n",
       "      <th>1</th>\n",
       "      <td>1503960366</td>\n",
       "      <td>4/13/2016</td>\n",
       "      <td>776</td>\n",
       "      <td>217</td>\n",
       "      <td>19</td>\n",
       "      <td>21</td>\n",
       "      <td>0.0</td>\n",
       "      <td>4.71</td>\n",
       "      <td>0.69</td>\n",
       "      <td>1.57</td>\n",
       "    </tr>\n",
       "    <tr>\n",
       "      <th>2</th>\n",
       "      <td>1503960366</td>\n",
       "      <td>4/14/2016</td>\n",
       "      <td>1218</td>\n",
       "      <td>181</td>\n",
       "      <td>11</td>\n",
       "      <td>30</td>\n",
       "      <td>0.0</td>\n",
       "      <td>3.91</td>\n",
       "      <td>0.40</td>\n",
       "      <td>2.44</td>\n",
       "    </tr>\n",
       "    <tr>\n",
       "      <th>3</th>\n",
       "      <td>1503960366</td>\n",
       "      <td>4/15/2016</td>\n",
       "      <td>726</td>\n",
       "      <td>209</td>\n",
       "      <td>34</td>\n",
       "      <td>29</td>\n",
       "      <td>0.0</td>\n",
       "      <td>2.83</td>\n",
       "      <td>1.26</td>\n",
       "      <td>2.14</td>\n",
       "    </tr>\n",
       "    <tr>\n",
       "      <th>4</th>\n",
       "      <td>1503960366</td>\n",
       "      <td>4/16/2016</td>\n",
       "      <td>773</td>\n",
       "      <td>221</td>\n",
       "      <td>10</td>\n",
       "      <td>36</td>\n",
       "      <td>0.0</td>\n",
       "      <td>5.04</td>\n",
       "      <td>0.41</td>\n",
       "      <td>2.71</td>\n",
       "    </tr>\n",
       "  </tbody>\n",
       "</table>\n",
       "</div>"
      ],
      "text/plain": [
       "           Id ActivityDay  SedentaryMinutes  LightlyActiveMinutes  \\\n",
       "0  1503960366   4/12/2016               728                   328   \n",
       "1  1503960366   4/13/2016               776                   217   \n",
       "2  1503960366   4/14/2016              1218                   181   \n",
       "3  1503960366   4/15/2016               726                   209   \n",
       "4  1503960366   4/16/2016               773                   221   \n",
       "\n",
       "   FairlyActiveMinutes  VeryActiveMinutes  SedentaryActiveDistance  \\\n",
       "0                   13                 25                      0.0   \n",
       "1                   19                 21                      0.0   \n",
       "2                   11                 30                      0.0   \n",
       "3                   34                 29                      0.0   \n",
       "4                   10                 36                      0.0   \n",
       "\n",
       "   LightActiveDistance  ModeratelyActiveDistance  VeryActiveDistance  \n",
       "0                 6.06                      0.55                1.88  \n",
       "1                 4.71                      0.69                1.57  \n",
       "2                 3.91                      0.40                2.44  \n",
       "3                 2.83                      1.26                2.14  \n",
       "4                 5.04                      0.41                2.71  "
      ]
     },
     "execution_count": 24,
     "metadata": {},
     "output_type": "execute_result"
    }
   ],
   "source": [
    "daily_intensity_merged.head()"
   ]
  },
  {
   "cell_type": "code",
   "execution_count": 25,
   "id": "6161d501",
   "metadata": {
    "execution": {
     "iopub.execute_input": "2025-03-22T06:38:24.822988Z",
     "iopub.status.busy": "2025-03-22T06:38:24.822581Z",
     "iopub.status.idle": "2025-03-22T06:38:24.834367Z",
     "shell.execute_reply": "2025-03-22T06:38:24.833082Z"
    },
    "papermill": {
     "duration": 0.031302,
     "end_time": "2025-03-22T06:38:24.836270",
     "exception": false,
     "start_time": "2025-03-22T06:38:24.804968",
     "status": "completed"
    },
    "tags": []
   },
   "outputs": [
    {
     "name": "stdout",
     "output_type": "stream",
     "text": [
      "<class 'pandas.core.frame.DataFrame'>\n",
      "RangeIndex: 940 entries, 0 to 939\n",
      "Data columns (total 10 columns):\n",
      " #   Column                    Non-Null Count  Dtype  \n",
      "---  ------                    --------------  -----  \n",
      " 0   Id                        940 non-null    int64  \n",
      " 1   ActivityDay               940 non-null    object \n",
      " 2   SedentaryMinutes          940 non-null    int64  \n",
      " 3   LightlyActiveMinutes      940 non-null    int64  \n",
      " 4   FairlyActiveMinutes       940 non-null    int64  \n",
      " 5   VeryActiveMinutes         940 non-null    int64  \n",
      " 6   SedentaryActiveDistance   940 non-null    float64\n",
      " 7   LightActiveDistance       940 non-null    float64\n",
      " 8   ModeratelyActiveDistance  940 non-null    float64\n",
      " 9   VeryActiveDistance        940 non-null    float64\n",
      "dtypes: float64(4), int64(5), object(1)\n",
      "memory usage: 73.6+ KB\n"
     ]
    }
   ],
   "source": [
    "daily_intensity_merged.info()"
   ]
  },
  {
   "cell_type": "code",
   "execution_count": 26,
   "id": "354cb592",
   "metadata": {
    "execution": {
     "iopub.execute_input": "2025-03-22T06:38:24.870081Z",
     "iopub.status.busy": "2025-03-22T06:38:24.869670Z",
     "iopub.status.idle": "2025-03-22T06:38:24.900780Z",
     "shell.execute_reply": "2025-03-22T06:38:24.899696Z"
    },
    "papermill": {
     "duration": 0.050085,
     "end_time": "2025-03-22T06:38:24.902707",
     "exception": false,
     "start_time": "2025-03-22T06:38:24.852622",
     "status": "completed"
    },
    "tags": []
   },
   "outputs": [
    {
     "data": {
      "text/html": [
       "<div>\n",
       "<style scoped>\n",
       "    .dataframe tbody tr th:only-of-type {\n",
       "        vertical-align: middle;\n",
       "    }\n",
       "\n",
       "    .dataframe tbody tr th {\n",
       "        vertical-align: top;\n",
       "    }\n",
       "\n",
       "    .dataframe thead th {\n",
       "        text-align: right;\n",
       "    }\n",
       "</style>\n",
       "<table border=\"1\" class=\"dataframe\">\n",
       "  <thead>\n",
       "    <tr style=\"text-align: right;\">\n",
       "      <th></th>\n",
       "      <th>Id</th>\n",
       "      <th>SedentaryMinutes</th>\n",
       "      <th>LightlyActiveMinutes</th>\n",
       "      <th>FairlyActiveMinutes</th>\n",
       "      <th>VeryActiveMinutes</th>\n",
       "      <th>SedentaryActiveDistance</th>\n",
       "      <th>LightActiveDistance</th>\n",
       "      <th>ModeratelyActiveDistance</th>\n",
       "      <th>VeryActiveDistance</th>\n",
       "    </tr>\n",
       "  </thead>\n",
       "  <tbody>\n",
       "    <tr>\n",
       "      <th>count</th>\n",
       "      <td>9.400000e+02</td>\n",
       "      <td>940.000000</td>\n",
       "      <td>940.000000</td>\n",
       "      <td>940.000000</td>\n",
       "      <td>940.000000</td>\n",
       "      <td>940.000000</td>\n",
       "      <td>940.000000</td>\n",
       "      <td>940.000000</td>\n",
       "      <td>940.000000</td>\n",
       "    </tr>\n",
       "    <tr>\n",
       "      <th>mean</th>\n",
       "      <td>4.855407e+09</td>\n",
       "      <td>991.210638</td>\n",
       "      <td>192.812766</td>\n",
       "      <td>13.564894</td>\n",
       "      <td>21.164894</td>\n",
       "      <td>0.001606</td>\n",
       "      <td>3.340819</td>\n",
       "      <td>0.567543</td>\n",
       "      <td>1.502681</td>\n",
       "    </tr>\n",
       "    <tr>\n",
       "      <th>std</th>\n",
       "      <td>2.424805e+09</td>\n",
       "      <td>301.267437</td>\n",
       "      <td>109.174700</td>\n",
       "      <td>19.987404</td>\n",
       "      <td>32.844803</td>\n",
       "      <td>0.007346</td>\n",
       "      <td>2.040655</td>\n",
       "      <td>0.883580</td>\n",
       "      <td>2.658941</td>\n",
       "    </tr>\n",
       "    <tr>\n",
       "      <th>min</th>\n",
       "      <td>1.503960e+09</td>\n",
       "      <td>0.000000</td>\n",
       "      <td>0.000000</td>\n",
       "      <td>0.000000</td>\n",
       "      <td>0.000000</td>\n",
       "      <td>0.000000</td>\n",
       "      <td>0.000000</td>\n",
       "      <td>0.000000</td>\n",
       "      <td>0.000000</td>\n",
       "    </tr>\n",
       "    <tr>\n",
       "      <th>25%</th>\n",
       "      <td>2.320127e+09</td>\n",
       "      <td>729.750000</td>\n",
       "      <td>127.000000</td>\n",
       "      <td>0.000000</td>\n",
       "      <td>0.000000</td>\n",
       "      <td>0.000000</td>\n",
       "      <td>1.945000</td>\n",
       "      <td>0.000000</td>\n",
       "      <td>0.000000</td>\n",
       "    </tr>\n",
       "    <tr>\n",
       "      <th>50%</th>\n",
       "      <td>4.445115e+09</td>\n",
       "      <td>1057.500000</td>\n",
       "      <td>199.000000</td>\n",
       "      <td>6.000000</td>\n",
       "      <td>4.000000</td>\n",
       "      <td>0.000000</td>\n",
       "      <td>3.365000</td>\n",
       "      <td>0.240000</td>\n",
       "      <td>0.210000</td>\n",
       "    </tr>\n",
       "    <tr>\n",
       "      <th>75%</th>\n",
       "      <td>6.962181e+09</td>\n",
       "      <td>1229.500000</td>\n",
       "      <td>264.000000</td>\n",
       "      <td>19.000000</td>\n",
       "      <td>32.000000</td>\n",
       "      <td>0.000000</td>\n",
       "      <td>4.782500</td>\n",
       "      <td>0.800000</td>\n",
       "      <td>2.052500</td>\n",
       "    </tr>\n",
       "    <tr>\n",
       "      <th>max</th>\n",
       "      <td>8.877689e+09</td>\n",
       "      <td>1440.000000</td>\n",
       "      <td>518.000000</td>\n",
       "      <td>143.000000</td>\n",
       "      <td>210.000000</td>\n",
       "      <td>0.110000</td>\n",
       "      <td>10.710000</td>\n",
       "      <td>6.480000</td>\n",
       "      <td>21.920000</td>\n",
       "    </tr>\n",
       "  </tbody>\n",
       "</table>\n",
       "</div>"
      ],
      "text/plain": [
       "                 Id  SedentaryMinutes  LightlyActiveMinutes  \\\n",
       "count  9.400000e+02        940.000000            940.000000   \n",
       "mean   4.855407e+09        991.210638            192.812766   \n",
       "std    2.424805e+09        301.267437            109.174700   \n",
       "min    1.503960e+09          0.000000              0.000000   \n",
       "25%    2.320127e+09        729.750000            127.000000   \n",
       "50%    4.445115e+09       1057.500000            199.000000   \n",
       "75%    6.962181e+09       1229.500000            264.000000   \n",
       "max    8.877689e+09       1440.000000            518.000000   \n",
       "\n",
       "       FairlyActiveMinutes  VeryActiveMinutes  SedentaryActiveDistance  \\\n",
       "count           940.000000         940.000000               940.000000   \n",
       "mean             13.564894          21.164894                 0.001606   \n",
       "std              19.987404          32.844803                 0.007346   \n",
       "min               0.000000           0.000000                 0.000000   \n",
       "25%               0.000000           0.000000                 0.000000   \n",
       "50%               6.000000           4.000000                 0.000000   \n",
       "75%              19.000000          32.000000                 0.000000   \n",
       "max             143.000000         210.000000                 0.110000   \n",
       "\n",
       "       LightActiveDistance  ModeratelyActiveDistance  VeryActiveDistance  \n",
       "count           940.000000                940.000000          940.000000  \n",
       "mean              3.340819                  0.567543            1.502681  \n",
       "std               2.040655                  0.883580            2.658941  \n",
       "min               0.000000                  0.000000            0.000000  \n",
       "25%               1.945000                  0.000000            0.000000  \n",
       "50%               3.365000                  0.240000            0.210000  \n",
       "75%               4.782500                  0.800000            2.052500  \n",
       "max              10.710000                  6.480000           21.920000  "
      ]
     },
     "execution_count": 26,
     "metadata": {},
     "output_type": "execute_result"
    }
   ],
   "source": [
    "daily_intensity_merged.describe()"
   ]
  },
  {
   "cell_type": "code",
   "execution_count": 27,
   "id": "d7f7dc5d",
   "metadata": {
    "execution": {
     "iopub.execute_input": "2025-03-22T06:38:24.937667Z",
     "iopub.status.busy": "2025-03-22T06:38:24.937294Z",
     "iopub.status.idle": "2025-03-22T06:38:24.945473Z",
     "shell.execute_reply": "2025-03-22T06:38:24.944090Z"
    },
    "papermill": {
     "duration": 0.028068,
     "end_time": "2025-03-22T06:38:24.947413",
     "exception": false,
     "start_time": "2025-03-22T06:38:24.919345",
     "status": "completed"
    },
    "tags": []
   },
   "outputs": [
    {
     "data": {
      "text/plain": [
       "Id                          0\n",
       "ActivityDay                 0\n",
       "SedentaryMinutes            0\n",
       "LightlyActiveMinutes        0\n",
       "FairlyActiveMinutes         0\n",
       "VeryActiveMinutes           0\n",
       "SedentaryActiveDistance     0\n",
       "LightActiveDistance         0\n",
       "ModeratelyActiveDistance    0\n",
       "VeryActiveDistance          0\n",
       "dtype: int64"
      ]
     },
     "execution_count": 27,
     "metadata": {},
     "output_type": "execute_result"
    }
   ],
   "source": [
    "daily_intensity_merged.isnull().sum()"
   ]
  },
  {
   "cell_type": "code",
   "execution_count": 28,
   "id": "a048a304",
   "metadata": {
    "execution": {
     "iopub.execute_input": "2025-03-22T06:38:24.982506Z",
     "iopub.status.busy": "2025-03-22T06:38:24.982135Z",
     "iopub.status.idle": "2025-03-22T06:38:24.990031Z",
     "shell.execute_reply": "2025-03-22T06:38:24.988944Z"
    },
    "papermill": {
     "duration": 0.027657,
     "end_time": "2025-03-22T06:38:24.991781",
     "exception": false,
     "start_time": "2025-03-22T06:38:24.964124",
     "status": "completed"
    },
    "tags": []
   },
   "outputs": [
    {
     "data": {
      "text/plain": [
       "0"
      ]
     },
     "execution_count": 28,
     "metadata": {},
     "output_type": "execute_result"
    }
   ],
   "source": [
    "daily_intensity_merged.duplicated().sum()"
   ]
  },
  {
   "cell_type": "code",
   "execution_count": 29,
   "id": "96b9097f",
   "metadata": {
    "execution": {
     "iopub.execute_input": "2025-03-22T06:38:25.027372Z",
     "iopub.status.busy": "2025-03-22T06:38:25.027001Z",
     "iopub.status.idle": "2025-03-22T06:38:25.035937Z",
     "shell.execute_reply": "2025-03-22T06:38:25.034868Z"
    },
    "papermill": {
     "duration": 0.029164,
     "end_time": "2025-03-22T06:38:25.037968",
     "exception": false,
     "start_time": "2025-03-22T06:38:25.008804",
     "status": "completed"
    },
    "tags": []
   },
   "outputs": [],
   "source": [
    "daily_intensity_merged[\"Id\"] = daily_intensity_merged[\"Id\"].astype(\"string\")\n",
    "daily_intensity_merged[\"ActivityDay\"] = pd.to_datetime(daily_intensity_merged[\"ActivityDay\"])"
   ]
  },
  {
   "cell_type": "code",
   "execution_count": 30,
   "id": "7f516e20",
   "metadata": {
    "execution": {
     "iopub.execute_input": "2025-03-22T06:38:25.123129Z",
     "iopub.status.busy": "2025-03-22T06:38:25.122715Z",
     "iopub.status.idle": "2025-03-22T06:38:25.134624Z",
     "shell.execute_reply": "2025-03-22T06:38:25.133261Z"
    },
    "papermill": {
     "duration": 0.081876,
     "end_time": "2025-03-22T06:38:25.136656",
     "exception": false,
     "start_time": "2025-03-22T06:38:25.054780",
     "status": "completed"
    },
    "tags": []
   },
   "outputs": [
    {
     "name": "stdout",
     "output_type": "stream",
     "text": [
      "<class 'pandas.core.frame.DataFrame'>\n",
      "RangeIndex: 940 entries, 0 to 939\n",
      "Data columns (total 10 columns):\n",
      " #   Column                    Non-Null Count  Dtype         \n",
      "---  ------                    --------------  -----         \n",
      " 0   Id                        940 non-null    string        \n",
      " 1   ActivityDay               940 non-null    datetime64[ns]\n",
      " 2   SedentaryMinutes          940 non-null    int64         \n",
      " 3   LightlyActiveMinutes      940 non-null    int64         \n",
      " 4   FairlyActiveMinutes       940 non-null    int64         \n",
      " 5   VeryActiveMinutes         940 non-null    int64         \n",
      " 6   SedentaryActiveDistance   940 non-null    float64       \n",
      " 7   LightActiveDistance       940 non-null    float64       \n",
      " 8   ModeratelyActiveDistance  940 non-null    float64       \n",
      " 9   VeryActiveDistance        940 non-null    float64       \n",
      "dtypes: datetime64[ns](1), float64(4), int64(4), string(1)\n",
      "memory usage: 73.6 KB\n"
     ]
    }
   ],
   "source": [
    "daily_intensity_merged.info()"
   ]
  },
  {
   "cell_type": "code",
   "execution_count": 31,
   "id": "61308408",
   "metadata": {
    "execution": {
     "iopub.execute_input": "2025-03-22T06:38:25.175693Z",
     "iopub.status.busy": "2025-03-22T06:38:25.175291Z",
     "iopub.status.idle": "2025-03-22T06:38:25.185840Z",
     "shell.execute_reply": "2025-03-22T06:38:25.184462Z"
    },
    "papermill": {
     "duration": 0.032743,
     "end_time": "2025-03-22T06:38:25.187796",
     "exception": false,
     "start_time": "2025-03-22T06:38:25.155053",
     "status": "completed"
    },
    "tags": []
   },
   "outputs": [
    {
     "data": {
      "text/html": [
       "<div>\n",
       "<style scoped>\n",
       "    .dataframe tbody tr th:only-of-type {\n",
       "        vertical-align: middle;\n",
       "    }\n",
       "\n",
       "    .dataframe tbody tr th {\n",
       "        vertical-align: top;\n",
       "    }\n",
       "\n",
       "    .dataframe thead th {\n",
       "        text-align: right;\n",
       "    }\n",
       "</style>\n",
       "<table border=\"1\" class=\"dataframe\">\n",
       "  <thead>\n",
       "    <tr style=\"text-align: right;\">\n",
       "      <th></th>\n",
       "      <th>Id</th>\n",
       "      <th>ActivityDay</th>\n",
       "      <th>StepTotal</th>\n",
       "    </tr>\n",
       "  </thead>\n",
       "  <tbody>\n",
       "    <tr>\n",
       "      <th>0</th>\n",
       "      <td>1503960366</td>\n",
       "      <td>4/12/2016</td>\n",
       "      <td>13162</td>\n",
       "    </tr>\n",
       "    <tr>\n",
       "      <th>1</th>\n",
       "      <td>1503960366</td>\n",
       "      <td>4/13/2016</td>\n",
       "      <td>10735</td>\n",
       "    </tr>\n",
       "    <tr>\n",
       "      <th>2</th>\n",
       "      <td>1503960366</td>\n",
       "      <td>4/14/2016</td>\n",
       "      <td>10460</td>\n",
       "    </tr>\n",
       "    <tr>\n",
       "      <th>3</th>\n",
       "      <td>1503960366</td>\n",
       "      <td>4/15/2016</td>\n",
       "      <td>9762</td>\n",
       "    </tr>\n",
       "    <tr>\n",
       "      <th>4</th>\n",
       "      <td>1503960366</td>\n",
       "      <td>4/16/2016</td>\n",
       "      <td>12669</td>\n",
       "    </tr>\n",
       "  </tbody>\n",
       "</table>\n",
       "</div>"
      ],
      "text/plain": [
       "           Id ActivityDay  StepTotal\n",
       "0  1503960366   4/12/2016      13162\n",
       "1  1503960366   4/13/2016      10735\n",
       "2  1503960366   4/14/2016      10460\n",
       "3  1503960366   4/15/2016       9762\n",
       "4  1503960366   4/16/2016      12669"
      ]
     },
     "execution_count": 31,
     "metadata": {},
     "output_type": "execute_result"
    }
   ],
   "source": [
    "daily_steps_merged.head()"
   ]
  },
  {
   "cell_type": "code",
   "execution_count": 32,
   "id": "616d61a1",
   "metadata": {
    "execution": {
     "iopub.execute_input": "2025-03-22T06:38:25.223664Z",
     "iopub.status.busy": "2025-03-22T06:38:25.223297Z",
     "iopub.status.idle": "2025-03-22T06:38:25.234436Z",
     "shell.execute_reply": "2025-03-22T06:38:25.232962Z"
    },
    "papermill": {
     "duration": 0.031255,
     "end_time": "2025-03-22T06:38:25.236351",
     "exception": false,
     "start_time": "2025-03-22T06:38:25.205096",
     "status": "completed"
    },
    "tags": []
   },
   "outputs": [
    {
     "name": "stdout",
     "output_type": "stream",
     "text": [
      "<class 'pandas.core.frame.DataFrame'>\n",
      "RangeIndex: 940 entries, 0 to 939\n",
      "Data columns (total 3 columns):\n",
      " #   Column       Non-Null Count  Dtype \n",
      "---  ------       --------------  ----- \n",
      " 0   Id           940 non-null    int64 \n",
      " 1   ActivityDay  940 non-null    object\n",
      " 2   StepTotal    940 non-null    int64 \n",
      "dtypes: int64(2), object(1)\n",
      "memory usage: 22.2+ KB\n"
     ]
    }
   ],
   "source": [
    "daily_steps_merged.info()"
   ]
  },
  {
   "cell_type": "code",
   "execution_count": 33,
   "id": "ba76a9e6",
   "metadata": {
    "execution": {
     "iopub.execute_input": "2025-03-22T06:38:25.272430Z",
     "iopub.status.busy": "2025-03-22T06:38:25.272017Z",
     "iopub.status.idle": "2025-03-22T06:38:25.288571Z",
     "shell.execute_reply": "2025-03-22T06:38:25.287388Z"
    },
    "papermill": {
     "duration": 0.036702,
     "end_time": "2025-03-22T06:38:25.290506",
     "exception": false,
     "start_time": "2025-03-22T06:38:25.253804",
     "status": "completed"
    },
    "tags": []
   },
   "outputs": [
    {
     "data": {
      "text/html": [
       "<div>\n",
       "<style scoped>\n",
       "    .dataframe tbody tr th:only-of-type {\n",
       "        vertical-align: middle;\n",
       "    }\n",
       "\n",
       "    .dataframe tbody tr th {\n",
       "        vertical-align: top;\n",
       "    }\n",
       "\n",
       "    .dataframe thead th {\n",
       "        text-align: right;\n",
       "    }\n",
       "</style>\n",
       "<table border=\"1\" class=\"dataframe\">\n",
       "  <thead>\n",
       "    <tr style=\"text-align: right;\">\n",
       "      <th></th>\n",
       "      <th>Id</th>\n",
       "      <th>StepTotal</th>\n",
       "    </tr>\n",
       "  </thead>\n",
       "  <tbody>\n",
       "    <tr>\n",
       "      <th>count</th>\n",
       "      <td>9.400000e+02</td>\n",
       "      <td>940.000000</td>\n",
       "    </tr>\n",
       "    <tr>\n",
       "      <th>mean</th>\n",
       "      <td>4.855407e+09</td>\n",
       "      <td>7637.910638</td>\n",
       "    </tr>\n",
       "    <tr>\n",
       "      <th>std</th>\n",
       "      <td>2.424805e+09</td>\n",
       "      <td>5087.150742</td>\n",
       "    </tr>\n",
       "    <tr>\n",
       "      <th>min</th>\n",
       "      <td>1.503960e+09</td>\n",
       "      <td>0.000000</td>\n",
       "    </tr>\n",
       "    <tr>\n",
       "      <th>25%</th>\n",
       "      <td>2.320127e+09</td>\n",
       "      <td>3789.750000</td>\n",
       "    </tr>\n",
       "    <tr>\n",
       "      <th>50%</th>\n",
       "      <td>4.445115e+09</td>\n",
       "      <td>7405.500000</td>\n",
       "    </tr>\n",
       "    <tr>\n",
       "      <th>75%</th>\n",
       "      <td>6.962181e+09</td>\n",
       "      <td>10727.000000</td>\n",
       "    </tr>\n",
       "    <tr>\n",
       "      <th>max</th>\n",
       "      <td>8.877689e+09</td>\n",
       "      <td>36019.000000</td>\n",
       "    </tr>\n",
       "  </tbody>\n",
       "</table>\n",
       "</div>"
      ],
      "text/plain": [
       "                 Id     StepTotal\n",
       "count  9.400000e+02    940.000000\n",
       "mean   4.855407e+09   7637.910638\n",
       "std    2.424805e+09   5087.150742\n",
       "min    1.503960e+09      0.000000\n",
       "25%    2.320127e+09   3789.750000\n",
       "50%    4.445115e+09   7405.500000\n",
       "75%    6.962181e+09  10727.000000\n",
       "max    8.877689e+09  36019.000000"
      ]
     },
     "execution_count": 33,
     "metadata": {},
     "output_type": "execute_result"
    }
   ],
   "source": [
    "daily_steps_merged.describe()"
   ]
  },
  {
   "cell_type": "code",
   "execution_count": 34,
   "id": "608481cf",
   "metadata": {
    "execution": {
     "iopub.execute_input": "2025-03-22T06:38:25.326693Z",
     "iopub.status.busy": "2025-03-22T06:38:25.326293Z",
     "iopub.status.idle": "2025-03-22T06:38:25.334356Z",
     "shell.execute_reply": "2025-03-22T06:38:25.332875Z"
    },
    "papermill": {
     "duration": 0.028321,
     "end_time": "2025-03-22T06:38:25.336358",
     "exception": false,
     "start_time": "2025-03-22T06:38:25.308037",
     "status": "completed"
    },
    "tags": []
   },
   "outputs": [
    {
     "data": {
      "text/plain": [
       "Id             0\n",
       "ActivityDay    0\n",
       "StepTotal      0\n",
       "dtype: int64"
      ]
     },
     "execution_count": 34,
     "metadata": {},
     "output_type": "execute_result"
    }
   ],
   "source": [
    "daily_steps_merged.isnull().sum()"
   ]
  },
  {
   "cell_type": "code",
   "execution_count": 35,
   "id": "6da38c81",
   "metadata": {
    "execution": {
     "iopub.execute_input": "2025-03-22T06:38:25.372739Z",
     "iopub.status.busy": "2025-03-22T06:38:25.372370Z",
     "iopub.status.idle": "2025-03-22T06:38:25.380150Z",
     "shell.execute_reply": "2025-03-22T06:38:25.378826Z"
    },
    "papermill": {
     "duration": 0.028019,
     "end_time": "2025-03-22T06:38:25.381992",
     "exception": false,
     "start_time": "2025-03-22T06:38:25.353973",
     "status": "completed"
    },
    "tags": []
   },
   "outputs": [
    {
     "data": {
      "text/plain": [
       "0"
      ]
     },
     "execution_count": 35,
     "metadata": {},
     "output_type": "execute_result"
    }
   ],
   "source": [
    "daily_steps_merged.duplicated().sum()"
   ]
  },
  {
   "cell_type": "code",
   "execution_count": 36,
   "id": "2b878dcd",
   "metadata": {
    "execution": {
     "iopub.execute_input": "2025-03-22T06:38:25.420297Z",
     "iopub.status.busy": "2025-03-22T06:38:25.419886Z",
     "iopub.status.idle": "2025-03-22T06:38:25.428131Z",
     "shell.execute_reply": "2025-03-22T06:38:25.426874Z"
    },
    "papermill": {
     "duration": 0.029256,
     "end_time": "2025-03-22T06:38:25.430115",
     "exception": false,
     "start_time": "2025-03-22T06:38:25.400859",
     "status": "completed"
    },
    "tags": []
   },
   "outputs": [],
   "source": [
    "daily_steps_merged[\"Id\"] = daily_steps_merged[\"Id\"].astype(\"string\")\n",
    "daily_steps_merged[\"ActivityDay\"] = pd.to_datetime(daily_steps_merged[\"ActivityDay\"])"
   ]
  },
  {
   "cell_type": "code",
   "execution_count": 37,
   "id": "eadf8fbc",
   "metadata": {
    "execution": {
     "iopub.execute_input": "2025-03-22T06:38:25.467354Z",
     "iopub.status.busy": "2025-03-22T06:38:25.466988Z",
     "iopub.status.idle": "2025-03-22T06:38:25.478276Z",
     "shell.execute_reply": "2025-03-22T06:38:25.476635Z"
    },
    "papermill": {
     "duration": 0.032273,
     "end_time": "2025-03-22T06:38:25.480135",
     "exception": false,
     "start_time": "2025-03-22T06:38:25.447862",
     "status": "completed"
    },
    "tags": []
   },
   "outputs": [
    {
     "name": "stdout",
     "output_type": "stream",
     "text": [
      "<class 'pandas.core.frame.DataFrame'>\n",
      "RangeIndex: 940 entries, 0 to 939\n",
      "Data columns (total 3 columns):\n",
      " #   Column       Non-Null Count  Dtype         \n",
      "---  ------       --------------  -----         \n",
      " 0   Id           940 non-null    string        \n",
      " 1   ActivityDay  940 non-null    datetime64[ns]\n",
      " 2   StepTotal    940 non-null    int64         \n",
      "dtypes: datetime64[ns](1), int64(1), string(1)\n",
      "memory usage: 22.2 KB\n"
     ]
    }
   ],
   "source": [
    "daily_steps_merged.info()"
   ]
  },
  {
   "cell_type": "code",
   "execution_count": 38,
   "id": "bdb9e3ac",
   "metadata": {
    "execution": {
     "iopub.execute_input": "2025-03-22T06:38:25.518296Z",
     "iopub.status.busy": "2025-03-22T06:38:25.517890Z",
     "iopub.status.idle": "2025-03-22T06:38:25.528080Z",
     "shell.execute_reply": "2025-03-22T06:38:25.526836Z"
    },
    "papermill": {
     "duration": 0.03145,
     "end_time": "2025-03-22T06:38:25.530342",
     "exception": false,
     "start_time": "2025-03-22T06:38:25.498892",
     "status": "completed"
    },
    "tags": []
   },
   "outputs": [
    {
     "data": {
      "text/html": [
       "<div>\n",
       "<style scoped>\n",
       "    .dataframe tbody tr th:only-of-type {\n",
       "        vertical-align: middle;\n",
       "    }\n",
       "\n",
       "    .dataframe tbody tr th {\n",
       "        vertical-align: top;\n",
       "    }\n",
       "\n",
       "    .dataframe thead th {\n",
       "        text-align: right;\n",
       "    }\n",
       "</style>\n",
       "<table border=\"1\" class=\"dataframe\">\n",
       "  <thead>\n",
       "    <tr style=\"text-align: right;\">\n",
       "      <th></th>\n",
       "      <th>Id</th>\n",
       "      <th>SleepDay</th>\n",
       "      <th>TotalSleepRecords</th>\n",
       "      <th>TotalMinutesAsleep</th>\n",
       "      <th>TotalTimeInBed</th>\n",
       "    </tr>\n",
       "  </thead>\n",
       "  <tbody>\n",
       "    <tr>\n",
       "      <th>0</th>\n",
       "      <td>1503960366</td>\n",
       "      <td>4/12/2016 12:00:00 AM</td>\n",
       "      <td>1</td>\n",
       "      <td>327</td>\n",
       "      <td>346</td>\n",
       "    </tr>\n",
       "    <tr>\n",
       "      <th>1</th>\n",
       "      <td>1503960366</td>\n",
       "      <td>4/13/2016 12:00:00 AM</td>\n",
       "      <td>2</td>\n",
       "      <td>384</td>\n",
       "      <td>407</td>\n",
       "    </tr>\n",
       "    <tr>\n",
       "      <th>2</th>\n",
       "      <td>1503960366</td>\n",
       "      <td>4/15/2016 12:00:00 AM</td>\n",
       "      <td>1</td>\n",
       "      <td>412</td>\n",
       "      <td>442</td>\n",
       "    </tr>\n",
       "    <tr>\n",
       "      <th>3</th>\n",
       "      <td>1503960366</td>\n",
       "      <td>4/16/2016 12:00:00 AM</td>\n",
       "      <td>2</td>\n",
       "      <td>340</td>\n",
       "      <td>367</td>\n",
       "    </tr>\n",
       "    <tr>\n",
       "      <th>4</th>\n",
       "      <td>1503960366</td>\n",
       "      <td>4/17/2016 12:00:00 AM</td>\n",
       "      <td>1</td>\n",
       "      <td>700</td>\n",
       "      <td>712</td>\n",
       "    </tr>\n",
       "  </tbody>\n",
       "</table>\n",
       "</div>"
      ],
      "text/plain": [
       "           Id               SleepDay  TotalSleepRecords  TotalMinutesAsleep  \\\n",
       "0  1503960366  4/12/2016 12:00:00 AM                  1                 327   \n",
       "1  1503960366  4/13/2016 12:00:00 AM                  2                 384   \n",
       "2  1503960366  4/15/2016 12:00:00 AM                  1                 412   \n",
       "3  1503960366  4/16/2016 12:00:00 AM                  2                 340   \n",
       "4  1503960366  4/17/2016 12:00:00 AM                  1                 700   \n",
       "\n",
       "   TotalTimeInBed  \n",
       "0             346  \n",
       "1             407  \n",
       "2             442  \n",
       "3             367  \n",
       "4             712  "
      ]
     },
     "execution_count": 38,
     "metadata": {},
     "output_type": "execute_result"
    }
   ],
   "source": [
    "daily_sleep_merged.head()"
   ]
  },
  {
   "cell_type": "code",
   "execution_count": 39,
   "id": "e7000392",
   "metadata": {
    "execution": {
     "iopub.execute_input": "2025-03-22T06:38:25.568731Z",
     "iopub.status.busy": "2025-03-22T06:38:25.568363Z",
     "iopub.status.idle": "2025-03-22T06:38:25.579170Z",
     "shell.execute_reply": "2025-03-22T06:38:25.577666Z"
    },
    "papermill": {
     "duration": 0.03173,
     "end_time": "2025-03-22T06:38:25.581255",
     "exception": false,
     "start_time": "2025-03-22T06:38:25.549525",
     "status": "completed"
    },
    "tags": []
   },
   "outputs": [
    {
     "name": "stdout",
     "output_type": "stream",
     "text": [
      "<class 'pandas.core.frame.DataFrame'>\n",
      "RangeIndex: 413 entries, 0 to 412\n",
      "Data columns (total 5 columns):\n",
      " #   Column              Non-Null Count  Dtype \n",
      "---  ------              --------------  ----- \n",
      " 0   Id                  413 non-null    int64 \n",
      " 1   SleepDay            413 non-null    object\n",
      " 2   TotalSleepRecords   413 non-null    int64 \n",
      " 3   TotalMinutesAsleep  413 non-null    int64 \n",
      " 4   TotalTimeInBed      413 non-null    int64 \n",
      "dtypes: int64(4), object(1)\n",
      "memory usage: 16.3+ KB\n"
     ]
    }
   ],
   "source": [
    "daily_sleep_merged.info()"
   ]
  },
  {
   "cell_type": "code",
   "execution_count": 40,
   "id": "a85cf83b",
   "metadata": {
    "execution": {
     "iopub.execute_input": "2025-03-22T06:38:25.619310Z",
     "iopub.status.busy": "2025-03-22T06:38:25.618945Z",
     "iopub.status.idle": "2025-03-22T06:38:25.639303Z",
     "shell.execute_reply": "2025-03-22T06:38:25.638031Z"
    },
    "papermill": {
     "duration": 0.04219,
     "end_time": "2025-03-22T06:38:25.641467",
     "exception": false,
     "start_time": "2025-03-22T06:38:25.599277",
     "status": "completed"
    },
    "tags": []
   },
   "outputs": [
    {
     "data": {
      "text/html": [
       "<div>\n",
       "<style scoped>\n",
       "    .dataframe tbody tr th:only-of-type {\n",
       "        vertical-align: middle;\n",
       "    }\n",
       "\n",
       "    .dataframe tbody tr th {\n",
       "        vertical-align: top;\n",
       "    }\n",
       "\n",
       "    .dataframe thead th {\n",
       "        text-align: right;\n",
       "    }\n",
       "</style>\n",
       "<table border=\"1\" class=\"dataframe\">\n",
       "  <thead>\n",
       "    <tr style=\"text-align: right;\">\n",
       "      <th></th>\n",
       "      <th>Id</th>\n",
       "      <th>TotalSleepRecords</th>\n",
       "      <th>TotalMinutesAsleep</th>\n",
       "      <th>TotalTimeInBed</th>\n",
       "    </tr>\n",
       "  </thead>\n",
       "  <tbody>\n",
       "    <tr>\n",
       "      <th>count</th>\n",
       "      <td>4.130000e+02</td>\n",
       "      <td>413.000000</td>\n",
       "      <td>413.000000</td>\n",
       "      <td>413.000000</td>\n",
       "    </tr>\n",
       "    <tr>\n",
       "      <th>mean</th>\n",
       "      <td>5.000979e+09</td>\n",
       "      <td>1.118644</td>\n",
       "      <td>419.467312</td>\n",
       "      <td>458.639225</td>\n",
       "    </tr>\n",
       "    <tr>\n",
       "      <th>std</th>\n",
       "      <td>2.060360e+09</td>\n",
       "      <td>0.345521</td>\n",
       "      <td>118.344679</td>\n",
       "      <td>127.101607</td>\n",
       "    </tr>\n",
       "    <tr>\n",
       "      <th>min</th>\n",
       "      <td>1.503960e+09</td>\n",
       "      <td>1.000000</td>\n",
       "      <td>58.000000</td>\n",
       "      <td>61.000000</td>\n",
       "    </tr>\n",
       "    <tr>\n",
       "      <th>25%</th>\n",
       "      <td>3.977334e+09</td>\n",
       "      <td>1.000000</td>\n",
       "      <td>361.000000</td>\n",
       "      <td>403.000000</td>\n",
       "    </tr>\n",
       "    <tr>\n",
       "      <th>50%</th>\n",
       "      <td>4.702922e+09</td>\n",
       "      <td>1.000000</td>\n",
       "      <td>433.000000</td>\n",
       "      <td>463.000000</td>\n",
       "    </tr>\n",
       "    <tr>\n",
       "      <th>75%</th>\n",
       "      <td>6.962181e+09</td>\n",
       "      <td>1.000000</td>\n",
       "      <td>490.000000</td>\n",
       "      <td>526.000000</td>\n",
       "    </tr>\n",
       "    <tr>\n",
       "      <th>max</th>\n",
       "      <td>8.792010e+09</td>\n",
       "      <td>3.000000</td>\n",
       "      <td>796.000000</td>\n",
       "      <td>961.000000</td>\n",
       "    </tr>\n",
       "  </tbody>\n",
       "</table>\n",
       "</div>"
      ],
      "text/plain": [
       "                 Id  TotalSleepRecords  TotalMinutesAsleep  TotalTimeInBed\n",
       "count  4.130000e+02         413.000000          413.000000      413.000000\n",
       "mean   5.000979e+09           1.118644          419.467312      458.639225\n",
       "std    2.060360e+09           0.345521          118.344679      127.101607\n",
       "min    1.503960e+09           1.000000           58.000000       61.000000\n",
       "25%    3.977334e+09           1.000000          361.000000      403.000000\n",
       "50%    4.702922e+09           1.000000          433.000000      463.000000\n",
       "75%    6.962181e+09           1.000000          490.000000      526.000000\n",
       "max    8.792010e+09           3.000000          796.000000      961.000000"
      ]
     },
     "execution_count": 40,
     "metadata": {},
     "output_type": "execute_result"
    }
   ],
   "source": [
    "daily_sleep_merged.describe()"
   ]
  },
  {
   "cell_type": "code",
   "execution_count": 41,
   "id": "b1a0df6e",
   "metadata": {
    "execution": {
     "iopub.execute_input": "2025-03-22T06:38:25.678825Z",
     "iopub.status.busy": "2025-03-22T06:38:25.678490Z",
     "iopub.status.idle": "2025-03-22T06:38:25.685719Z",
     "shell.execute_reply": "2025-03-22T06:38:25.684650Z"
    },
    "papermill": {
     "duration": 0.027883,
     "end_time": "2025-03-22T06:38:25.687438",
     "exception": false,
     "start_time": "2025-03-22T06:38:25.659555",
     "status": "completed"
    },
    "tags": []
   },
   "outputs": [
    {
     "data": {
      "text/plain": [
       "Id                    0\n",
       "SleepDay              0\n",
       "TotalSleepRecords     0\n",
       "TotalMinutesAsleep    0\n",
       "TotalTimeInBed        0\n",
       "dtype: int64"
      ]
     },
     "execution_count": 41,
     "metadata": {},
     "output_type": "execute_result"
    }
   ],
   "source": [
    "daily_sleep_merged.isnull().sum()"
   ]
  },
  {
   "cell_type": "code",
   "execution_count": 42,
   "id": "5fc777f5",
   "metadata": {
    "execution": {
     "iopub.execute_input": "2025-03-22T06:38:25.724829Z",
     "iopub.status.busy": "2025-03-22T06:38:25.724440Z",
     "iopub.status.idle": "2025-03-22T06:38:25.732760Z",
     "shell.execute_reply": "2025-03-22T06:38:25.731437Z"
    },
    "papermill": {
     "duration": 0.029086,
     "end_time": "2025-03-22T06:38:25.734644",
     "exception": false,
     "start_time": "2025-03-22T06:38:25.705558",
     "status": "completed"
    },
    "tags": []
   },
   "outputs": [
    {
     "data": {
      "text/plain": [
       "3"
      ]
     },
     "execution_count": 42,
     "metadata": {},
     "output_type": "execute_result"
    }
   ],
   "source": [
    "daily_sleep_merged.duplicated().sum()"
   ]
  },
  {
   "cell_type": "markdown",
   "id": "ed0fb6d8",
   "metadata": {
    "papermill": {
     "duration": 0.017694,
     "end_time": "2025-03-22T06:38:25.770570",
     "exception": false,
     "start_time": "2025-03-22T06:38:25.752876",
     "status": "completed"
    },
    "tags": []
   },
   "source": [
    "### we found duplicate rows in \"daily_sleep_merged\" dataset."
   ]
  },
  {
   "cell_type": "code",
   "execution_count": 43,
   "id": "d7278820",
   "metadata": {
    "execution": {
     "iopub.execute_input": "2025-03-22T06:38:25.808510Z",
     "iopub.status.busy": "2025-03-22T06:38:25.808109Z",
     "iopub.status.idle": "2025-03-22T06:38:25.823800Z",
     "shell.execute_reply": "2025-03-22T06:38:25.822688Z"
    },
    "papermill": {
     "duration": 0.037128,
     "end_time": "2025-03-22T06:38:25.826000",
     "exception": false,
     "start_time": "2025-03-22T06:38:25.788872",
     "status": "completed"
    },
    "tags": []
   },
   "outputs": [
    {
     "data": {
      "text/html": [
       "<div>\n",
       "<style scoped>\n",
       "    .dataframe tbody tr th:only-of-type {\n",
       "        vertical-align: middle;\n",
       "    }\n",
       "\n",
       "    .dataframe tbody tr th {\n",
       "        vertical-align: top;\n",
       "    }\n",
       "\n",
       "    .dataframe thead th {\n",
       "        text-align: right;\n",
       "    }\n",
       "</style>\n",
       "<table border=\"1\" class=\"dataframe\">\n",
       "  <thead>\n",
       "    <tr style=\"text-align: right;\">\n",
       "      <th></th>\n",
       "      <th>Id</th>\n",
       "      <th>SleepDay</th>\n",
       "      <th>TotalSleepRecords</th>\n",
       "      <th>TotalMinutesAsleep</th>\n",
       "      <th>TotalTimeInBed</th>\n",
       "    </tr>\n",
       "  </thead>\n",
       "  <tbody>\n",
       "    <tr>\n",
       "      <th>161</th>\n",
       "      <td>4388161847</td>\n",
       "      <td>5/5/2016 12:00:00 AM</td>\n",
       "      <td>1</td>\n",
       "      <td>471</td>\n",
       "      <td>495</td>\n",
       "    </tr>\n",
       "    <tr>\n",
       "      <th>223</th>\n",
       "      <td>4702921684</td>\n",
       "      <td>5/7/2016 12:00:00 AM</td>\n",
       "      <td>1</td>\n",
       "      <td>520</td>\n",
       "      <td>543</td>\n",
       "    </tr>\n",
       "    <tr>\n",
       "      <th>380</th>\n",
       "      <td>8378563200</td>\n",
       "      <td>4/25/2016 12:00:00 AM</td>\n",
       "      <td>1</td>\n",
       "      <td>388</td>\n",
       "      <td>402</td>\n",
       "    </tr>\n",
       "  </tbody>\n",
       "</table>\n",
       "</div>"
      ],
      "text/plain": [
       "             Id               SleepDay  TotalSleepRecords  TotalMinutesAsleep  \\\n",
       "161  4388161847   5/5/2016 12:00:00 AM                  1                 471   \n",
       "223  4702921684   5/7/2016 12:00:00 AM                  1                 520   \n",
       "380  8378563200  4/25/2016 12:00:00 AM                  1                 388   \n",
       "\n",
       "     TotalTimeInBed  \n",
       "161             495  \n",
       "223             543  \n",
       "380             402  "
      ]
     },
     "execution_count": 43,
     "metadata": {},
     "output_type": "execute_result"
    }
   ],
   "source": [
    "daily_sleep_merged[daily_sleep_merged.duplicated()]    ## this shows only from the second occurence of duplicate row."
   ]
  },
  {
   "cell_type": "code",
   "execution_count": 44,
   "id": "239ca891",
   "metadata": {
    "execution": {
     "iopub.execute_input": "2025-03-22T06:38:25.864028Z",
     "iopub.status.busy": "2025-03-22T06:38:25.863651Z",
     "iopub.status.idle": "2025-03-22T06:38:25.875652Z",
     "shell.execute_reply": "2025-03-22T06:38:25.874525Z"
    },
    "papermill": {
     "duration": 0.033148,
     "end_time": "2025-03-22T06:38:25.877594",
     "exception": false,
     "start_time": "2025-03-22T06:38:25.844446",
     "status": "completed"
    },
    "tags": []
   },
   "outputs": [
    {
     "data": {
      "text/html": [
       "<div>\n",
       "<style scoped>\n",
       "    .dataframe tbody tr th:only-of-type {\n",
       "        vertical-align: middle;\n",
       "    }\n",
       "\n",
       "    .dataframe tbody tr th {\n",
       "        vertical-align: top;\n",
       "    }\n",
       "\n",
       "    .dataframe thead th {\n",
       "        text-align: right;\n",
       "    }\n",
       "</style>\n",
       "<table border=\"1\" class=\"dataframe\">\n",
       "  <thead>\n",
       "    <tr style=\"text-align: right;\">\n",
       "      <th></th>\n",
       "      <th>Id</th>\n",
       "      <th>SleepDay</th>\n",
       "      <th>TotalSleepRecords</th>\n",
       "      <th>TotalMinutesAsleep</th>\n",
       "      <th>TotalTimeInBed</th>\n",
       "    </tr>\n",
       "  </thead>\n",
       "  <tbody>\n",
       "    <tr>\n",
       "      <th>160</th>\n",
       "      <td>4388161847</td>\n",
       "      <td>5/5/2016 12:00:00 AM</td>\n",
       "      <td>1</td>\n",
       "      <td>471</td>\n",
       "      <td>495</td>\n",
       "    </tr>\n",
       "    <tr>\n",
       "      <th>161</th>\n",
       "      <td>4388161847</td>\n",
       "      <td>5/5/2016 12:00:00 AM</td>\n",
       "      <td>1</td>\n",
       "      <td>471</td>\n",
       "      <td>495</td>\n",
       "    </tr>\n",
       "    <tr>\n",
       "      <th>222</th>\n",
       "      <td>4702921684</td>\n",
       "      <td>5/7/2016 12:00:00 AM</td>\n",
       "      <td>1</td>\n",
       "      <td>520</td>\n",
       "      <td>543</td>\n",
       "    </tr>\n",
       "    <tr>\n",
       "      <th>223</th>\n",
       "      <td>4702921684</td>\n",
       "      <td>5/7/2016 12:00:00 AM</td>\n",
       "      <td>1</td>\n",
       "      <td>520</td>\n",
       "      <td>543</td>\n",
       "    </tr>\n",
       "    <tr>\n",
       "      <th>379</th>\n",
       "      <td>8378563200</td>\n",
       "      <td>4/25/2016 12:00:00 AM</td>\n",
       "      <td>1</td>\n",
       "      <td>388</td>\n",
       "      <td>402</td>\n",
       "    </tr>\n",
       "    <tr>\n",
       "      <th>380</th>\n",
       "      <td>8378563200</td>\n",
       "      <td>4/25/2016 12:00:00 AM</td>\n",
       "      <td>1</td>\n",
       "      <td>388</td>\n",
       "      <td>402</td>\n",
       "    </tr>\n",
       "  </tbody>\n",
       "</table>\n",
       "</div>"
      ],
      "text/plain": [
       "             Id               SleepDay  TotalSleepRecords  TotalMinutesAsleep  \\\n",
       "160  4388161847   5/5/2016 12:00:00 AM                  1                 471   \n",
       "161  4388161847   5/5/2016 12:00:00 AM                  1                 471   \n",
       "222  4702921684   5/7/2016 12:00:00 AM                  1                 520   \n",
       "223  4702921684   5/7/2016 12:00:00 AM                  1                 520   \n",
       "379  8378563200  4/25/2016 12:00:00 AM                  1                 388   \n",
       "380  8378563200  4/25/2016 12:00:00 AM                  1                 388   \n",
       "\n",
       "     TotalTimeInBed  \n",
       "160             495  \n",
       "161             495  \n",
       "222             543  \n",
       "223             543  \n",
       "379             402  \n",
       "380             402  "
      ]
     },
     "execution_count": 44,
     "metadata": {},
     "output_type": "execute_result"
    }
   ],
   "source": [
    "daily_sleep_merged[daily_sleep_merged.duplicated(keep=False)]    ## this shows all occurence (including first row as well) of duplicate row."
   ]
  },
  {
   "cell_type": "code",
   "execution_count": 45,
   "id": "66d334ca",
   "metadata": {
    "execution": {
     "iopub.execute_input": "2025-03-22T06:38:25.917189Z",
     "iopub.status.busy": "2025-03-22T06:38:25.916804Z",
     "iopub.status.idle": "2025-03-22T06:38:25.923217Z",
     "shell.execute_reply": "2025-03-22T06:38:25.922201Z"
    },
    "papermill": {
     "duration": 0.028551,
     "end_time": "2025-03-22T06:38:25.924943",
     "exception": false,
     "start_time": "2025-03-22T06:38:25.896392",
     "status": "completed"
    },
    "tags": []
   },
   "outputs": [],
   "source": [
    "daily_sleep_merged = daily_sleep_merged.drop_duplicates()"
   ]
  },
  {
   "cell_type": "code",
   "execution_count": 46,
   "id": "82a004a7",
   "metadata": {
    "execution": {
     "iopub.execute_input": "2025-03-22T06:38:25.964297Z",
     "iopub.status.busy": "2025-03-22T06:38:25.963937Z",
     "iopub.status.idle": "2025-03-22T06:38:25.980182Z",
     "shell.execute_reply": "2025-03-22T06:38:25.978850Z"
    },
    "papermill": {
     "duration": 0.037727,
     "end_time": "2025-03-22T06:38:25.982023",
     "exception": false,
     "start_time": "2025-03-22T06:38:25.944296",
     "status": "completed"
    },
    "tags": []
   },
   "outputs": [
    {
     "name": "stderr",
     "output_type": "stream",
     "text": [
      "<ipython-input-46-04fbaddbdbd1>:2: UserWarning: Could not infer format, so each element will be parsed individually, falling back to `dateutil`. To ensure parsing is consistent and as-expected, please specify a format.\n",
      "  daily_sleep_merged[\"SleepDay\"] = pd.to_datetime(daily_sleep_merged[\"SleepDay\"])\n"
     ]
    }
   ],
   "source": [
    "daily_sleep_merged[\"Id\"] = daily_sleep_merged[\"Id\"].astype(\"string\")\n",
    "daily_sleep_merged[\"SleepDay\"] = pd.to_datetime(daily_sleep_merged[\"SleepDay\"])"
   ]
  },
  {
   "cell_type": "code",
   "execution_count": 47,
   "id": "e795dd79",
   "metadata": {
    "execution": {
     "iopub.execute_input": "2025-03-22T06:38:26.021430Z",
     "iopub.status.busy": "2025-03-22T06:38:26.020968Z",
     "iopub.status.idle": "2025-03-22T06:38:26.031390Z",
     "shell.execute_reply": "2025-03-22T06:38:26.030155Z"
    },
    "papermill": {
     "duration": 0.032418,
     "end_time": "2025-03-22T06:38:26.033544",
     "exception": false,
     "start_time": "2025-03-22T06:38:26.001126",
     "status": "completed"
    },
    "tags": []
   },
   "outputs": [
    {
     "name": "stdout",
     "output_type": "stream",
     "text": [
      "<class 'pandas.core.frame.DataFrame'>\n",
      "Index: 410 entries, 0 to 412\n",
      "Data columns (total 5 columns):\n",
      " #   Column              Non-Null Count  Dtype         \n",
      "---  ------              --------------  -----         \n",
      " 0   Id                  410 non-null    string        \n",
      " 1   SleepDay            410 non-null    datetime64[ns]\n",
      " 2   TotalSleepRecords   410 non-null    int64         \n",
      " 3   TotalMinutesAsleep  410 non-null    int64         \n",
      " 4   TotalTimeInBed      410 non-null    int64         \n",
      "dtypes: datetime64[ns](1), int64(3), string(1)\n",
      "memory usage: 19.2 KB\n"
     ]
    }
   ],
   "source": [
    "daily_sleep_merged.info()"
   ]
  },
  {
   "cell_type": "code",
   "execution_count": 48,
   "id": "806a986e",
   "metadata": {
    "execution": {
     "iopub.execute_input": "2025-03-22T06:38:26.072967Z",
     "iopub.status.busy": "2025-03-22T06:38:26.072568Z",
     "iopub.status.idle": "2025-03-22T06:38:26.083104Z",
     "shell.execute_reply": "2025-03-22T06:38:26.081971Z"
    },
    "papermill": {
     "duration": 0.031955,
     "end_time": "2025-03-22T06:38:26.084801",
     "exception": false,
     "start_time": "2025-03-22T06:38:26.052846",
     "status": "completed"
    },
    "tags": []
   },
   "outputs": [
    {
     "data": {
      "text/html": [
       "<div>\n",
       "<style scoped>\n",
       "    .dataframe tbody tr th:only-of-type {\n",
       "        vertical-align: middle;\n",
       "    }\n",
       "\n",
       "    .dataframe tbody tr th {\n",
       "        vertical-align: top;\n",
       "    }\n",
       "\n",
       "    .dataframe thead th {\n",
       "        text-align: right;\n",
       "    }\n",
       "</style>\n",
       "<table border=\"1\" class=\"dataframe\">\n",
       "  <thead>\n",
       "    <tr style=\"text-align: right;\">\n",
       "      <th></th>\n",
       "      <th>Id</th>\n",
       "      <th>SleepDay</th>\n",
       "      <th>TotalSleepRecords</th>\n",
       "      <th>TotalMinutesAsleep</th>\n",
       "      <th>TotalTimeInBed</th>\n",
       "    </tr>\n",
       "  </thead>\n",
       "  <tbody>\n",
       "    <tr>\n",
       "      <th>0</th>\n",
       "      <td>1503960366</td>\n",
       "      <td>2016-04-12</td>\n",
       "      <td>1</td>\n",
       "      <td>327</td>\n",
       "      <td>346</td>\n",
       "    </tr>\n",
       "    <tr>\n",
       "      <th>1</th>\n",
       "      <td>1503960366</td>\n",
       "      <td>2016-04-13</td>\n",
       "      <td>2</td>\n",
       "      <td>384</td>\n",
       "      <td>407</td>\n",
       "    </tr>\n",
       "    <tr>\n",
       "      <th>2</th>\n",
       "      <td>1503960366</td>\n",
       "      <td>2016-04-15</td>\n",
       "      <td>1</td>\n",
       "      <td>412</td>\n",
       "      <td>442</td>\n",
       "    </tr>\n",
       "    <tr>\n",
       "      <th>3</th>\n",
       "      <td>1503960366</td>\n",
       "      <td>2016-04-16</td>\n",
       "      <td>2</td>\n",
       "      <td>340</td>\n",
       "      <td>367</td>\n",
       "    </tr>\n",
       "    <tr>\n",
       "      <th>4</th>\n",
       "      <td>1503960366</td>\n",
       "      <td>2016-04-17</td>\n",
       "      <td>1</td>\n",
       "      <td>700</td>\n",
       "      <td>712</td>\n",
       "    </tr>\n",
       "  </tbody>\n",
       "</table>\n",
       "</div>"
      ],
      "text/plain": [
       "           Id   SleepDay  TotalSleepRecords  TotalMinutesAsleep  \\\n",
       "0  1503960366 2016-04-12                  1                 327   \n",
       "1  1503960366 2016-04-13                  2                 384   \n",
       "2  1503960366 2016-04-15                  1                 412   \n",
       "3  1503960366 2016-04-16                  2                 340   \n",
       "4  1503960366 2016-04-17                  1                 700   \n",
       "\n",
       "   TotalTimeInBed  \n",
       "0             346  \n",
       "1             407  \n",
       "2             442  \n",
       "3             367  \n",
       "4             712  "
      ]
     },
     "execution_count": 48,
     "metadata": {},
     "output_type": "execute_result"
    }
   ],
   "source": [
    "daily_sleep_merged.head()"
   ]
  },
  {
   "cell_type": "code",
   "execution_count": 49,
   "id": "15006922",
   "metadata": {
    "execution": {
     "iopub.execute_input": "2025-03-22T06:38:26.124236Z",
     "iopub.status.busy": "2025-03-22T06:38:26.123772Z",
     "iopub.status.idle": "2025-03-22T06:38:26.130212Z",
     "shell.execute_reply": "2025-03-22T06:38:26.129063Z"
    },
    "papermill": {
     "duration": 0.028232,
     "end_time": "2025-03-22T06:38:26.132089",
     "exception": false,
     "start_time": "2025-03-22T06:38:26.103857",
     "status": "completed"
    },
    "tags": []
   },
   "outputs": [],
   "source": [
    "weightloginfo = weightloginfo[[\"Id\",\"Date\",\"WeightKg\",\"WeightPounds\",\"BMI\",\"IsManualReport\",\"LogId\"]]"
   ]
  },
  {
   "cell_type": "code",
   "execution_count": 50,
   "id": "07e31b1a",
   "metadata": {
    "execution": {
     "iopub.execute_input": "2025-03-22T06:38:26.173885Z",
     "iopub.status.busy": "2025-03-22T06:38:26.173541Z",
     "iopub.status.idle": "2025-03-22T06:38:26.188089Z",
     "shell.execute_reply": "2025-03-22T06:38:26.186855Z"
    },
    "papermill": {
     "duration": 0.037426,
     "end_time": "2025-03-22T06:38:26.189843",
     "exception": false,
     "start_time": "2025-03-22T06:38:26.152417",
     "status": "completed"
    },
    "tags": []
   },
   "outputs": [
    {
     "data": {
      "text/html": [
       "<div>\n",
       "<style scoped>\n",
       "    .dataframe tbody tr th:only-of-type {\n",
       "        vertical-align: middle;\n",
       "    }\n",
       "\n",
       "    .dataframe tbody tr th {\n",
       "        vertical-align: top;\n",
       "    }\n",
       "\n",
       "    .dataframe thead th {\n",
       "        text-align: right;\n",
       "    }\n",
       "</style>\n",
       "<table border=\"1\" class=\"dataframe\">\n",
       "  <thead>\n",
       "    <tr style=\"text-align: right;\">\n",
       "      <th></th>\n",
       "      <th>Id</th>\n",
       "      <th>Date</th>\n",
       "      <th>WeightKg</th>\n",
       "      <th>WeightPounds</th>\n",
       "      <th>BMI</th>\n",
       "      <th>IsManualReport</th>\n",
       "      <th>LogId</th>\n",
       "    </tr>\n",
       "  </thead>\n",
       "  <tbody>\n",
       "    <tr>\n",
       "      <th>0</th>\n",
       "      <td>1503960366</td>\n",
       "      <td>5/2/2016 11:59:59 PM</td>\n",
       "      <td>52.599998</td>\n",
       "      <td>115.963147</td>\n",
       "      <td>22.650000</td>\n",
       "      <td>True</td>\n",
       "      <td>1462233599000</td>\n",
       "    </tr>\n",
       "    <tr>\n",
       "      <th>1</th>\n",
       "      <td>1503960366</td>\n",
       "      <td>5/3/2016 11:59:59 PM</td>\n",
       "      <td>52.599998</td>\n",
       "      <td>115.963147</td>\n",
       "      <td>22.650000</td>\n",
       "      <td>True</td>\n",
       "      <td>1462319999000</td>\n",
       "    </tr>\n",
       "    <tr>\n",
       "      <th>2</th>\n",
       "      <td>1927972279</td>\n",
       "      <td>4/13/2016 1:08:52 AM</td>\n",
       "      <td>133.500000</td>\n",
       "      <td>294.317120</td>\n",
       "      <td>47.540001</td>\n",
       "      <td>False</td>\n",
       "      <td>1460509732000</td>\n",
       "    </tr>\n",
       "    <tr>\n",
       "      <th>3</th>\n",
       "      <td>2873212765</td>\n",
       "      <td>4/21/2016 11:59:59 PM</td>\n",
       "      <td>56.700001</td>\n",
       "      <td>125.002104</td>\n",
       "      <td>21.450001</td>\n",
       "      <td>True</td>\n",
       "      <td>1461283199000</td>\n",
       "    </tr>\n",
       "    <tr>\n",
       "      <th>4</th>\n",
       "      <td>2873212765</td>\n",
       "      <td>5/12/2016 11:59:59 PM</td>\n",
       "      <td>57.299999</td>\n",
       "      <td>126.324875</td>\n",
       "      <td>21.690001</td>\n",
       "      <td>True</td>\n",
       "      <td>1463097599000</td>\n",
       "    </tr>\n",
       "  </tbody>\n",
       "</table>\n",
       "</div>"
      ],
      "text/plain": [
       "           Id                   Date    WeightKg  WeightPounds        BMI  \\\n",
       "0  1503960366   5/2/2016 11:59:59 PM   52.599998    115.963147  22.650000   \n",
       "1  1503960366   5/3/2016 11:59:59 PM   52.599998    115.963147  22.650000   \n",
       "2  1927972279   4/13/2016 1:08:52 AM  133.500000    294.317120  47.540001   \n",
       "3  2873212765  4/21/2016 11:59:59 PM   56.700001    125.002104  21.450001   \n",
       "4  2873212765  5/12/2016 11:59:59 PM   57.299999    126.324875  21.690001   \n",
       "\n",
       "   IsManualReport          LogId  \n",
       "0            True  1462233599000  \n",
       "1            True  1462319999000  \n",
       "2           False  1460509732000  \n",
       "3            True  1461283199000  \n",
       "4            True  1463097599000  "
      ]
     },
     "execution_count": 50,
     "metadata": {},
     "output_type": "execute_result"
    }
   ],
   "source": [
    "weightloginfo.head()"
   ]
  },
  {
   "cell_type": "code",
   "execution_count": 51,
   "id": "10ea49d3",
   "metadata": {
    "execution": {
     "iopub.execute_input": "2025-03-22T06:38:26.230368Z",
     "iopub.status.busy": "2025-03-22T06:38:26.229985Z",
     "iopub.status.idle": "2025-03-22T06:38:26.240270Z",
     "shell.execute_reply": "2025-03-22T06:38:26.239077Z"
    },
    "papermill": {
     "duration": 0.033035,
     "end_time": "2025-03-22T06:38:26.242192",
     "exception": false,
     "start_time": "2025-03-22T06:38:26.209157",
     "status": "completed"
    },
    "tags": []
   },
   "outputs": [
    {
     "name": "stdout",
     "output_type": "stream",
     "text": [
      "<class 'pandas.core.frame.DataFrame'>\n",
      "RangeIndex: 67 entries, 0 to 66\n",
      "Data columns (total 7 columns):\n",
      " #   Column          Non-Null Count  Dtype  \n",
      "---  ------          --------------  -----  \n",
      " 0   Id              67 non-null     int64  \n",
      " 1   Date            67 non-null     object \n",
      " 2   WeightKg        67 non-null     float64\n",
      " 3   WeightPounds    67 non-null     float64\n",
      " 4   BMI             67 non-null     float64\n",
      " 5   IsManualReport  67 non-null     bool   \n",
      " 6   LogId           67 non-null     int64  \n",
      "dtypes: bool(1), float64(3), int64(2), object(1)\n",
      "memory usage: 3.3+ KB\n"
     ]
    }
   ],
   "source": [
    "weightloginfo.info()"
   ]
  },
  {
   "cell_type": "code",
   "execution_count": 52,
   "id": "3ee24250",
   "metadata": {
    "execution": {
     "iopub.execute_input": "2025-03-22T06:38:26.282058Z",
     "iopub.status.busy": "2025-03-22T06:38:26.281672Z",
     "iopub.status.idle": "2025-03-22T06:38:26.305131Z",
     "shell.execute_reply": "2025-03-22T06:38:26.303664Z"
    },
    "papermill": {
     "duration": 0.045523,
     "end_time": "2025-03-22T06:38:26.306981",
     "exception": false,
     "start_time": "2025-03-22T06:38:26.261458",
     "status": "completed"
    },
    "tags": []
   },
   "outputs": [
    {
     "data": {
      "text/html": [
       "<div>\n",
       "<style scoped>\n",
       "    .dataframe tbody tr th:only-of-type {\n",
       "        vertical-align: middle;\n",
       "    }\n",
       "\n",
       "    .dataframe tbody tr th {\n",
       "        vertical-align: top;\n",
       "    }\n",
       "\n",
       "    .dataframe thead th {\n",
       "        text-align: right;\n",
       "    }\n",
       "</style>\n",
       "<table border=\"1\" class=\"dataframe\">\n",
       "  <thead>\n",
       "    <tr style=\"text-align: right;\">\n",
       "      <th></th>\n",
       "      <th>Id</th>\n",
       "      <th>WeightKg</th>\n",
       "      <th>WeightPounds</th>\n",
       "      <th>BMI</th>\n",
       "      <th>LogId</th>\n",
       "    </tr>\n",
       "  </thead>\n",
       "  <tbody>\n",
       "    <tr>\n",
       "      <th>count</th>\n",
       "      <td>6.700000e+01</td>\n",
       "      <td>67.000000</td>\n",
       "      <td>67.000000</td>\n",
       "      <td>67.000000</td>\n",
       "      <td>6.700000e+01</td>\n",
       "    </tr>\n",
       "    <tr>\n",
       "      <th>mean</th>\n",
       "      <td>7.009282e+09</td>\n",
       "      <td>72.035821</td>\n",
       "      <td>158.811801</td>\n",
       "      <td>25.185224</td>\n",
       "      <td>1.461772e+12</td>\n",
       "    </tr>\n",
       "    <tr>\n",
       "      <th>std</th>\n",
       "      <td>1.950322e+09</td>\n",
       "      <td>13.923206</td>\n",
       "      <td>30.695415</td>\n",
       "      <td>3.066963</td>\n",
       "      <td>7.829948e+08</td>\n",
       "    </tr>\n",
       "    <tr>\n",
       "      <th>min</th>\n",
       "      <td>1.503960e+09</td>\n",
       "      <td>52.599998</td>\n",
       "      <td>115.963147</td>\n",
       "      <td>21.450001</td>\n",
       "      <td>1.460444e+12</td>\n",
       "    </tr>\n",
       "    <tr>\n",
       "      <th>25%</th>\n",
       "      <td>6.962181e+09</td>\n",
       "      <td>61.400002</td>\n",
       "      <td>135.363832</td>\n",
       "      <td>23.959999</td>\n",
       "      <td>1.461079e+12</td>\n",
       "    </tr>\n",
       "    <tr>\n",
       "      <th>50%</th>\n",
       "      <td>6.962181e+09</td>\n",
       "      <td>62.500000</td>\n",
       "      <td>137.788914</td>\n",
       "      <td>24.389999</td>\n",
       "      <td>1.461802e+12</td>\n",
       "    </tr>\n",
       "    <tr>\n",
       "      <th>75%</th>\n",
       "      <td>8.877689e+09</td>\n",
       "      <td>85.049999</td>\n",
       "      <td>187.503152</td>\n",
       "      <td>25.559999</td>\n",
       "      <td>1.462375e+12</td>\n",
       "    </tr>\n",
       "    <tr>\n",
       "      <th>max</th>\n",
       "      <td>8.877689e+09</td>\n",
       "      <td>133.500000</td>\n",
       "      <td>294.317120</td>\n",
       "      <td>47.540001</td>\n",
       "      <td>1.463098e+12</td>\n",
       "    </tr>\n",
       "  </tbody>\n",
       "</table>\n",
       "</div>"
      ],
      "text/plain": [
       "                 Id    WeightKg  WeightPounds        BMI         LogId\n",
       "count  6.700000e+01   67.000000     67.000000  67.000000  6.700000e+01\n",
       "mean   7.009282e+09   72.035821    158.811801  25.185224  1.461772e+12\n",
       "std    1.950322e+09   13.923206     30.695415   3.066963  7.829948e+08\n",
       "min    1.503960e+09   52.599998    115.963147  21.450001  1.460444e+12\n",
       "25%    6.962181e+09   61.400002    135.363832  23.959999  1.461079e+12\n",
       "50%    6.962181e+09   62.500000    137.788914  24.389999  1.461802e+12\n",
       "75%    8.877689e+09   85.049999    187.503152  25.559999  1.462375e+12\n",
       "max    8.877689e+09  133.500000    294.317120  47.540001  1.463098e+12"
      ]
     },
     "execution_count": 52,
     "metadata": {},
     "output_type": "execute_result"
    }
   ],
   "source": [
    "weightloginfo.describe()"
   ]
  },
  {
   "cell_type": "code",
   "execution_count": 53,
   "id": "73435cc7",
   "metadata": {
    "execution": {
     "iopub.execute_input": "2025-03-22T06:38:26.347076Z",
     "iopub.status.busy": "2025-03-22T06:38:26.346691Z",
     "iopub.status.idle": "2025-03-22T06:38:26.354298Z",
     "shell.execute_reply": "2025-03-22T06:38:26.353179Z"
    },
    "papermill": {
     "duration": 0.029625,
     "end_time": "2025-03-22T06:38:26.356221",
     "exception": false,
     "start_time": "2025-03-22T06:38:26.326596",
     "status": "completed"
    },
    "tags": []
   },
   "outputs": [
    {
     "data": {
      "text/plain": [
       "Id                0\n",
       "Date              0\n",
       "WeightKg          0\n",
       "WeightPounds      0\n",
       "BMI               0\n",
       "IsManualReport    0\n",
       "LogId             0\n",
       "dtype: int64"
      ]
     },
     "execution_count": 53,
     "metadata": {},
     "output_type": "execute_result"
    }
   ],
   "source": [
    "weightloginfo.isnull().sum()"
   ]
  },
  {
   "cell_type": "code",
   "execution_count": 54,
   "id": "3360eafd",
   "metadata": {
    "execution": {
     "iopub.execute_input": "2025-03-22T06:38:26.397446Z",
     "iopub.status.busy": "2025-03-22T06:38:26.397084Z",
     "iopub.status.idle": "2025-03-22T06:38:26.405077Z",
     "shell.execute_reply": "2025-03-22T06:38:26.403793Z"
    },
    "papermill": {
     "duration": 0.031003,
     "end_time": "2025-03-22T06:38:26.406868",
     "exception": false,
     "start_time": "2025-03-22T06:38:26.375865",
     "status": "completed"
    },
    "tags": []
   },
   "outputs": [
    {
     "data": {
      "text/plain": [
       "0"
      ]
     },
     "execution_count": 54,
     "metadata": {},
     "output_type": "execute_result"
    }
   ],
   "source": [
    "weightloginfo.duplicated().sum()"
   ]
  },
  {
   "cell_type": "code",
   "execution_count": 55,
   "id": "52a150a3",
   "metadata": {
    "execution": {
     "iopub.execute_input": "2025-03-22T06:38:26.448550Z",
     "iopub.status.busy": "2025-03-22T06:38:26.448168Z",
     "iopub.status.idle": "2025-03-22T06:38:26.464095Z",
     "shell.execute_reply": "2025-03-22T06:38:26.462718Z"
    },
    "papermill": {
     "duration": 0.038751,
     "end_time": "2025-03-22T06:38:26.465937",
     "exception": false,
     "start_time": "2025-03-22T06:38:26.427186",
     "status": "completed"
    },
    "tags": []
   },
   "outputs": [
    {
     "name": "stderr",
     "output_type": "stream",
     "text": [
      "<ipython-input-55-b25b52c7e4cc>:2: UserWarning: Could not infer format, so each element will be parsed individually, falling back to `dateutil`. To ensure parsing is consistent and as-expected, please specify a format.\n",
      "  weightloginfo[\"Date\"] = pd.to_datetime(weightloginfo[\"Date\"])\n"
     ]
    }
   ],
   "source": [
    "weightloginfo[\"Id\"] = weightloginfo[\"Id\"].astype(\"string\")\n",
    "weightloginfo[\"Date\"] = pd.to_datetime(weightloginfo[\"Date\"])"
   ]
  },
  {
   "cell_type": "code",
   "execution_count": 56,
   "id": "26db5e1c",
   "metadata": {
    "execution": {
     "iopub.execute_input": "2025-03-22T06:38:26.507926Z",
     "iopub.status.busy": "2025-03-22T06:38:26.507545Z",
     "iopub.status.idle": "2025-03-22T06:38:26.518369Z",
     "shell.execute_reply": "2025-03-22T06:38:26.517044Z"
    },
    "papermill": {
     "duration": 0.033765,
     "end_time": "2025-03-22T06:38:26.520306",
     "exception": false,
     "start_time": "2025-03-22T06:38:26.486541",
     "status": "completed"
    },
    "tags": []
   },
   "outputs": [
    {
     "name": "stdout",
     "output_type": "stream",
     "text": [
      "<class 'pandas.core.frame.DataFrame'>\n",
      "RangeIndex: 67 entries, 0 to 66\n",
      "Data columns (total 7 columns):\n",
      " #   Column          Non-Null Count  Dtype         \n",
      "---  ------          --------------  -----         \n",
      " 0   Id              67 non-null     string        \n",
      " 1   Date            67 non-null     datetime64[ns]\n",
      " 2   WeightKg        67 non-null     float64       \n",
      " 3   WeightPounds    67 non-null     float64       \n",
      " 4   BMI             67 non-null     float64       \n",
      " 5   IsManualReport  67 non-null     bool          \n",
      " 6   LogId           67 non-null     int64         \n",
      "dtypes: bool(1), datetime64[ns](1), float64(3), int64(1), string(1)\n",
      "memory usage: 3.3 KB\n"
     ]
    }
   ],
   "source": [
    "weightloginfo.info()"
   ]
  },
  {
   "cell_type": "code",
   "execution_count": 57,
   "id": "bde78a06",
   "metadata": {
    "execution": {
     "iopub.execute_input": "2025-03-22T06:38:26.562382Z",
     "iopub.status.busy": "2025-03-22T06:38:26.562014Z",
     "iopub.status.idle": "2025-03-22T06:38:26.575049Z",
     "shell.execute_reply": "2025-03-22T06:38:26.573760Z"
    },
    "papermill": {
     "duration": 0.036004,
     "end_time": "2025-03-22T06:38:26.576787",
     "exception": false,
     "start_time": "2025-03-22T06:38:26.540783",
     "status": "completed"
    },
    "tags": []
   },
   "outputs": [
    {
     "data": {
      "text/html": [
       "<div>\n",
       "<style scoped>\n",
       "    .dataframe tbody tr th:only-of-type {\n",
       "        vertical-align: middle;\n",
       "    }\n",
       "\n",
       "    .dataframe tbody tr th {\n",
       "        vertical-align: top;\n",
       "    }\n",
       "\n",
       "    .dataframe thead th {\n",
       "        text-align: right;\n",
       "    }\n",
       "</style>\n",
       "<table border=\"1\" class=\"dataframe\">\n",
       "  <thead>\n",
       "    <tr style=\"text-align: right;\">\n",
       "      <th></th>\n",
       "      <th>Id</th>\n",
       "      <th>Date</th>\n",
       "      <th>WeightKg</th>\n",
       "      <th>WeightPounds</th>\n",
       "      <th>BMI</th>\n",
       "      <th>IsManualReport</th>\n",
       "      <th>LogId</th>\n",
       "    </tr>\n",
       "  </thead>\n",
       "  <tbody>\n",
       "    <tr>\n",
       "      <th>0</th>\n",
       "      <td>1503960366</td>\n",
       "      <td>2016-05-02 23:59:59</td>\n",
       "      <td>52.599998</td>\n",
       "      <td>115.963147</td>\n",
       "      <td>22.650000</td>\n",
       "      <td>True</td>\n",
       "      <td>1462233599000</td>\n",
       "    </tr>\n",
       "    <tr>\n",
       "      <th>1</th>\n",
       "      <td>1503960366</td>\n",
       "      <td>2016-05-03 23:59:59</td>\n",
       "      <td>52.599998</td>\n",
       "      <td>115.963147</td>\n",
       "      <td>22.650000</td>\n",
       "      <td>True</td>\n",
       "      <td>1462319999000</td>\n",
       "    </tr>\n",
       "    <tr>\n",
       "      <th>2</th>\n",
       "      <td>1927972279</td>\n",
       "      <td>2016-04-13 01:08:52</td>\n",
       "      <td>133.500000</td>\n",
       "      <td>294.317120</td>\n",
       "      <td>47.540001</td>\n",
       "      <td>False</td>\n",
       "      <td>1460509732000</td>\n",
       "    </tr>\n",
       "    <tr>\n",
       "      <th>3</th>\n",
       "      <td>2873212765</td>\n",
       "      <td>2016-04-21 23:59:59</td>\n",
       "      <td>56.700001</td>\n",
       "      <td>125.002104</td>\n",
       "      <td>21.450001</td>\n",
       "      <td>True</td>\n",
       "      <td>1461283199000</td>\n",
       "    </tr>\n",
       "    <tr>\n",
       "      <th>4</th>\n",
       "      <td>2873212765</td>\n",
       "      <td>2016-05-12 23:59:59</td>\n",
       "      <td>57.299999</td>\n",
       "      <td>126.324875</td>\n",
       "      <td>21.690001</td>\n",
       "      <td>True</td>\n",
       "      <td>1463097599000</td>\n",
       "    </tr>\n",
       "  </tbody>\n",
       "</table>\n",
       "</div>"
      ],
      "text/plain": [
       "           Id                Date    WeightKg  WeightPounds        BMI  \\\n",
       "0  1503960366 2016-05-02 23:59:59   52.599998    115.963147  22.650000   \n",
       "1  1503960366 2016-05-03 23:59:59   52.599998    115.963147  22.650000   \n",
       "2  1927972279 2016-04-13 01:08:52  133.500000    294.317120  47.540001   \n",
       "3  2873212765 2016-04-21 23:59:59   56.700001    125.002104  21.450001   \n",
       "4  2873212765 2016-05-12 23:59:59   57.299999    126.324875  21.690001   \n",
       "\n",
       "   IsManualReport          LogId  \n",
       "0            True  1462233599000  \n",
       "1            True  1462319999000  \n",
       "2           False  1460509732000  \n",
       "3            True  1461283199000  \n",
       "4            True  1463097599000  "
      ]
     },
     "execution_count": 57,
     "metadata": {},
     "output_type": "execute_result"
    }
   ],
   "source": [
    "weightloginfo.head()"
   ]
  },
  {
   "cell_type": "markdown",
   "id": "8d679a0c",
   "metadata": {
    "papermill": {
     "duration": 0.020067,
     "end_time": "2025-03-22T06:38:26.617517",
     "exception": false,
     "start_time": "2025-03-22T06:38:26.597450",
     "status": "completed"
    },
    "tags": []
   },
   "source": [
    "# Data Exploration - "
   ]
  },
  {
   "cell_type": "markdown",
   "id": "8b6d5e9b",
   "metadata": {
    "papermill": {
     "duration": 0.019761,
     "end_time": "2025-03-22T06:38:26.658436",
     "exception": false,
     "start_time": "2025-03-22T06:38:26.638675",
     "status": "completed"
    },
    "tags": []
   },
   "source": [
    "1. daily_activity_merged\n",
    "2. daily_calories_merged   @@\n",
    "3. daily_intensity_merged\n",
    "4. daily_steps_merged      @@\n",
    "5. daily_sleep_merged\n",
    "6. weightloginfo"
   ]
  },
  {
   "cell_type": "code",
   "execution_count": 58,
   "id": "f837b6ba",
   "metadata": {
    "execution": {
     "iopub.execute_input": "2025-03-22T06:38:26.700578Z",
     "iopub.status.busy": "2025-03-22T06:38:26.700039Z",
     "iopub.status.idle": "2025-03-22T06:38:26.711255Z",
     "shell.execute_reply": "2025-03-22T06:38:26.710018Z"
    },
    "papermill": {
     "duration": 0.03393,
     "end_time": "2025-03-22T06:38:26.713057",
     "exception": false,
     "start_time": "2025-03-22T06:38:26.679127",
     "status": "completed"
    },
    "tags": []
   },
   "outputs": [
    {
     "data": {
      "text/html": [
       "<div>\n",
       "<style scoped>\n",
       "    .dataframe tbody tr th:only-of-type {\n",
       "        vertical-align: middle;\n",
       "    }\n",
       "\n",
       "    .dataframe tbody tr th {\n",
       "        vertical-align: top;\n",
       "    }\n",
       "\n",
       "    .dataframe thead th {\n",
       "        text-align: right;\n",
       "    }\n",
       "</style>\n",
       "<table border=\"1\" class=\"dataframe\">\n",
       "  <thead>\n",
       "    <tr style=\"text-align: right;\">\n",
       "      <th></th>\n",
       "      <th>Id</th>\n",
       "      <th>ActivityDay</th>\n",
       "      <th>Calories</th>\n",
       "    </tr>\n",
       "  </thead>\n",
       "  <tbody>\n",
       "    <tr>\n",
       "      <th>0</th>\n",
       "      <td>1503960366</td>\n",
       "      <td>2016-04-12</td>\n",
       "      <td>1985</td>\n",
       "    </tr>\n",
       "    <tr>\n",
       "      <th>1</th>\n",
       "      <td>1503960366</td>\n",
       "      <td>2016-04-13</td>\n",
       "      <td>1797</td>\n",
       "    </tr>\n",
       "    <tr>\n",
       "      <th>2</th>\n",
       "      <td>1503960366</td>\n",
       "      <td>2016-04-14</td>\n",
       "      <td>1776</td>\n",
       "    </tr>\n",
       "    <tr>\n",
       "      <th>3</th>\n",
       "      <td>1503960366</td>\n",
       "      <td>2016-04-15</td>\n",
       "      <td>1745</td>\n",
       "    </tr>\n",
       "    <tr>\n",
       "      <th>4</th>\n",
       "      <td>1503960366</td>\n",
       "      <td>2016-04-16</td>\n",
       "      <td>1863</td>\n",
       "    </tr>\n",
       "  </tbody>\n",
       "</table>\n",
       "</div>"
      ],
      "text/plain": [
       "           Id ActivityDay  Calories\n",
       "0  1503960366  2016-04-12      1985\n",
       "1  1503960366  2016-04-13      1797\n",
       "2  1503960366  2016-04-14      1776\n",
       "3  1503960366  2016-04-15      1745\n",
       "4  1503960366  2016-04-16      1863"
      ]
     },
     "execution_count": 58,
     "metadata": {},
     "output_type": "execute_result"
    }
   ],
   "source": [
    "daily_calories_merged.head()\n"
   ]
  },
  {
   "cell_type": "code",
   "execution_count": 59,
   "id": "d82c2ff2",
   "metadata": {
    "execution": {
     "iopub.execute_input": "2025-03-22T06:38:26.755397Z",
     "iopub.status.busy": "2025-03-22T06:38:26.755038Z",
     "iopub.status.idle": "2025-03-22T06:38:26.764444Z",
     "shell.execute_reply": "2025-03-22T06:38:26.763450Z"
    },
    "papermill": {
     "duration": 0.032082,
     "end_time": "2025-03-22T06:38:26.766053",
     "exception": false,
     "start_time": "2025-03-22T06:38:26.733971",
     "status": "completed"
    },
    "tags": []
   },
   "outputs": [
    {
     "data": {
      "text/html": [
       "<div>\n",
       "<style scoped>\n",
       "    .dataframe tbody tr th:only-of-type {\n",
       "        vertical-align: middle;\n",
       "    }\n",
       "\n",
       "    .dataframe tbody tr th {\n",
       "        vertical-align: top;\n",
       "    }\n",
       "\n",
       "    .dataframe thead th {\n",
       "        text-align: right;\n",
       "    }\n",
       "</style>\n",
       "<table border=\"1\" class=\"dataframe\">\n",
       "  <thead>\n",
       "    <tr style=\"text-align: right;\">\n",
       "      <th></th>\n",
       "      <th>Id</th>\n",
       "      <th>ActivityDay</th>\n",
       "      <th>StepTotal</th>\n",
       "    </tr>\n",
       "  </thead>\n",
       "  <tbody>\n",
       "    <tr>\n",
       "      <th>0</th>\n",
       "      <td>1503960366</td>\n",
       "      <td>2016-04-12</td>\n",
       "      <td>13162</td>\n",
       "    </tr>\n",
       "    <tr>\n",
       "      <th>1</th>\n",
       "      <td>1503960366</td>\n",
       "      <td>2016-04-13</td>\n",
       "      <td>10735</td>\n",
       "    </tr>\n",
       "    <tr>\n",
       "      <th>2</th>\n",
       "      <td>1503960366</td>\n",
       "      <td>2016-04-14</td>\n",
       "      <td>10460</td>\n",
       "    </tr>\n",
       "    <tr>\n",
       "      <th>3</th>\n",
       "      <td>1503960366</td>\n",
       "      <td>2016-04-15</td>\n",
       "      <td>9762</td>\n",
       "    </tr>\n",
       "    <tr>\n",
       "      <th>4</th>\n",
       "      <td>1503960366</td>\n",
       "      <td>2016-04-16</td>\n",
       "      <td>12669</td>\n",
       "    </tr>\n",
       "  </tbody>\n",
       "</table>\n",
       "</div>"
      ],
      "text/plain": [
       "           Id ActivityDay  StepTotal\n",
       "0  1503960366  2016-04-12      13162\n",
       "1  1503960366  2016-04-13      10735\n",
       "2  1503960366  2016-04-14      10460\n",
       "3  1503960366  2016-04-15       9762\n",
       "4  1503960366  2016-04-16      12669"
      ]
     },
     "execution_count": 59,
     "metadata": {},
     "output_type": "execute_result"
    }
   ],
   "source": [
    "daily_steps_merged.head()"
   ]
  },
  {
   "cell_type": "code",
   "execution_count": 60,
   "id": "ec208df6",
   "metadata": {
    "execution": {
     "iopub.execute_input": "2025-03-22T06:38:26.808701Z",
     "iopub.status.busy": "2025-03-22T06:38:26.808347Z",
     "iopub.status.idle": "2025-03-22T06:38:26.831191Z",
     "shell.execute_reply": "2025-03-22T06:38:26.830023Z"
    },
    "papermill": {
     "duration": 0.046581,
     "end_time": "2025-03-22T06:38:26.833005",
     "exception": false,
     "start_time": "2025-03-22T06:38:26.786424",
     "status": "completed"
    },
    "tags": []
   },
   "outputs": [
    {
     "data": {
      "text/html": [
       "<div>\n",
       "<style scoped>\n",
       "    .dataframe tbody tr th:only-of-type {\n",
       "        vertical-align: middle;\n",
       "    }\n",
       "\n",
       "    .dataframe tbody tr th {\n",
       "        vertical-align: top;\n",
       "    }\n",
       "\n",
       "    .dataframe thead th {\n",
       "        text-align: right;\n",
       "    }\n",
       "</style>\n",
       "<table border=\"1\" class=\"dataframe\">\n",
       "  <thead>\n",
       "    <tr style=\"text-align: right;\">\n",
       "      <th></th>\n",
       "      <th>Id</th>\n",
       "      <th>ActivityDate</th>\n",
       "      <th>TotalSteps</th>\n",
       "      <th>TotalDistance</th>\n",
       "      <th>TrackerDistance</th>\n",
       "      <th>LoggedActivitiesDistance</th>\n",
       "      <th>VeryActiveDistance</th>\n",
       "      <th>ModeratelyActiveDistance</th>\n",
       "      <th>LightActiveDistance</th>\n",
       "      <th>SedentaryActiveDistance</th>\n",
       "      <th>VeryActiveMinutes</th>\n",
       "      <th>FairlyActiveMinutes</th>\n",
       "      <th>LightlyActiveMinutes</th>\n",
       "      <th>SedentaryMinutes</th>\n",
       "      <th>Calories</th>\n",
       "    </tr>\n",
       "  </thead>\n",
       "  <tbody>\n",
       "    <tr>\n",
       "      <th>0</th>\n",
       "      <td>1503960366</td>\n",
       "      <td>2016-04-12</td>\n",
       "      <td>13162</td>\n",
       "      <td>8.50</td>\n",
       "      <td>8.50</td>\n",
       "      <td>0.0</td>\n",
       "      <td>1.88</td>\n",
       "      <td>0.55</td>\n",
       "      <td>6.06</td>\n",
       "      <td>0.0</td>\n",
       "      <td>25</td>\n",
       "      <td>13</td>\n",
       "      <td>328</td>\n",
       "      <td>728</td>\n",
       "      <td>1985</td>\n",
       "    </tr>\n",
       "    <tr>\n",
       "      <th>1</th>\n",
       "      <td>1503960366</td>\n",
       "      <td>2016-04-13</td>\n",
       "      <td>10735</td>\n",
       "      <td>6.97</td>\n",
       "      <td>6.97</td>\n",
       "      <td>0.0</td>\n",
       "      <td>1.57</td>\n",
       "      <td>0.69</td>\n",
       "      <td>4.71</td>\n",
       "      <td>0.0</td>\n",
       "      <td>21</td>\n",
       "      <td>19</td>\n",
       "      <td>217</td>\n",
       "      <td>776</td>\n",
       "      <td>1797</td>\n",
       "    </tr>\n",
       "    <tr>\n",
       "      <th>2</th>\n",
       "      <td>1503960366</td>\n",
       "      <td>2016-04-14</td>\n",
       "      <td>10460</td>\n",
       "      <td>6.74</td>\n",
       "      <td>6.74</td>\n",
       "      <td>0.0</td>\n",
       "      <td>2.44</td>\n",
       "      <td>0.40</td>\n",
       "      <td>3.91</td>\n",
       "      <td>0.0</td>\n",
       "      <td>30</td>\n",
       "      <td>11</td>\n",
       "      <td>181</td>\n",
       "      <td>1218</td>\n",
       "      <td>1776</td>\n",
       "    </tr>\n",
       "    <tr>\n",
       "      <th>3</th>\n",
       "      <td>1503960366</td>\n",
       "      <td>2016-04-15</td>\n",
       "      <td>9762</td>\n",
       "      <td>6.28</td>\n",
       "      <td>6.28</td>\n",
       "      <td>0.0</td>\n",
       "      <td>2.14</td>\n",
       "      <td>1.26</td>\n",
       "      <td>2.83</td>\n",
       "      <td>0.0</td>\n",
       "      <td>29</td>\n",
       "      <td>34</td>\n",
       "      <td>209</td>\n",
       "      <td>726</td>\n",
       "      <td>1745</td>\n",
       "    </tr>\n",
       "    <tr>\n",
       "      <th>4</th>\n",
       "      <td>1503960366</td>\n",
       "      <td>2016-04-16</td>\n",
       "      <td>12669</td>\n",
       "      <td>8.16</td>\n",
       "      <td>8.16</td>\n",
       "      <td>0.0</td>\n",
       "      <td>2.71</td>\n",
       "      <td>0.41</td>\n",
       "      <td>5.04</td>\n",
       "      <td>0.0</td>\n",
       "      <td>36</td>\n",
       "      <td>10</td>\n",
       "      <td>221</td>\n",
       "      <td>773</td>\n",
       "      <td>1863</td>\n",
       "    </tr>\n",
       "    <tr>\n",
       "      <th>...</th>\n",
       "      <td>...</td>\n",
       "      <td>...</td>\n",
       "      <td>...</td>\n",
       "      <td>...</td>\n",
       "      <td>...</td>\n",
       "      <td>...</td>\n",
       "      <td>...</td>\n",
       "      <td>...</td>\n",
       "      <td>...</td>\n",
       "      <td>...</td>\n",
       "      <td>...</td>\n",
       "      <td>...</td>\n",
       "      <td>...</td>\n",
       "      <td>...</td>\n",
       "      <td>...</td>\n",
       "    </tr>\n",
       "    <tr>\n",
       "      <th>95</th>\n",
       "      <td>1844505072</td>\n",
       "      <td>2016-04-15</td>\n",
       "      <td>3844</td>\n",
       "      <td>2.54</td>\n",
       "      <td>2.54</td>\n",
       "      <td>0.0</td>\n",
       "      <td>0.00</td>\n",
       "      <td>0.00</td>\n",
       "      <td>2.54</td>\n",
       "      <td>0.0</td>\n",
       "      <td>0</td>\n",
       "      <td>0</td>\n",
       "      <td>176</td>\n",
       "      <td>527</td>\n",
       "      <td>1725</td>\n",
       "    </tr>\n",
       "    <tr>\n",
       "      <th>96</th>\n",
       "      <td>1844505072</td>\n",
       "      <td>2016-04-16</td>\n",
       "      <td>3414</td>\n",
       "      <td>2.26</td>\n",
       "      <td>2.26</td>\n",
       "      <td>0.0</td>\n",
       "      <td>0.00</td>\n",
       "      <td>0.00</td>\n",
       "      <td>2.26</td>\n",
       "      <td>0.0</td>\n",
       "      <td>0</td>\n",
       "      <td>0</td>\n",
       "      <td>147</td>\n",
       "      <td>1293</td>\n",
       "      <td>1657</td>\n",
       "    </tr>\n",
       "    <tr>\n",
       "      <th>97</th>\n",
       "      <td>1844505072</td>\n",
       "      <td>2016-04-17</td>\n",
       "      <td>4525</td>\n",
       "      <td>2.99</td>\n",
       "      <td>2.99</td>\n",
       "      <td>0.0</td>\n",
       "      <td>0.14</td>\n",
       "      <td>0.26</td>\n",
       "      <td>2.59</td>\n",
       "      <td>0.0</td>\n",
       "      <td>2</td>\n",
       "      <td>8</td>\n",
       "      <td>199</td>\n",
       "      <td>1231</td>\n",
       "      <td>1793</td>\n",
       "    </tr>\n",
       "    <tr>\n",
       "      <th>98</th>\n",
       "      <td>1844505072</td>\n",
       "      <td>2016-04-18</td>\n",
       "      <td>4597</td>\n",
       "      <td>3.04</td>\n",
       "      <td>3.04</td>\n",
       "      <td>0.0</td>\n",
       "      <td>0.00</td>\n",
       "      <td>0.48</td>\n",
       "      <td>2.56</td>\n",
       "      <td>0.0</td>\n",
       "      <td>0</td>\n",
       "      <td>12</td>\n",
       "      <td>217</td>\n",
       "      <td>1211</td>\n",
       "      <td>1814</td>\n",
       "    </tr>\n",
       "    <tr>\n",
       "      <th>99</th>\n",
       "      <td>1844505072</td>\n",
       "      <td>2016-04-19</td>\n",
       "      <td>197</td>\n",
       "      <td>0.13</td>\n",
       "      <td>0.13</td>\n",
       "      <td>0.0</td>\n",
       "      <td>0.00</td>\n",
       "      <td>0.00</td>\n",
       "      <td>0.13</td>\n",
       "      <td>0.0</td>\n",
       "      <td>0</td>\n",
       "      <td>0</td>\n",
       "      <td>10</td>\n",
       "      <td>1430</td>\n",
       "      <td>1366</td>\n",
       "    </tr>\n",
       "  </tbody>\n",
       "</table>\n",
       "<p>100 rows × 15 columns</p>\n",
       "</div>"
      ],
      "text/plain": [
       "            Id ActivityDate  TotalSteps  TotalDistance  TrackerDistance  \\\n",
       "0   1503960366   2016-04-12       13162           8.50             8.50   \n",
       "1   1503960366   2016-04-13       10735           6.97             6.97   \n",
       "2   1503960366   2016-04-14       10460           6.74             6.74   \n",
       "3   1503960366   2016-04-15        9762           6.28             6.28   \n",
       "4   1503960366   2016-04-16       12669           8.16             8.16   \n",
       "..         ...          ...         ...            ...              ...   \n",
       "95  1844505072   2016-04-15        3844           2.54             2.54   \n",
       "96  1844505072   2016-04-16        3414           2.26             2.26   \n",
       "97  1844505072   2016-04-17        4525           2.99             2.99   \n",
       "98  1844505072   2016-04-18        4597           3.04             3.04   \n",
       "99  1844505072   2016-04-19         197           0.13             0.13   \n",
       "\n",
       "    LoggedActivitiesDistance  VeryActiveDistance  ModeratelyActiveDistance  \\\n",
       "0                        0.0                1.88                      0.55   \n",
       "1                        0.0                1.57                      0.69   \n",
       "2                        0.0                2.44                      0.40   \n",
       "3                        0.0                2.14                      1.26   \n",
       "4                        0.0                2.71                      0.41   \n",
       "..                       ...                 ...                       ...   \n",
       "95                       0.0                0.00                      0.00   \n",
       "96                       0.0                0.00                      0.00   \n",
       "97                       0.0                0.14                      0.26   \n",
       "98                       0.0                0.00                      0.48   \n",
       "99                       0.0                0.00                      0.00   \n",
       "\n",
       "    LightActiveDistance  SedentaryActiveDistance  VeryActiveMinutes  \\\n",
       "0                  6.06                      0.0                 25   \n",
       "1                  4.71                      0.0                 21   \n",
       "2                  3.91                      0.0                 30   \n",
       "3                  2.83                      0.0                 29   \n",
       "4                  5.04                      0.0                 36   \n",
       "..                  ...                      ...                ...   \n",
       "95                 2.54                      0.0                  0   \n",
       "96                 2.26                      0.0                  0   \n",
       "97                 2.59                      0.0                  2   \n",
       "98                 2.56                      0.0                  0   \n",
       "99                 0.13                      0.0                  0   \n",
       "\n",
       "    FairlyActiveMinutes  LightlyActiveMinutes  SedentaryMinutes  Calories  \n",
       "0                    13                   328               728      1985  \n",
       "1                    19                   217               776      1797  \n",
       "2                    11                   181              1218      1776  \n",
       "3                    34                   209               726      1745  \n",
       "4                    10                   221               773      1863  \n",
       "..                  ...                   ...               ...       ...  \n",
       "95                    0                   176               527      1725  \n",
       "96                    0                   147              1293      1657  \n",
       "97                    8                   199              1231      1793  \n",
       "98                   12                   217              1211      1814  \n",
       "99                    0                    10              1430      1366  \n",
       "\n",
       "[100 rows x 15 columns]"
      ]
     },
     "execution_count": 60,
     "metadata": {},
     "output_type": "execute_result"
    }
   ],
   "source": [
    "daily_activity_merged.head(100)\n"
   ]
  },
  {
   "cell_type": "code",
   "execution_count": 61,
   "id": "b4b41131",
   "metadata": {
    "execution": {
     "iopub.execute_input": "2025-03-22T06:38:26.876059Z",
     "iopub.status.busy": "2025-03-22T06:38:26.875673Z",
     "iopub.status.idle": "2025-03-22T06:38:26.886060Z",
     "shell.execute_reply": "2025-03-22T06:38:26.884999Z"
    },
    "papermill": {
     "duration": 0.033839,
     "end_time": "2025-03-22T06:38:26.887858",
     "exception": false,
     "start_time": "2025-03-22T06:38:26.854019",
     "status": "completed"
    },
    "tags": []
   },
   "outputs": [
    {
     "data": {
      "text/html": [
       "<div>\n",
       "<style scoped>\n",
       "    .dataframe tbody tr th:only-of-type {\n",
       "        vertical-align: middle;\n",
       "    }\n",
       "\n",
       "    .dataframe tbody tr th {\n",
       "        vertical-align: top;\n",
       "    }\n",
       "\n",
       "    .dataframe thead th {\n",
       "        text-align: right;\n",
       "    }\n",
       "</style>\n",
       "<table border=\"1\" class=\"dataframe\">\n",
       "  <thead>\n",
       "    <tr style=\"text-align: right;\">\n",
       "      <th></th>\n",
       "      <th>Id</th>\n",
       "      <th>SleepDay</th>\n",
       "      <th>TotalSleepRecords</th>\n",
       "      <th>TotalMinutesAsleep</th>\n",
       "      <th>TotalTimeInBed</th>\n",
       "    </tr>\n",
       "  </thead>\n",
       "  <tbody>\n",
       "    <tr>\n",
       "      <th>0</th>\n",
       "      <td>1503960366</td>\n",
       "      <td>2016-04-12</td>\n",
       "      <td>1</td>\n",
       "      <td>327</td>\n",
       "      <td>346</td>\n",
       "    </tr>\n",
       "    <tr>\n",
       "      <th>1</th>\n",
       "      <td>1503960366</td>\n",
       "      <td>2016-04-13</td>\n",
       "      <td>2</td>\n",
       "      <td>384</td>\n",
       "      <td>407</td>\n",
       "    </tr>\n",
       "    <tr>\n",
       "      <th>2</th>\n",
       "      <td>1503960366</td>\n",
       "      <td>2016-04-15</td>\n",
       "      <td>1</td>\n",
       "      <td>412</td>\n",
       "      <td>442</td>\n",
       "    </tr>\n",
       "    <tr>\n",
       "      <th>3</th>\n",
       "      <td>1503960366</td>\n",
       "      <td>2016-04-16</td>\n",
       "      <td>2</td>\n",
       "      <td>340</td>\n",
       "      <td>367</td>\n",
       "    </tr>\n",
       "    <tr>\n",
       "      <th>4</th>\n",
       "      <td>1503960366</td>\n",
       "      <td>2016-04-17</td>\n",
       "      <td>1</td>\n",
       "      <td>700</td>\n",
       "      <td>712</td>\n",
       "    </tr>\n",
       "  </tbody>\n",
       "</table>\n",
       "</div>"
      ],
      "text/plain": [
       "           Id   SleepDay  TotalSleepRecords  TotalMinutesAsleep  \\\n",
       "0  1503960366 2016-04-12                  1                 327   \n",
       "1  1503960366 2016-04-13                  2                 384   \n",
       "2  1503960366 2016-04-15                  1                 412   \n",
       "3  1503960366 2016-04-16                  2                 340   \n",
       "4  1503960366 2016-04-17                  1                 700   \n",
       "\n",
       "   TotalTimeInBed  \n",
       "0             346  \n",
       "1             407  \n",
       "2             442  \n",
       "3             367  \n",
       "4             712  "
      ]
     },
     "execution_count": 61,
     "metadata": {},
     "output_type": "execute_result"
    }
   ],
   "source": [
    "daily_sleep_merged.head()"
   ]
  },
  {
   "cell_type": "code",
   "execution_count": 62,
   "id": "91c9c89e",
   "metadata": {
    "execution": {
     "iopub.execute_input": "2025-03-22T06:38:26.932375Z",
     "iopub.status.busy": "2025-03-22T06:38:26.932003Z",
     "iopub.status.idle": "2025-03-22T06:38:26.944824Z",
     "shell.execute_reply": "2025-03-22T06:38:26.943725Z"
    },
    "papermill": {
     "duration": 0.037315,
     "end_time": "2025-03-22T06:38:26.946579",
     "exception": false,
     "start_time": "2025-03-22T06:38:26.909264",
     "status": "completed"
    },
    "tags": []
   },
   "outputs": [
    {
     "data": {
      "text/html": [
       "<div>\n",
       "<style scoped>\n",
       "    .dataframe tbody tr th:only-of-type {\n",
       "        vertical-align: middle;\n",
       "    }\n",
       "\n",
       "    .dataframe tbody tr th {\n",
       "        vertical-align: top;\n",
       "    }\n",
       "\n",
       "    .dataframe thead th {\n",
       "        text-align: right;\n",
       "    }\n",
       "</style>\n",
       "<table border=\"1\" class=\"dataframe\">\n",
       "  <thead>\n",
       "    <tr style=\"text-align: right;\">\n",
       "      <th></th>\n",
       "      <th>Id</th>\n",
       "      <th>Date</th>\n",
       "      <th>WeightKg</th>\n",
       "      <th>WeightPounds</th>\n",
       "      <th>BMI</th>\n",
       "      <th>IsManualReport</th>\n",
       "      <th>LogId</th>\n",
       "    </tr>\n",
       "  </thead>\n",
       "  <tbody>\n",
       "    <tr>\n",
       "      <th>0</th>\n",
       "      <td>1503960366</td>\n",
       "      <td>2016-05-02 23:59:59</td>\n",
       "      <td>52.599998</td>\n",
       "      <td>115.963147</td>\n",
       "      <td>22.650000</td>\n",
       "      <td>True</td>\n",
       "      <td>1462233599000</td>\n",
       "    </tr>\n",
       "    <tr>\n",
       "      <th>1</th>\n",
       "      <td>1503960366</td>\n",
       "      <td>2016-05-03 23:59:59</td>\n",
       "      <td>52.599998</td>\n",
       "      <td>115.963147</td>\n",
       "      <td>22.650000</td>\n",
       "      <td>True</td>\n",
       "      <td>1462319999000</td>\n",
       "    </tr>\n",
       "    <tr>\n",
       "      <th>2</th>\n",
       "      <td>1927972279</td>\n",
       "      <td>2016-04-13 01:08:52</td>\n",
       "      <td>133.500000</td>\n",
       "      <td>294.317120</td>\n",
       "      <td>47.540001</td>\n",
       "      <td>False</td>\n",
       "      <td>1460509732000</td>\n",
       "    </tr>\n",
       "    <tr>\n",
       "      <th>3</th>\n",
       "      <td>2873212765</td>\n",
       "      <td>2016-04-21 23:59:59</td>\n",
       "      <td>56.700001</td>\n",
       "      <td>125.002104</td>\n",
       "      <td>21.450001</td>\n",
       "      <td>True</td>\n",
       "      <td>1461283199000</td>\n",
       "    </tr>\n",
       "    <tr>\n",
       "      <th>4</th>\n",
       "      <td>2873212765</td>\n",
       "      <td>2016-05-12 23:59:59</td>\n",
       "      <td>57.299999</td>\n",
       "      <td>126.324875</td>\n",
       "      <td>21.690001</td>\n",
       "      <td>True</td>\n",
       "      <td>1463097599000</td>\n",
       "    </tr>\n",
       "  </tbody>\n",
       "</table>\n",
       "</div>"
      ],
      "text/plain": [
       "           Id                Date    WeightKg  WeightPounds        BMI  \\\n",
       "0  1503960366 2016-05-02 23:59:59   52.599998    115.963147  22.650000   \n",
       "1  1503960366 2016-05-03 23:59:59   52.599998    115.963147  22.650000   \n",
       "2  1927972279 2016-04-13 01:08:52  133.500000    294.317120  47.540001   \n",
       "3  2873212765 2016-04-21 23:59:59   56.700001    125.002104  21.450001   \n",
       "4  2873212765 2016-05-12 23:59:59   57.299999    126.324875  21.690001   \n",
       "\n",
       "   IsManualReport          LogId  \n",
       "0            True  1462233599000  \n",
       "1            True  1462319999000  \n",
       "2           False  1460509732000  \n",
       "3            True  1461283199000  \n",
       "4            True  1463097599000  "
      ]
     },
     "execution_count": 62,
     "metadata": {},
     "output_type": "execute_result"
    }
   ],
   "source": [
    "weightloginfo.head()"
   ]
  },
  {
   "cell_type": "markdown",
   "id": "a76eb56c",
   "metadata": {
    "papermill": {
     "duration": 0.020592,
     "end_time": "2025-03-22T06:38:26.988569",
     "exception": false,
     "start_time": "2025-03-22T06:38:26.967977",
     "status": "completed"
    },
    "tags": []
   },
   "source": [
    "# From here, we will only focus on - \"daily_activity_merged\" , \"daily_sleep_merged\" and \"weight_log_info\" Data.\n",
    "\n",
    "## Lets See How We Can Analyse The Data And Take It Further."
   ]
  },
  {
   "cell_type": "code",
   "execution_count": 63,
   "id": "54b38672",
   "metadata": {
    "execution": {
     "iopub.execute_input": "2025-03-22T06:38:27.031772Z",
     "iopub.status.busy": "2025-03-22T06:38:27.031420Z",
     "iopub.status.idle": "2025-03-22T06:38:27.049514Z",
     "shell.execute_reply": "2025-03-22T06:38:27.048521Z"
    },
    "papermill": {
     "duration": 0.042033,
     "end_time": "2025-03-22T06:38:27.051584",
     "exception": false,
     "start_time": "2025-03-22T06:38:27.009551",
     "status": "completed"
    },
    "tags": []
   },
   "outputs": [
    {
     "data": {
      "text/html": [
       "<div>\n",
       "<style scoped>\n",
       "    .dataframe tbody tr th:only-of-type {\n",
       "        vertical-align: middle;\n",
       "    }\n",
       "\n",
       "    .dataframe tbody tr th {\n",
       "        vertical-align: top;\n",
       "    }\n",
       "\n",
       "    .dataframe thead th {\n",
       "        text-align: right;\n",
       "    }\n",
       "</style>\n",
       "<table border=\"1\" class=\"dataframe\">\n",
       "  <thead>\n",
       "    <tr style=\"text-align: right;\">\n",
       "      <th></th>\n",
       "      <th>Id</th>\n",
       "      <th>ActivityDate</th>\n",
       "      <th>TotalSteps</th>\n",
       "      <th>TotalDistance</th>\n",
       "      <th>TrackerDistance</th>\n",
       "      <th>LoggedActivitiesDistance</th>\n",
       "      <th>VeryActiveDistance</th>\n",
       "      <th>ModeratelyActiveDistance</th>\n",
       "      <th>LightActiveDistance</th>\n",
       "      <th>SedentaryActiveDistance</th>\n",
       "      <th>VeryActiveMinutes</th>\n",
       "      <th>FairlyActiveMinutes</th>\n",
       "      <th>LightlyActiveMinutes</th>\n",
       "      <th>SedentaryMinutes</th>\n",
       "      <th>Calories</th>\n",
       "    </tr>\n",
       "  </thead>\n",
       "  <tbody>\n",
       "    <tr>\n",
       "      <th>0</th>\n",
       "      <td>1503960366</td>\n",
       "      <td>2016-04-12</td>\n",
       "      <td>13162</td>\n",
       "      <td>8.50</td>\n",
       "      <td>8.50</td>\n",
       "      <td>0.0</td>\n",
       "      <td>1.88</td>\n",
       "      <td>0.55</td>\n",
       "      <td>6.06</td>\n",
       "      <td>0.0</td>\n",
       "      <td>25</td>\n",
       "      <td>13</td>\n",
       "      <td>328</td>\n",
       "      <td>728</td>\n",
       "      <td>1985</td>\n",
       "    </tr>\n",
       "    <tr>\n",
       "      <th>1</th>\n",
       "      <td>1503960366</td>\n",
       "      <td>2016-04-13</td>\n",
       "      <td>10735</td>\n",
       "      <td>6.97</td>\n",
       "      <td>6.97</td>\n",
       "      <td>0.0</td>\n",
       "      <td>1.57</td>\n",
       "      <td>0.69</td>\n",
       "      <td>4.71</td>\n",
       "      <td>0.0</td>\n",
       "      <td>21</td>\n",
       "      <td>19</td>\n",
       "      <td>217</td>\n",
       "      <td>776</td>\n",
       "      <td>1797</td>\n",
       "    </tr>\n",
       "    <tr>\n",
       "      <th>2</th>\n",
       "      <td>1503960366</td>\n",
       "      <td>2016-04-14</td>\n",
       "      <td>10460</td>\n",
       "      <td>6.74</td>\n",
       "      <td>6.74</td>\n",
       "      <td>0.0</td>\n",
       "      <td>2.44</td>\n",
       "      <td>0.40</td>\n",
       "      <td>3.91</td>\n",
       "      <td>0.0</td>\n",
       "      <td>30</td>\n",
       "      <td>11</td>\n",
       "      <td>181</td>\n",
       "      <td>1218</td>\n",
       "      <td>1776</td>\n",
       "    </tr>\n",
       "    <tr>\n",
       "      <th>3</th>\n",
       "      <td>1503960366</td>\n",
       "      <td>2016-04-15</td>\n",
       "      <td>9762</td>\n",
       "      <td>6.28</td>\n",
       "      <td>6.28</td>\n",
       "      <td>0.0</td>\n",
       "      <td>2.14</td>\n",
       "      <td>1.26</td>\n",
       "      <td>2.83</td>\n",
       "      <td>0.0</td>\n",
       "      <td>29</td>\n",
       "      <td>34</td>\n",
       "      <td>209</td>\n",
       "      <td>726</td>\n",
       "      <td>1745</td>\n",
       "    </tr>\n",
       "    <tr>\n",
       "      <th>4</th>\n",
       "      <td>1503960366</td>\n",
       "      <td>2016-04-16</td>\n",
       "      <td>12669</td>\n",
       "      <td>8.16</td>\n",
       "      <td>8.16</td>\n",
       "      <td>0.0</td>\n",
       "      <td>2.71</td>\n",
       "      <td>0.41</td>\n",
       "      <td>5.04</td>\n",
       "      <td>0.0</td>\n",
       "      <td>36</td>\n",
       "      <td>10</td>\n",
       "      <td>221</td>\n",
       "      <td>773</td>\n",
       "      <td>1863</td>\n",
       "    </tr>\n",
       "  </tbody>\n",
       "</table>\n",
       "</div>"
      ],
      "text/plain": [
       "           Id ActivityDate  TotalSteps  TotalDistance  TrackerDistance  \\\n",
       "0  1503960366   2016-04-12       13162           8.50             8.50   \n",
       "1  1503960366   2016-04-13       10735           6.97             6.97   \n",
       "2  1503960366   2016-04-14       10460           6.74             6.74   \n",
       "3  1503960366   2016-04-15        9762           6.28             6.28   \n",
       "4  1503960366   2016-04-16       12669           8.16             8.16   \n",
       "\n",
       "   LoggedActivitiesDistance  VeryActiveDistance  ModeratelyActiveDistance  \\\n",
       "0                       0.0                1.88                      0.55   \n",
       "1                       0.0                1.57                      0.69   \n",
       "2                       0.0                2.44                      0.40   \n",
       "3                       0.0                2.14                      1.26   \n",
       "4                       0.0                2.71                      0.41   \n",
       "\n",
       "   LightActiveDistance  SedentaryActiveDistance  VeryActiveMinutes  \\\n",
       "0                 6.06                      0.0                 25   \n",
       "1                 4.71                      0.0                 21   \n",
       "2                 3.91                      0.0                 30   \n",
       "3                 2.83                      0.0                 29   \n",
       "4                 5.04                      0.0                 36   \n",
       "\n",
       "   FairlyActiveMinutes  LightlyActiveMinutes  SedentaryMinutes  Calories  \n",
       "0                   13                   328               728      1985  \n",
       "1                   19                   217               776      1797  \n",
       "2                   11                   181              1218      1776  \n",
       "3                   34                   209               726      1745  \n",
       "4                   10                   221               773      1863  "
      ]
     },
     "execution_count": 63,
     "metadata": {},
     "output_type": "execute_result"
    }
   ],
   "source": [
    "daily_activity_merged.head()"
   ]
  },
  {
   "cell_type": "code",
   "execution_count": 64,
   "id": "0fb08c11",
   "metadata": {
    "execution": {
     "iopub.execute_input": "2025-03-22T06:38:27.096753Z",
     "iopub.status.busy": "2025-03-22T06:38:27.096418Z",
     "iopub.status.idle": "2025-03-22T06:38:27.102275Z",
     "shell.execute_reply": "2025-03-22T06:38:27.100946Z"
    },
    "papermill": {
     "duration": 0.030897,
     "end_time": "2025-03-22T06:38:27.104361",
     "exception": false,
     "start_time": "2025-03-22T06:38:27.073464",
     "status": "completed"
    },
    "tags": []
   },
   "outputs": [],
   "source": [
    "## selecting only the needed columns from the dataset\n",
    "daily_activity_merged = daily_activity_merged[[\"Id\",\"ActivityDate\",\"TotalSteps\",\"TotalDistance\",\"TrackerDistance\",\"SedentaryMinutes\",\"Calories\"]]"
   ]
  },
  {
   "cell_type": "code",
   "execution_count": 65,
   "id": "5a5fd87f",
   "metadata": {
    "execution": {
     "iopub.execute_input": "2025-03-22T06:38:27.166551Z",
     "iopub.status.busy": "2025-03-22T06:38:27.165996Z",
     "iopub.status.idle": "2025-03-22T06:38:27.182620Z",
     "shell.execute_reply": "2025-03-22T06:38:27.181295Z"
    },
    "papermill": {
     "duration": 0.058312,
     "end_time": "2025-03-22T06:38:27.184936",
     "exception": false,
     "start_time": "2025-03-22T06:38:27.126624",
     "status": "completed"
    },
    "tags": []
   },
   "outputs": [
    {
     "data": {
      "text/html": [
       "<div>\n",
       "<style scoped>\n",
       "    .dataframe tbody tr th:only-of-type {\n",
       "        vertical-align: middle;\n",
       "    }\n",
       "\n",
       "    .dataframe tbody tr th {\n",
       "        vertical-align: top;\n",
       "    }\n",
       "\n",
       "    .dataframe thead th {\n",
       "        text-align: right;\n",
       "    }\n",
       "</style>\n",
       "<table border=\"1\" class=\"dataframe\">\n",
       "  <thead>\n",
       "    <tr style=\"text-align: right;\">\n",
       "      <th></th>\n",
       "      <th>Id</th>\n",
       "      <th>ActivityDate</th>\n",
       "      <th>TotalSteps</th>\n",
       "      <th>TotalDistance</th>\n",
       "      <th>TrackerDistance</th>\n",
       "      <th>SedentaryMinutes</th>\n",
       "      <th>Calories</th>\n",
       "    </tr>\n",
       "  </thead>\n",
       "  <tbody>\n",
       "    <tr>\n",
       "      <th>0</th>\n",
       "      <td>1503960366</td>\n",
       "      <td>2016-04-12</td>\n",
       "      <td>13162</td>\n",
       "      <td>8.50</td>\n",
       "      <td>8.50</td>\n",
       "      <td>728</td>\n",
       "      <td>1985</td>\n",
       "    </tr>\n",
       "    <tr>\n",
       "      <th>1</th>\n",
       "      <td>1503960366</td>\n",
       "      <td>2016-04-13</td>\n",
       "      <td>10735</td>\n",
       "      <td>6.97</td>\n",
       "      <td>6.97</td>\n",
       "      <td>776</td>\n",
       "      <td>1797</td>\n",
       "    </tr>\n",
       "    <tr>\n",
       "      <th>2</th>\n",
       "      <td>1503960366</td>\n",
       "      <td>2016-04-14</td>\n",
       "      <td>10460</td>\n",
       "      <td>6.74</td>\n",
       "      <td>6.74</td>\n",
       "      <td>1218</td>\n",
       "      <td>1776</td>\n",
       "    </tr>\n",
       "    <tr>\n",
       "      <th>3</th>\n",
       "      <td>1503960366</td>\n",
       "      <td>2016-04-15</td>\n",
       "      <td>9762</td>\n",
       "      <td>6.28</td>\n",
       "      <td>6.28</td>\n",
       "      <td>726</td>\n",
       "      <td>1745</td>\n",
       "    </tr>\n",
       "    <tr>\n",
       "      <th>4</th>\n",
       "      <td>1503960366</td>\n",
       "      <td>2016-04-16</td>\n",
       "      <td>12669</td>\n",
       "      <td>8.16</td>\n",
       "      <td>8.16</td>\n",
       "      <td>773</td>\n",
       "      <td>1863</td>\n",
       "    </tr>\n",
       "  </tbody>\n",
       "</table>\n",
       "</div>"
      ],
      "text/plain": [
       "           Id ActivityDate  TotalSteps  TotalDistance  TrackerDistance  \\\n",
       "0  1503960366   2016-04-12       13162           8.50             8.50   \n",
       "1  1503960366   2016-04-13       10735           6.97             6.97   \n",
       "2  1503960366   2016-04-14       10460           6.74             6.74   \n",
       "3  1503960366   2016-04-15        9762           6.28             6.28   \n",
       "4  1503960366   2016-04-16       12669           8.16             8.16   \n",
       "\n",
       "   SedentaryMinutes  Calories  \n",
       "0               728      1985  \n",
       "1               776      1797  \n",
       "2              1218      1776  \n",
       "3               726      1745  \n",
       "4               773      1863  "
      ]
     },
     "execution_count": 65,
     "metadata": {},
     "output_type": "execute_result"
    }
   ],
   "source": [
    "daily_activity_merged.head()"
   ]
  },
  {
   "cell_type": "code",
   "execution_count": 66,
   "id": "58aa9124",
   "metadata": {
    "execution": {
     "iopub.execute_input": "2025-03-22T06:38:27.243859Z",
     "iopub.status.busy": "2025-03-22T06:38:27.243521Z",
     "iopub.status.idle": "2025-03-22T06:38:27.254557Z",
     "shell.execute_reply": "2025-03-22T06:38:27.253104Z"
    },
    "papermill": {
     "duration": 0.038408,
     "end_time": "2025-03-22T06:38:27.256941",
     "exception": false,
     "start_time": "2025-03-22T06:38:27.218533",
     "status": "completed"
    },
    "tags": []
   },
   "outputs": [
    {
     "data": {
      "text/html": [
       "<div>\n",
       "<style scoped>\n",
       "    .dataframe tbody tr th:only-of-type {\n",
       "        vertical-align: middle;\n",
       "    }\n",
       "\n",
       "    .dataframe tbody tr th {\n",
       "        vertical-align: top;\n",
       "    }\n",
       "\n",
       "    .dataframe thead th {\n",
       "        text-align: right;\n",
       "    }\n",
       "</style>\n",
       "<table border=\"1\" class=\"dataframe\">\n",
       "  <thead>\n",
       "    <tr style=\"text-align: right;\">\n",
       "      <th></th>\n",
       "      <th>Id</th>\n",
       "      <th>SleepDay</th>\n",
       "      <th>TotalSleepRecords</th>\n",
       "      <th>TotalMinutesAsleep</th>\n",
       "      <th>TotalTimeInBed</th>\n",
       "    </tr>\n",
       "  </thead>\n",
       "  <tbody>\n",
       "    <tr>\n",
       "      <th>0</th>\n",
       "      <td>1503960366</td>\n",
       "      <td>2016-04-12</td>\n",
       "      <td>1</td>\n",
       "      <td>327</td>\n",
       "      <td>346</td>\n",
       "    </tr>\n",
       "    <tr>\n",
       "      <th>1</th>\n",
       "      <td>1503960366</td>\n",
       "      <td>2016-04-13</td>\n",
       "      <td>2</td>\n",
       "      <td>384</td>\n",
       "      <td>407</td>\n",
       "    </tr>\n",
       "    <tr>\n",
       "      <th>2</th>\n",
       "      <td>1503960366</td>\n",
       "      <td>2016-04-15</td>\n",
       "      <td>1</td>\n",
       "      <td>412</td>\n",
       "      <td>442</td>\n",
       "    </tr>\n",
       "    <tr>\n",
       "      <th>3</th>\n",
       "      <td>1503960366</td>\n",
       "      <td>2016-04-16</td>\n",
       "      <td>2</td>\n",
       "      <td>340</td>\n",
       "      <td>367</td>\n",
       "    </tr>\n",
       "    <tr>\n",
       "      <th>4</th>\n",
       "      <td>1503960366</td>\n",
       "      <td>2016-04-17</td>\n",
       "      <td>1</td>\n",
       "      <td>700</td>\n",
       "      <td>712</td>\n",
       "    </tr>\n",
       "  </tbody>\n",
       "</table>\n",
       "</div>"
      ],
      "text/plain": [
       "           Id   SleepDay  TotalSleepRecords  TotalMinutesAsleep  \\\n",
       "0  1503960366 2016-04-12                  1                 327   \n",
       "1  1503960366 2016-04-13                  2                 384   \n",
       "2  1503960366 2016-04-15                  1                 412   \n",
       "3  1503960366 2016-04-16                  2                 340   \n",
       "4  1503960366 2016-04-17                  1                 700   \n",
       "\n",
       "   TotalTimeInBed  \n",
       "0             346  \n",
       "1             407  \n",
       "2             442  \n",
       "3             367  \n",
       "4             712  "
      ]
     },
     "execution_count": 66,
     "metadata": {},
     "output_type": "execute_result"
    }
   ],
   "source": [
    "daily_sleep_merged.head()"
   ]
  },
  {
   "cell_type": "code",
   "execution_count": 67,
   "id": "7ba01d9b",
   "metadata": {
    "execution": {
     "iopub.execute_input": "2025-03-22T06:38:27.319076Z",
     "iopub.status.busy": "2025-03-22T06:38:27.318687Z",
     "iopub.status.idle": "2025-03-22T06:38:27.332566Z",
     "shell.execute_reply": "2025-03-22T06:38:27.331520Z"
    },
    "papermill": {
     "duration": 0.052537,
     "end_time": "2025-03-22T06:38:27.334516",
     "exception": false,
     "start_time": "2025-03-22T06:38:27.281979",
     "status": "completed"
    },
    "tags": []
   },
   "outputs": [
    {
     "data": {
      "text/html": [
       "<div>\n",
       "<style scoped>\n",
       "    .dataframe tbody tr th:only-of-type {\n",
       "        vertical-align: middle;\n",
       "    }\n",
       "\n",
       "    .dataframe tbody tr th {\n",
       "        vertical-align: top;\n",
       "    }\n",
       "\n",
       "    .dataframe thead th {\n",
       "        text-align: right;\n",
       "    }\n",
       "</style>\n",
       "<table border=\"1\" class=\"dataframe\">\n",
       "  <thead>\n",
       "    <tr style=\"text-align: right;\">\n",
       "      <th></th>\n",
       "      <th>Id</th>\n",
       "      <th>Date</th>\n",
       "      <th>WeightKg</th>\n",
       "      <th>WeightPounds</th>\n",
       "      <th>BMI</th>\n",
       "      <th>IsManualReport</th>\n",
       "      <th>LogId</th>\n",
       "    </tr>\n",
       "  </thead>\n",
       "  <tbody>\n",
       "    <tr>\n",
       "      <th>0</th>\n",
       "      <td>1503960366</td>\n",
       "      <td>2016-05-02 23:59:59</td>\n",
       "      <td>52.599998</td>\n",
       "      <td>115.963147</td>\n",
       "      <td>22.650000</td>\n",
       "      <td>True</td>\n",
       "      <td>1462233599000</td>\n",
       "    </tr>\n",
       "    <tr>\n",
       "      <th>1</th>\n",
       "      <td>1503960366</td>\n",
       "      <td>2016-05-03 23:59:59</td>\n",
       "      <td>52.599998</td>\n",
       "      <td>115.963147</td>\n",
       "      <td>22.650000</td>\n",
       "      <td>True</td>\n",
       "      <td>1462319999000</td>\n",
       "    </tr>\n",
       "    <tr>\n",
       "      <th>2</th>\n",
       "      <td>1927972279</td>\n",
       "      <td>2016-04-13 01:08:52</td>\n",
       "      <td>133.500000</td>\n",
       "      <td>294.317120</td>\n",
       "      <td>47.540001</td>\n",
       "      <td>False</td>\n",
       "      <td>1460509732000</td>\n",
       "    </tr>\n",
       "    <tr>\n",
       "      <th>3</th>\n",
       "      <td>2873212765</td>\n",
       "      <td>2016-04-21 23:59:59</td>\n",
       "      <td>56.700001</td>\n",
       "      <td>125.002104</td>\n",
       "      <td>21.450001</td>\n",
       "      <td>True</td>\n",
       "      <td>1461283199000</td>\n",
       "    </tr>\n",
       "    <tr>\n",
       "      <th>4</th>\n",
       "      <td>2873212765</td>\n",
       "      <td>2016-05-12 23:59:59</td>\n",
       "      <td>57.299999</td>\n",
       "      <td>126.324875</td>\n",
       "      <td>21.690001</td>\n",
       "      <td>True</td>\n",
       "      <td>1463097599000</td>\n",
       "    </tr>\n",
       "  </tbody>\n",
       "</table>\n",
       "</div>"
      ],
      "text/plain": [
       "           Id                Date    WeightKg  WeightPounds        BMI  \\\n",
       "0  1503960366 2016-05-02 23:59:59   52.599998    115.963147  22.650000   \n",
       "1  1503960366 2016-05-03 23:59:59   52.599998    115.963147  22.650000   \n",
       "2  1927972279 2016-04-13 01:08:52  133.500000    294.317120  47.540001   \n",
       "3  2873212765 2016-04-21 23:59:59   56.700001    125.002104  21.450001   \n",
       "4  2873212765 2016-05-12 23:59:59   57.299999    126.324875  21.690001   \n",
       "\n",
       "   IsManualReport          LogId  \n",
       "0            True  1462233599000  \n",
       "1            True  1462319999000  \n",
       "2           False  1460509732000  \n",
       "3            True  1461283199000  \n",
       "4            True  1463097599000  "
      ]
     },
     "execution_count": 67,
     "metadata": {},
     "output_type": "execute_result"
    }
   ],
   "source": [
    "weightloginfo.head()"
   ]
  },
  {
   "cell_type": "code",
   "execution_count": 68,
   "id": "dcff3c14",
   "metadata": {
    "execution": {
     "iopub.execute_input": "2025-03-22T06:38:27.385781Z",
     "iopub.status.busy": "2025-03-22T06:38:27.385432Z",
     "iopub.status.idle": "2025-03-22T06:38:27.390778Z",
     "shell.execute_reply": "2025-03-22T06:38:27.389640Z"
    },
    "papermill": {
     "duration": 0.031122,
     "end_time": "2025-03-22T06:38:27.392613",
     "exception": false,
     "start_time": "2025-03-22T06:38:27.361491",
     "status": "completed"
    },
    "tags": []
   },
   "outputs": [],
   "source": [
    "## selecting only the needed columns from the dataset\n",
    "weightloginfo =weightloginfo[[\"Id\",\"Date\",\"WeightKg\",\"BMI\"]]"
   ]
  },
  {
   "cell_type": "code",
   "execution_count": 69,
   "id": "48000b1e",
   "metadata": {
    "execution": {
     "iopub.execute_input": "2025-03-22T06:38:27.440443Z",
     "iopub.status.busy": "2025-03-22T06:38:27.440090Z",
     "iopub.status.idle": "2025-03-22T06:38:27.453127Z",
     "shell.execute_reply": "2025-03-22T06:38:27.452056Z"
    },
    "papermill": {
     "duration": 0.039705,
     "end_time": "2025-03-22T06:38:27.454944",
     "exception": false,
     "start_time": "2025-03-22T06:38:27.415239",
     "status": "completed"
    },
    "tags": []
   },
   "outputs": [
    {
     "data": {
      "text/html": [
       "<div>\n",
       "<style scoped>\n",
       "    .dataframe tbody tr th:only-of-type {\n",
       "        vertical-align: middle;\n",
       "    }\n",
       "\n",
       "    .dataframe tbody tr th {\n",
       "        vertical-align: top;\n",
       "    }\n",
       "\n",
       "    .dataframe thead th {\n",
       "        text-align: right;\n",
       "    }\n",
       "</style>\n",
       "<table border=\"1\" class=\"dataframe\">\n",
       "  <thead>\n",
       "    <tr style=\"text-align: right;\">\n",
       "      <th></th>\n",
       "      <th>Id</th>\n",
       "      <th>Date</th>\n",
       "      <th>WeightKg</th>\n",
       "      <th>BMI</th>\n",
       "    </tr>\n",
       "  </thead>\n",
       "  <tbody>\n",
       "    <tr>\n",
       "      <th>0</th>\n",
       "      <td>1503960366</td>\n",
       "      <td>2016-05-02 23:59:59</td>\n",
       "      <td>52.599998</td>\n",
       "      <td>22.650000</td>\n",
       "    </tr>\n",
       "    <tr>\n",
       "      <th>1</th>\n",
       "      <td>1503960366</td>\n",
       "      <td>2016-05-03 23:59:59</td>\n",
       "      <td>52.599998</td>\n",
       "      <td>22.650000</td>\n",
       "    </tr>\n",
       "    <tr>\n",
       "      <th>2</th>\n",
       "      <td>1927972279</td>\n",
       "      <td>2016-04-13 01:08:52</td>\n",
       "      <td>133.500000</td>\n",
       "      <td>47.540001</td>\n",
       "    </tr>\n",
       "    <tr>\n",
       "      <th>3</th>\n",
       "      <td>2873212765</td>\n",
       "      <td>2016-04-21 23:59:59</td>\n",
       "      <td>56.700001</td>\n",
       "      <td>21.450001</td>\n",
       "    </tr>\n",
       "    <tr>\n",
       "      <th>4</th>\n",
       "      <td>2873212765</td>\n",
       "      <td>2016-05-12 23:59:59</td>\n",
       "      <td>57.299999</td>\n",
       "      <td>21.690001</td>\n",
       "    </tr>\n",
       "  </tbody>\n",
       "</table>\n",
       "</div>"
      ],
      "text/plain": [
       "           Id                Date    WeightKg        BMI\n",
       "0  1503960366 2016-05-02 23:59:59   52.599998  22.650000\n",
       "1  1503960366 2016-05-03 23:59:59   52.599998  22.650000\n",
       "2  1927972279 2016-04-13 01:08:52  133.500000  47.540001\n",
       "3  2873212765 2016-04-21 23:59:59   56.700001  21.450001\n",
       "4  2873212765 2016-05-12 23:59:59   57.299999  21.690001"
      ]
     },
     "execution_count": 69,
     "metadata": {},
     "output_type": "execute_result"
    }
   ],
   "source": [
    "weightloginfo.head()"
   ]
  },
  {
   "cell_type": "code",
   "execution_count": 70,
   "id": "5747c4f7",
   "metadata": {
    "execution": {
     "iopub.execute_input": "2025-03-22T06:38:27.512169Z",
     "iopub.status.busy": "2025-03-22T06:38:27.511709Z",
     "iopub.status.idle": "2025-03-22T06:38:27.524219Z",
     "shell.execute_reply": "2025-03-22T06:38:27.523077Z"
    },
    "papermill": {
     "duration": 0.041067,
     "end_time": "2025-03-22T06:38:27.526047",
     "exception": false,
     "start_time": "2025-03-22T06:38:27.484980",
     "status": "completed"
    },
    "tags": []
   },
   "outputs": [
    {
     "name": "stdout",
     "output_type": "stream",
     "text": [
      "<class 'pandas.core.frame.DataFrame'>\n",
      "RangeIndex: 67 entries, 0 to 66\n",
      "Data columns (total 4 columns):\n",
      " #   Column    Non-Null Count  Dtype         \n",
      "---  ------    --------------  -----         \n",
      " 0   Id        67 non-null     string        \n",
      " 1   Date      67 non-null     datetime64[ns]\n",
      " 2   WeightKg  67 non-null     float64       \n",
      " 3   BMI       67 non-null     float64       \n",
      "dtypes: datetime64[ns](1), float64(2), string(1)\n",
      "memory usage: 2.2 KB\n"
     ]
    }
   ],
   "source": [
    "weightloginfo.info()"
   ]
  },
  {
   "cell_type": "code",
   "execution_count": 71,
   "id": "b16e36b5",
   "metadata": {
    "execution": {
     "iopub.execute_input": "2025-03-22T06:38:27.572273Z",
     "iopub.status.busy": "2025-03-22T06:38:27.571829Z",
     "iopub.status.idle": "2025-03-22T06:38:27.592764Z",
     "shell.execute_reply": "2025-03-22T06:38:27.591116Z"
    },
    "papermill": {
     "duration": 0.046418,
     "end_time": "2025-03-22T06:38:27.594888",
     "exception": false,
     "start_time": "2025-03-22T06:38:27.548470",
     "status": "completed"
    },
    "tags": []
   },
   "outputs": [],
   "source": [
    "daily_activity_merged.to_csv(\"daily_activity_clean.csv\")\n",
    "daily_sleep_merged.to_csv(\"daily_sleep_cleaned.csv\")\n",
    "weightloginfo.to_csv(\"weightloginfo_clean.csv\")"
   ]
  }
 ],
 "metadata": {
  "kaggle": {
   "accelerator": "none",
   "dataSources": [
    {
     "datasetId": 1041311,
     "sourceId": 7746251,
     "sourceType": "datasetVersion"
    }
   ],
   "dockerImageVersionId": 30918,
   "isGpuEnabled": false,
   "isInternetEnabled": true,
   "language": "python",
   "sourceType": "notebook"
  },
  "kernelspec": {
   "display_name": "Python 3",
   "language": "python",
   "name": "python3"
  },
  "language_info": {
   "codemirror_mode": {
    "name": "ipython",
    "version": 3
   },
   "file_extension": ".py",
   "mimetype": "text/x-python",
   "name": "python",
   "nbconvert_exporter": "python",
   "pygments_lexer": "ipython3",
   "version": "3.10.12"
  },
  "papermill": {
   "default_parameters": {},
   "duration": 8.848774,
   "end_time": "2025-03-22T06:38:28.137606",
   "environment_variables": {},
   "exception": null,
   "input_path": "__notebook__.ipynb",
   "output_path": "__notebook__.ipynb",
   "parameters": {},
   "start_time": "2025-03-22T06:38:19.288832",
   "version": "2.6.0"
  }
 },
 "nbformat": 4,
 "nbformat_minor": 5
}
