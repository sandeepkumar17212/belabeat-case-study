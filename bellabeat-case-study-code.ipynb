{
 "cells": [
  {
   "cell_type": "code",
   "execution_count": 1,
   "id": "3d76bd23",
   "metadata": {
    "_cell_guid": "b1076dfc-b9ad-4769-8c92-a6c4dae69d19",
    "_uuid": "8f2839f25d086af736a60e9eeb907d3b93b6e0e5",
    "execution": {
     "iopub.execute_input": "2025-03-17T01:19:43.117416Z",
     "iopub.status.busy": "2025-03-17T01:19:43.116984Z",
     "iopub.status.idle": "2025-03-17T01:19:43.910747Z",
     "shell.execute_reply": "2025-03-17T01:19:43.909721Z"
    },
    "jupyter": {
     "source_hidden": true
    },
    "papermill": {
     "duration": 0.804947,
     "end_time": "2025-03-17T01:19:43.912040",
     "exception": false,
     "start_time": "2025-03-17T01:19:43.107093",
     "status": "completed"
    },
    "tags": []
   },
   "outputs": [
    {
     "name": "stdout",
     "output_type": "stream",
     "text": [
      "/kaggle/input/fitbit/mturkfitbit_export_3.12.16-4.11.16/Fitabase Data 3.12.16-4.11.16/minuteCaloriesNarrow_merged.csv\n",
      "/kaggle/input/fitbit/mturkfitbit_export_3.12.16-4.11.16/Fitabase Data 3.12.16-4.11.16/weightLogInfo_merged.csv\n",
      "/kaggle/input/fitbit/mturkfitbit_export_3.12.16-4.11.16/Fitabase Data 3.12.16-4.11.16/minuteMETsNarrow_merged.csv\n",
      "/kaggle/input/fitbit/mturkfitbit_export_3.12.16-4.11.16/Fitabase Data 3.12.16-4.11.16/hourlyCalories_merged.csv\n",
      "/kaggle/input/fitbit/mturkfitbit_export_3.12.16-4.11.16/Fitabase Data 3.12.16-4.11.16/heartrate_seconds_merged.csv\n",
      "/kaggle/input/fitbit/mturkfitbit_export_3.12.16-4.11.16/Fitabase Data 3.12.16-4.11.16/minuteSleep_merged.csv\n",
      "/kaggle/input/fitbit/mturkfitbit_export_3.12.16-4.11.16/Fitabase Data 3.12.16-4.11.16/hourlyIntensities_merged.csv\n",
      "/kaggle/input/fitbit/mturkfitbit_export_3.12.16-4.11.16/Fitabase Data 3.12.16-4.11.16/hourlySteps_merged.csv\n",
      "/kaggle/input/fitbit/mturkfitbit_export_3.12.16-4.11.16/Fitabase Data 3.12.16-4.11.16/minuteStepsNarrow_merged.csv\n",
      "/kaggle/input/fitbit/mturkfitbit_export_3.12.16-4.11.16/Fitabase Data 3.12.16-4.11.16/minuteIntensitiesNarrow_merged.csv\n",
      "/kaggle/input/fitbit/mturkfitbit_export_3.12.16-4.11.16/Fitabase Data 3.12.16-4.11.16/dailyActivity_merged.csv\n",
      "/kaggle/input/fitbit/mturkfitbit_export_4.12.16-5.12.16/Fitabase Data 4.12.16-5.12.16/minuteCaloriesNarrow_merged.csv\n",
      "/kaggle/input/fitbit/mturkfitbit_export_4.12.16-5.12.16/Fitabase Data 4.12.16-5.12.16/weightLogInfo_merged.csv\n",
      "/kaggle/input/fitbit/mturkfitbit_export_4.12.16-5.12.16/Fitabase Data 4.12.16-5.12.16/sleepDay_merged.csv\n",
      "/kaggle/input/fitbit/mturkfitbit_export_4.12.16-5.12.16/Fitabase Data 4.12.16-5.12.16/dailyIntensities_merged.csv\n",
      "/kaggle/input/fitbit/mturkfitbit_export_4.12.16-5.12.16/Fitabase Data 4.12.16-5.12.16/minuteIntensitiesWide_merged.csv\n",
      "/kaggle/input/fitbit/mturkfitbit_export_4.12.16-5.12.16/Fitabase Data 4.12.16-5.12.16/minuteMETsNarrow_merged.csv\n",
      "/kaggle/input/fitbit/mturkfitbit_export_4.12.16-5.12.16/Fitabase Data 4.12.16-5.12.16/dailyCalories_merged.csv\n",
      "/kaggle/input/fitbit/mturkfitbit_export_4.12.16-5.12.16/Fitabase Data 4.12.16-5.12.16/hourlyCalories_merged.csv\n",
      "/kaggle/input/fitbit/mturkfitbit_export_4.12.16-5.12.16/Fitabase Data 4.12.16-5.12.16/heartrate_seconds_merged.csv\n",
      "/kaggle/input/fitbit/mturkfitbit_export_4.12.16-5.12.16/Fitabase Data 4.12.16-5.12.16/minuteSleep_merged.csv\n",
      "/kaggle/input/fitbit/mturkfitbit_export_4.12.16-5.12.16/Fitabase Data 4.12.16-5.12.16/hourlyIntensities_merged.csv\n",
      "/kaggle/input/fitbit/mturkfitbit_export_4.12.16-5.12.16/Fitabase Data 4.12.16-5.12.16/hourlySteps_merged.csv\n",
      "/kaggle/input/fitbit/mturkfitbit_export_4.12.16-5.12.16/Fitabase Data 4.12.16-5.12.16/minuteStepsNarrow_merged.csv\n",
      "/kaggle/input/fitbit/mturkfitbit_export_4.12.16-5.12.16/Fitabase Data 4.12.16-5.12.16/dailySteps_merged.csv\n",
      "/kaggle/input/fitbit/mturkfitbit_export_4.12.16-5.12.16/Fitabase Data 4.12.16-5.12.16/minuteStepsWide_merged.csv\n",
      "/kaggle/input/fitbit/mturkfitbit_export_4.12.16-5.12.16/Fitabase Data 4.12.16-5.12.16/minuteIntensitiesNarrow_merged.csv\n",
      "/kaggle/input/fitbit/mturkfitbit_export_4.12.16-5.12.16/Fitabase Data 4.12.16-5.12.16/minuteCaloriesWide_merged.csv\n",
      "/kaggle/input/fitbit/mturkfitbit_export_4.12.16-5.12.16/Fitabase Data 4.12.16-5.12.16/dailyActivity_merged.csv\n"
     ]
    }
   ],
   "source": [
    "# This Python 3 environment comes with many helpful analytics libraries installed\n",
    "# It is defined by the kaggle/python Docker image: https://github.com/kaggle/docker-python\n",
    "# For example, here's several helpful packages to load\n",
    "\n",
    "import numpy as np # linear algebra\n",
    "import pandas as pd # data processing, CSV file I/O (e.g. pd.read_csv)\n",
    "\n",
    "# Input data files are available in the read-only \"../input/\" directory\n",
    "# For example, running this (by clicking run or pressing Shift+Enter) will list all files under the input directory\n",
    "\n",
    "import os\n",
    "for dirname, _, filenames in os.walk('/kaggle/input'):\n",
    "    for filename in filenames:\n",
    "        print(os.path.join(dirname, filename))\n",
    "\n",
    "# You can write up to 20GB to the current directory (/kaggle/working/) that gets preserved as output when you create a version using \"Save & Run All\" \n",
    "# You can also write temporary files to /kaggle/temp/, but they won't be saved outside of the current session"
   ]
  },
  {
   "cell_type": "code",
   "execution_count": 2,
   "id": "4a6cca2a",
   "metadata": {
    "execution": {
     "iopub.execute_input": "2025-03-17T01:19:43.929794Z",
     "iopub.status.busy": "2025-03-17T01:19:43.929404Z",
     "iopub.status.idle": "2025-03-17T01:19:43.956153Z",
     "shell.execute_reply": "2025-03-17T01:19:43.955348Z"
    },
    "jupyter": {
     "source_hidden": true
    },
    "papermill": {
     "duration": 0.037197,
     "end_time": "2025-03-17T01:19:43.957793",
     "exception": false,
     "start_time": "2025-03-17T01:19:43.920596",
     "status": "completed"
    },
    "tags": []
   },
   "outputs": [],
   "source": [
    "daily_activity_merged = pd.read_csv(\"/kaggle/input/fitbit/mturkfitbit_export_4.12.16-5.12.16/Fitabase Data 4.12.16-5.12.16/dailyActivity_merged.csv\")"
   ]
  },
  {
   "cell_type": "code",
   "execution_count": 3,
   "id": "08e4b3b7",
   "metadata": {
    "execution": {
     "iopub.execute_input": "2025-03-17T01:19:43.975380Z",
     "iopub.status.busy": "2025-03-17T01:19:43.975042Z",
     "iopub.status.idle": "2025-03-17T01:19:43.986407Z",
     "shell.execute_reply": "2025-03-17T01:19:43.985171Z"
    },
    "jupyter": {
     "source_hidden": true
    },
    "papermill": {
     "duration": 0.0216,
     "end_time": "2025-03-17T01:19:43.987979",
     "exception": false,
     "start_time": "2025-03-17T01:19:43.966379",
     "status": "completed"
    },
    "tags": []
   },
   "outputs": [],
   "source": [
    "daily_calories_merged = pd.read_csv(\"/kaggle/input/fitbit/mturkfitbit_export_4.12.16-5.12.16/Fitabase Data 4.12.16-5.12.16/dailyCalories_merged.csv\")"
   ]
  },
  {
   "cell_type": "code",
   "execution_count": 4,
   "id": "e5723dec",
   "metadata": {
    "execution": {
     "iopub.execute_input": "2025-03-17T01:19:44.012925Z",
     "iopub.status.busy": "2025-03-17T01:19:44.012561Z",
     "iopub.status.idle": "2025-03-17T01:19:44.025660Z",
     "shell.execute_reply": "2025-03-17T01:19:44.024801Z"
    },
    "jupyter": {
     "source_hidden": true
    },
    "papermill": {
     "duration": 0.027018,
     "end_time": "2025-03-17T01:19:44.026982",
     "exception": false,
     "start_time": "2025-03-17T01:19:43.999964",
     "status": "completed"
    },
    "tags": []
   },
   "outputs": [],
   "source": [
    "daily_intensity_merged = pd.read_csv(\"/kaggle/input/fitbit/mturkfitbit_export_4.12.16-5.12.16/Fitabase Data 4.12.16-5.12.16/dailyIntensities_merged.csv\")"
   ]
  },
  {
   "cell_type": "code",
   "execution_count": 5,
   "id": "cef178e2",
   "metadata": {
    "execution": {
     "iopub.execute_input": "2025-03-17T01:19:44.045161Z",
     "iopub.status.busy": "2025-03-17T01:19:44.044864Z",
     "iopub.status.idle": "2025-03-17T01:19:44.055333Z",
     "shell.execute_reply": "2025-03-17T01:19:44.054517Z"
    },
    "jupyter": {
     "source_hidden": true
    },
    "papermill": {
     "duration": 0.021316,
     "end_time": "2025-03-17T01:19:44.056872",
     "exception": false,
     "start_time": "2025-03-17T01:19:44.035556",
     "status": "completed"
    },
    "tags": []
   },
   "outputs": [],
   "source": [
    "daily_steps_merged = pd.read_csv(\"/kaggle/input/fitbit/mturkfitbit_export_4.12.16-5.12.16/Fitabase Data 4.12.16-5.12.16/dailySteps_merged.csv\")"
   ]
  },
  {
   "cell_type": "code",
   "execution_count": 6,
   "id": "ab9c2d21",
   "metadata": {
    "execution": {
     "iopub.execute_input": "2025-03-17T01:19:44.075461Z",
     "iopub.status.busy": "2025-03-17T01:19:44.075074Z",
     "iopub.status.idle": "2025-03-17T01:19:44.085931Z",
     "shell.execute_reply": "2025-03-17T01:19:44.084776Z"
    },
    "jupyter": {
     "source_hidden": true
    },
    "papermill": {
     "duration": 0.022513,
     "end_time": "2025-03-17T01:19:44.087783",
     "exception": false,
     "start_time": "2025-03-17T01:19:44.065270",
     "status": "completed"
    },
    "tags": []
   },
   "outputs": [],
   "source": [
    "daily_sleep_merged = pd.read_csv(\"/kaggle/input/fitbit/mturkfitbit_export_4.12.16-5.12.16/Fitabase Data 4.12.16-5.12.16/sleepDay_merged.csv\")"
   ]
  },
  {
   "cell_type": "code",
   "execution_count": 7,
   "id": "86db49ff",
   "metadata": {
    "execution": {
     "iopub.execute_input": "2025-03-17T01:19:44.105499Z",
     "iopub.status.busy": "2025-03-17T01:19:44.105172Z",
     "iopub.status.idle": "2025-03-17T01:19:44.117145Z",
     "shell.execute_reply": "2025-03-17T01:19:44.116439Z"
    },
    "jupyter": {
     "source_hidden": true
    },
    "papermill": {
     "duration": 0.022093,
     "end_time": "2025-03-17T01:19:44.118546",
     "exception": false,
     "start_time": "2025-03-17T01:19:44.096453",
     "status": "completed"
    },
    "tags": []
   },
   "outputs": [],
   "source": [
    "weightloginfo = pd.read_csv(\"/kaggle/input/fitbit/mturkfitbit_export_4.12.16-5.12.16/Fitabase Data 4.12.16-5.12.16/weightLogInfo_merged.csv\")"
   ]
  },
  {
   "cell_type": "markdown",
   "id": "71997062",
   "metadata": {
    "papermill": {
     "duration": 0.007755,
     "end_time": "2025-03-17T01:19:44.134925",
     "exception": false,
     "start_time": "2025-03-17T01:19:44.127170",
     "status": "completed"
    },
    "tags": []
   },
   "source": [
    "# explore all datasets- \n",
    "## datasets imported till now- \n",
    "1. daily_activity_merged\n",
    "2. daily_calories_merged\n",
    "3. daily_intensity_merged\n",
    "4. daily_steps_merged\n",
    "5. daily_sleep_merged\n",
    "6. weightloginfo\n",
    "\n",
    "findings after exploring-  \n",
    "\n",
    "1. daily_activity_merged ---  need to fix columns datatype // #### done\n",
    "2. daily_calories_merged ---  need to fix columns datatype // #### done\n",
    "3. daily_intensity_merged ---  need to fix columns datatype // #### done\n",
    "4. daily_steps_merged ---  need to fix columns datatype // #### done\n",
    "5. daily_sleep_merged ---  need to fix columns datatype  --- need to fix duplicate rows\n",
    "6. weightloginfo  ---  need to fix columns datatype  --- need to fix null values in rows"
   ]
  },
  {
   "cell_type": "code",
   "execution_count": 8,
   "id": "88edf1d5",
   "metadata": {
    "execution": {
     "iopub.execute_input": "2025-03-17T01:19:44.151629Z",
     "iopub.status.busy": "2025-03-17T01:19:44.151324Z",
     "iopub.status.idle": "2025-03-17T01:19:44.177296Z",
     "shell.execute_reply": "2025-03-17T01:19:44.176506Z"
    },
    "jupyter": {
     "source_hidden": true
    },
    "papermill": {
     "duration": 0.035744,
     "end_time": "2025-03-17T01:19:44.178513",
     "exception": false,
     "start_time": "2025-03-17T01:19:44.142769",
     "status": "completed"
    },
    "tags": []
   },
   "outputs": [
    {
     "data": {
      "text/html": [
       "<div>\n",
       "<style scoped>\n",
       "    .dataframe tbody tr th:only-of-type {\n",
       "        vertical-align: middle;\n",
       "    }\n",
       "\n",
       "    .dataframe tbody tr th {\n",
       "        vertical-align: top;\n",
       "    }\n",
       "\n",
       "    .dataframe thead th {\n",
       "        text-align: right;\n",
       "    }\n",
       "</style>\n",
       "<table border=\"1\" class=\"dataframe\">\n",
       "  <thead>\n",
       "    <tr style=\"text-align: right;\">\n",
       "      <th></th>\n",
       "      <th>Id</th>\n",
       "      <th>ActivityDate</th>\n",
       "      <th>TotalSteps</th>\n",
       "      <th>TotalDistance</th>\n",
       "      <th>TrackerDistance</th>\n",
       "      <th>LoggedActivitiesDistance</th>\n",
       "      <th>VeryActiveDistance</th>\n",
       "      <th>ModeratelyActiveDistance</th>\n",
       "      <th>LightActiveDistance</th>\n",
       "      <th>SedentaryActiveDistance</th>\n",
       "      <th>VeryActiveMinutes</th>\n",
       "      <th>FairlyActiveMinutes</th>\n",
       "      <th>LightlyActiveMinutes</th>\n",
       "      <th>SedentaryMinutes</th>\n",
       "      <th>Calories</th>\n",
       "    </tr>\n",
       "  </thead>\n",
       "  <tbody>\n",
       "    <tr>\n",
       "      <th>0</th>\n",
       "      <td>1503960366</td>\n",
       "      <td>4/12/2016</td>\n",
       "      <td>13162</td>\n",
       "      <td>8.50</td>\n",
       "      <td>8.50</td>\n",
       "      <td>0.0</td>\n",
       "      <td>1.88</td>\n",
       "      <td>0.55</td>\n",
       "      <td>6.06</td>\n",
       "      <td>0.0</td>\n",
       "      <td>25</td>\n",
       "      <td>13</td>\n",
       "      <td>328</td>\n",
       "      <td>728</td>\n",
       "      <td>1985</td>\n",
       "    </tr>\n",
       "    <tr>\n",
       "      <th>1</th>\n",
       "      <td>1503960366</td>\n",
       "      <td>4/13/2016</td>\n",
       "      <td>10735</td>\n",
       "      <td>6.97</td>\n",
       "      <td>6.97</td>\n",
       "      <td>0.0</td>\n",
       "      <td>1.57</td>\n",
       "      <td>0.69</td>\n",
       "      <td>4.71</td>\n",
       "      <td>0.0</td>\n",
       "      <td>21</td>\n",
       "      <td>19</td>\n",
       "      <td>217</td>\n",
       "      <td>776</td>\n",
       "      <td>1797</td>\n",
       "    </tr>\n",
       "    <tr>\n",
       "      <th>2</th>\n",
       "      <td>1503960366</td>\n",
       "      <td>4/14/2016</td>\n",
       "      <td>10460</td>\n",
       "      <td>6.74</td>\n",
       "      <td>6.74</td>\n",
       "      <td>0.0</td>\n",
       "      <td>2.44</td>\n",
       "      <td>0.40</td>\n",
       "      <td>3.91</td>\n",
       "      <td>0.0</td>\n",
       "      <td>30</td>\n",
       "      <td>11</td>\n",
       "      <td>181</td>\n",
       "      <td>1218</td>\n",
       "      <td>1776</td>\n",
       "    </tr>\n",
       "    <tr>\n",
       "      <th>3</th>\n",
       "      <td>1503960366</td>\n",
       "      <td>4/15/2016</td>\n",
       "      <td>9762</td>\n",
       "      <td>6.28</td>\n",
       "      <td>6.28</td>\n",
       "      <td>0.0</td>\n",
       "      <td>2.14</td>\n",
       "      <td>1.26</td>\n",
       "      <td>2.83</td>\n",
       "      <td>0.0</td>\n",
       "      <td>29</td>\n",
       "      <td>34</td>\n",
       "      <td>209</td>\n",
       "      <td>726</td>\n",
       "      <td>1745</td>\n",
       "    </tr>\n",
       "    <tr>\n",
       "      <th>4</th>\n",
       "      <td>1503960366</td>\n",
       "      <td>4/16/2016</td>\n",
       "      <td>12669</td>\n",
       "      <td>8.16</td>\n",
       "      <td>8.16</td>\n",
       "      <td>0.0</td>\n",
       "      <td>2.71</td>\n",
       "      <td>0.41</td>\n",
       "      <td>5.04</td>\n",
       "      <td>0.0</td>\n",
       "      <td>36</td>\n",
       "      <td>10</td>\n",
       "      <td>221</td>\n",
       "      <td>773</td>\n",
       "      <td>1863</td>\n",
       "    </tr>\n",
       "  </tbody>\n",
       "</table>\n",
       "</div>"
      ],
      "text/plain": [
       "           Id ActivityDate  TotalSteps  TotalDistance  TrackerDistance  \\\n",
       "0  1503960366    4/12/2016       13162           8.50             8.50   \n",
       "1  1503960366    4/13/2016       10735           6.97             6.97   \n",
       "2  1503960366    4/14/2016       10460           6.74             6.74   \n",
       "3  1503960366    4/15/2016        9762           6.28             6.28   \n",
       "4  1503960366    4/16/2016       12669           8.16             8.16   \n",
       "\n",
       "   LoggedActivitiesDistance  VeryActiveDistance  ModeratelyActiveDistance  \\\n",
       "0                       0.0                1.88                      0.55   \n",
       "1                       0.0                1.57                      0.69   \n",
       "2                       0.0                2.44                      0.40   \n",
       "3                       0.0                2.14                      1.26   \n",
       "4                       0.0                2.71                      0.41   \n",
       "\n",
       "   LightActiveDistance  SedentaryActiveDistance  VeryActiveMinutes  \\\n",
       "0                 6.06                      0.0                 25   \n",
       "1                 4.71                      0.0                 21   \n",
       "2                 3.91                      0.0                 30   \n",
       "3                 2.83                      0.0                 29   \n",
       "4                 5.04                      0.0                 36   \n",
       "\n",
       "   FairlyActiveMinutes  LightlyActiveMinutes  SedentaryMinutes  Calories  \n",
       "0                   13                   328               728      1985  \n",
       "1                   19                   217               776      1797  \n",
       "2                   11                   181              1218      1776  \n",
       "3                   34                   209               726      1745  \n",
       "4                   10                   221               773      1863  "
      ]
     },
     "execution_count": 8,
     "metadata": {},
     "output_type": "execute_result"
    }
   ],
   "source": [
    "daily_activity_merged.head()"
   ]
  },
  {
   "cell_type": "code",
   "execution_count": 9,
   "id": "72317f29",
   "metadata": {
    "execution": {
     "iopub.execute_input": "2025-03-17T01:19:44.195750Z",
     "iopub.status.busy": "2025-03-17T01:19:44.195436Z",
     "iopub.status.idle": "2025-03-17T01:19:44.207130Z",
     "shell.execute_reply": "2025-03-17T01:19:44.206381Z"
    },
    "jupyter": {
     "source_hidden": true
    },
    "papermill": {
     "duration": 0.021416,
     "end_time": "2025-03-17T01:19:44.208217",
     "exception": false,
     "start_time": "2025-03-17T01:19:44.186801",
     "status": "completed"
    },
    "tags": []
   },
   "outputs": [
    {
     "data": {
      "text/html": [
       "<div>\n",
       "<style scoped>\n",
       "    .dataframe tbody tr th:only-of-type {\n",
       "        vertical-align: middle;\n",
       "    }\n",
       "\n",
       "    .dataframe tbody tr th {\n",
       "        vertical-align: top;\n",
       "    }\n",
       "\n",
       "    .dataframe thead th {\n",
       "        text-align: right;\n",
       "    }\n",
       "</style>\n",
       "<table border=\"1\" class=\"dataframe\">\n",
       "  <thead>\n",
       "    <tr style=\"text-align: right;\">\n",
       "      <th></th>\n",
       "      <th>Id</th>\n",
       "      <th>ActivityDate</th>\n",
       "      <th>TotalSteps</th>\n",
       "      <th>TotalDistance</th>\n",
       "      <th>TrackerDistance</th>\n",
       "      <th>LoggedActivitiesDistance</th>\n",
       "      <th>VeryActiveDistance</th>\n",
       "      <th>ModeratelyActiveDistance</th>\n",
       "      <th>LightActiveDistance</th>\n",
       "      <th>SedentaryActiveDistance</th>\n",
       "      <th>VeryActiveMinutes</th>\n",
       "      <th>FairlyActiveMinutes</th>\n",
       "      <th>LightlyActiveMinutes</th>\n",
       "      <th>SedentaryMinutes</th>\n",
       "      <th>Calories</th>\n",
       "    </tr>\n",
       "  </thead>\n",
       "  <tbody>\n",
       "    <tr>\n",
       "      <th>935</th>\n",
       "      <td>8877689391</td>\n",
       "      <td>5/8/2016</td>\n",
       "      <td>10686</td>\n",
       "      <td>8.110000</td>\n",
       "      <td>8.110000</td>\n",
       "      <td>0.0</td>\n",
       "      <td>1.08</td>\n",
       "      <td>0.20</td>\n",
       "      <td>6.80</td>\n",
       "      <td>0.00</td>\n",
       "      <td>17</td>\n",
       "      <td>4</td>\n",
       "      <td>245</td>\n",
       "      <td>1174</td>\n",
       "      <td>2847</td>\n",
       "    </tr>\n",
       "    <tr>\n",
       "      <th>936</th>\n",
       "      <td>8877689391</td>\n",
       "      <td>5/9/2016</td>\n",
       "      <td>20226</td>\n",
       "      <td>18.250000</td>\n",
       "      <td>18.250000</td>\n",
       "      <td>0.0</td>\n",
       "      <td>11.10</td>\n",
       "      <td>0.80</td>\n",
       "      <td>6.24</td>\n",
       "      <td>0.05</td>\n",
       "      <td>73</td>\n",
       "      <td>19</td>\n",
       "      <td>217</td>\n",
       "      <td>1131</td>\n",
       "      <td>3710</td>\n",
       "    </tr>\n",
       "    <tr>\n",
       "      <th>937</th>\n",
       "      <td>8877689391</td>\n",
       "      <td>5/10/2016</td>\n",
       "      <td>10733</td>\n",
       "      <td>8.150000</td>\n",
       "      <td>8.150000</td>\n",
       "      <td>0.0</td>\n",
       "      <td>1.35</td>\n",
       "      <td>0.46</td>\n",
       "      <td>6.28</td>\n",
       "      <td>0.00</td>\n",
       "      <td>18</td>\n",
       "      <td>11</td>\n",
       "      <td>224</td>\n",
       "      <td>1187</td>\n",
       "      <td>2832</td>\n",
       "    </tr>\n",
       "    <tr>\n",
       "      <th>938</th>\n",
       "      <td>8877689391</td>\n",
       "      <td>5/11/2016</td>\n",
       "      <td>21420</td>\n",
       "      <td>19.559999</td>\n",
       "      <td>19.559999</td>\n",
       "      <td>0.0</td>\n",
       "      <td>13.22</td>\n",
       "      <td>0.41</td>\n",
       "      <td>5.89</td>\n",
       "      <td>0.00</td>\n",
       "      <td>88</td>\n",
       "      <td>12</td>\n",
       "      <td>213</td>\n",
       "      <td>1127</td>\n",
       "      <td>3832</td>\n",
       "    </tr>\n",
       "    <tr>\n",
       "      <th>939</th>\n",
       "      <td>8877689391</td>\n",
       "      <td>5/12/2016</td>\n",
       "      <td>8064</td>\n",
       "      <td>6.120000</td>\n",
       "      <td>6.120000</td>\n",
       "      <td>0.0</td>\n",
       "      <td>1.82</td>\n",
       "      <td>0.04</td>\n",
       "      <td>4.25</td>\n",
       "      <td>0.00</td>\n",
       "      <td>23</td>\n",
       "      <td>1</td>\n",
       "      <td>137</td>\n",
       "      <td>770</td>\n",
       "      <td>1849</td>\n",
       "    </tr>\n",
       "  </tbody>\n",
       "</table>\n",
       "</div>"
      ],
      "text/plain": [
       "             Id ActivityDate  TotalSteps  TotalDistance  TrackerDistance  \\\n",
       "935  8877689391     5/8/2016       10686       8.110000         8.110000   \n",
       "936  8877689391     5/9/2016       20226      18.250000        18.250000   \n",
       "937  8877689391    5/10/2016       10733       8.150000         8.150000   \n",
       "938  8877689391    5/11/2016       21420      19.559999        19.559999   \n",
       "939  8877689391    5/12/2016        8064       6.120000         6.120000   \n",
       "\n",
       "     LoggedActivitiesDistance  VeryActiveDistance  ModeratelyActiveDistance  \\\n",
       "935                       0.0                1.08                      0.20   \n",
       "936                       0.0               11.10                      0.80   \n",
       "937                       0.0                1.35                      0.46   \n",
       "938                       0.0               13.22                      0.41   \n",
       "939                       0.0                1.82                      0.04   \n",
       "\n",
       "     LightActiveDistance  SedentaryActiveDistance  VeryActiveMinutes  \\\n",
       "935                 6.80                     0.00                 17   \n",
       "936                 6.24                     0.05                 73   \n",
       "937                 6.28                     0.00                 18   \n",
       "938                 5.89                     0.00                 88   \n",
       "939                 4.25                     0.00                 23   \n",
       "\n",
       "     FairlyActiveMinutes  LightlyActiveMinutes  SedentaryMinutes  Calories  \n",
       "935                    4                   245              1174      2847  \n",
       "936                   19                   217              1131      3710  \n",
       "937                   11                   224              1187      2832  \n",
       "938                   12                   213              1127      3832  \n",
       "939                    1                   137               770      1849  "
      ]
     },
     "execution_count": 9,
     "metadata": {},
     "output_type": "execute_result"
    }
   ],
   "source": [
    "daily_activity_merged.tail()"
   ]
  },
  {
   "cell_type": "code",
   "execution_count": 10,
   "id": "365ee9bc",
   "metadata": {
    "execution": {
     "iopub.execute_input": "2025-03-17T01:19:44.225366Z",
     "iopub.status.busy": "2025-03-17T01:19:44.225026Z",
     "iopub.status.idle": "2025-03-17T01:19:44.245666Z",
     "shell.execute_reply": "2025-03-17T01:19:44.244715Z"
    },
    "jupyter": {
     "source_hidden": true
    },
    "papermill": {
     "duration": 0.030339,
     "end_time": "2025-03-17T01:19:44.246849",
     "exception": false,
     "start_time": "2025-03-17T01:19:44.216510",
     "status": "completed"
    },
    "tags": []
   },
   "outputs": [
    {
     "name": "stdout",
     "output_type": "stream",
     "text": [
      "<class 'pandas.core.frame.DataFrame'>\n",
      "RangeIndex: 940 entries, 0 to 939\n",
      "Data columns (total 15 columns):\n",
      " #   Column                    Non-Null Count  Dtype  \n",
      "---  ------                    --------------  -----  \n",
      " 0   Id                        940 non-null    int64  \n",
      " 1   ActivityDate              940 non-null    object \n",
      " 2   TotalSteps                940 non-null    int64  \n",
      " 3   TotalDistance             940 non-null    float64\n",
      " 4   TrackerDistance           940 non-null    float64\n",
      " 5   LoggedActivitiesDistance  940 non-null    float64\n",
      " 6   VeryActiveDistance        940 non-null    float64\n",
      " 7   ModeratelyActiveDistance  940 non-null    float64\n",
      " 8   LightActiveDistance       940 non-null    float64\n",
      " 9   SedentaryActiveDistance   940 non-null    float64\n",
      " 10  VeryActiveMinutes         940 non-null    int64  \n",
      " 11  FairlyActiveMinutes       940 non-null    int64  \n",
      " 12  LightlyActiveMinutes      940 non-null    int64  \n",
      " 13  SedentaryMinutes          940 non-null    int64  \n",
      " 14  Calories                  940 non-null    int64  \n",
      "dtypes: float64(7), int64(7), object(1)\n",
      "memory usage: 110.3+ KB\n"
     ]
    }
   ],
   "source": [
    "daily_activity_merged.info()"
   ]
  },
  {
   "cell_type": "code",
   "execution_count": 11,
   "id": "0738e2cd",
   "metadata": {
    "execution": {
     "iopub.execute_input": "2025-03-17T01:19:44.263790Z",
     "iopub.status.busy": "2025-03-17T01:19:44.263517Z",
     "iopub.status.idle": "2025-03-17T01:19:44.294133Z",
     "shell.execute_reply": "2025-03-17T01:19:44.293370Z"
    },
    "jupyter": {
     "source_hidden": true
    },
    "papermill": {
     "duration": 0.040412,
     "end_time": "2025-03-17T01:19:44.295338",
     "exception": false,
     "start_time": "2025-03-17T01:19:44.254926",
     "status": "completed"
    },
    "tags": []
   },
   "outputs": [
    {
     "data": {
      "text/html": [
       "<div>\n",
       "<style scoped>\n",
       "    .dataframe tbody tr th:only-of-type {\n",
       "        vertical-align: middle;\n",
       "    }\n",
       "\n",
       "    .dataframe tbody tr th {\n",
       "        vertical-align: top;\n",
       "    }\n",
       "\n",
       "    .dataframe thead th {\n",
       "        text-align: right;\n",
       "    }\n",
       "</style>\n",
       "<table border=\"1\" class=\"dataframe\">\n",
       "  <thead>\n",
       "    <tr style=\"text-align: right;\">\n",
       "      <th></th>\n",
       "      <th>Id</th>\n",
       "      <th>TotalSteps</th>\n",
       "      <th>TotalDistance</th>\n",
       "      <th>TrackerDistance</th>\n",
       "      <th>LoggedActivitiesDistance</th>\n",
       "      <th>VeryActiveDistance</th>\n",
       "      <th>ModeratelyActiveDistance</th>\n",
       "      <th>LightActiveDistance</th>\n",
       "      <th>SedentaryActiveDistance</th>\n",
       "      <th>VeryActiveMinutes</th>\n",
       "      <th>FairlyActiveMinutes</th>\n",
       "      <th>LightlyActiveMinutes</th>\n",
       "      <th>SedentaryMinutes</th>\n",
       "      <th>Calories</th>\n",
       "    </tr>\n",
       "  </thead>\n",
       "  <tbody>\n",
       "    <tr>\n",
       "      <th>count</th>\n",
       "      <td>9.400000e+02</td>\n",
       "      <td>940.000000</td>\n",
       "      <td>940.000000</td>\n",
       "      <td>940.000000</td>\n",
       "      <td>940.000000</td>\n",
       "      <td>940.000000</td>\n",
       "      <td>940.000000</td>\n",
       "      <td>940.000000</td>\n",
       "      <td>940.000000</td>\n",
       "      <td>940.000000</td>\n",
       "      <td>940.000000</td>\n",
       "      <td>940.000000</td>\n",
       "      <td>940.000000</td>\n",
       "      <td>940.000000</td>\n",
       "    </tr>\n",
       "    <tr>\n",
       "      <th>mean</th>\n",
       "      <td>4.855407e+09</td>\n",
       "      <td>7637.910638</td>\n",
       "      <td>5.489702</td>\n",
       "      <td>5.475351</td>\n",
       "      <td>0.108171</td>\n",
       "      <td>1.502681</td>\n",
       "      <td>0.567543</td>\n",
       "      <td>3.340819</td>\n",
       "      <td>0.001606</td>\n",
       "      <td>21.164894</td>\n",
       "      <td>13.564894</td>\n",
       "      <td>192.812766</td>\n",
       "      <td>991.210638</td>\n",
       "      <td>2303.609574</td>\n",
       "    </tr>\n",
       "    <tr>\n",
       "      <th>std</th>\n",
       "      <td>2.424805e+09</td>\n",
       "      <td>5087.150742</td>\n",
       "      <td>3.924606</td>\n",
       "      <td>3.907276</td>\n",
       "      <td>0.619897</td>\n",
       "      <td>2.658941</td>\n",
       "      <td>0.883580</td>\n",
       "      <td>2.040655</td>\n",
       "      <td>0.007346</td>\n",
       "      <td>32.844803</td>\n",
       "      <td>19.987404</td>\n",
       "      <td>109.174700</td>\n",
       "      <td>301.267437</td>\n",
       "      <td>718.166862</td>\n",
       "    </tr>\n",
       "    <tr>\n",
       "      <th>min</th>\n",
       "      <td>1.503960e+09</td>\n",
       "      <td>0.000000</td>\n",
       "      <td>0.000000</td>\n",
       "      <td>0.000000</td>\n",
       "      <td>0.000000</td>\n",
       "      <td>0.000000</td>\n",
       "      <td>0.000000</td>\n",
       "      <td>0.000000</td>\n",
       "      <td>0.000000</td>\n",
       "      <td>0.000000</td>\n",
       "      <td>0.000000</td>\n",
       "      <td>0.000000</td>\n",
       "      <td>0.000000</td>\n",
       "      <td>0.000000</td>\n",
       "    </tr>\n",
       "    <tr>\n",
       "      <th>25%</th>\n",
       "      <td>2.320127e+09</td>\n",
       "      <td>3789.750000</td>\n",
       "      <td>2.620000</td>\n",
       "      <td>2.620000</td>\n",
       "      <td>0.000000</td>\n",
       "      <td>0.000000</td>\n",
       "      <td>0.000000</td>\n",
       "      <td>1.945000</td>\n",
       "      <td>0.000000</td>\n",
       "      <td>0.000000</td>\n",
       "      <td>0.000000</td>\n",
       "      <td>127.000000</td>\n",
       "      <td>729.750000</td>\n",
       "      <td>1828.500000</td>\n",
       "    </tr>\n",
       "    <tr>\n",
       "      <th>50%</th>\n",
       "      <td>4.445115e+09</td>\n",
       "      <td>7405.500000</td>\n",
       "      <td>5.245000</td>\n",
       "      <td>5.245000</td>\n",
       "      <td>0.000000</td>\n",
       "      <td>0.210000</td>\n",
       "      <td>0.240000</td>\n",
       "      <td>3.365000</td>\n",
       "      <td>0.000000</td>\n",
       "      <td>4.000000</td>\n",
       "      <td>6.000000</td>\n",
       "      <td>199.000000</td>\n",
       "      <td>1057.500000</td>\n",
       "      <td>2134.000000</td>\n",
       "    </tr>\n",
       "    <tr>\n",
       "      <th>75%</th>\n",
       "      <td>6.962181e+09</td>\n",
       "      <td>10727.000000</td>\n",
       "      <td>7.712500</td>\n",
       "      <td>7.710000</td>\n",
       "      <td>0.000000</td>\n",
       "      <td>2.052500</td>\n",
       "      <td>0.800000</td>\n",
       "      <td>4.782500</td>\n",
       "      <td>0.000000</td>\n",
       "      <td>32.000000</td>\n",
       "      <td>19.000000</td>\n",
       "      <td>264.000000</td>\n",
       "      <td>1229.500000</td>\n",
       "      <td>2793.250000</td>\n",
       "    </tr>\n",
       "    <tr>\n",
       "      <th>max</th>\n",
       "      <td>8.877689e+09</td>\n",
       "      <td>36019.000000</td>\n",
       "      <td>28.030001</td>\n",
       "      <td>28.030001</td>\n",
       "      <td>4.942142</td>\n",
       "      <td>21.920000</td>\n",
       "      <td>6.480000</td>\n",
       "      <td>10.710000</td>\n",
       "      <td>0.110000</td>\n",
       "      <td>210.000000</td>\n",
       "      <td>143.000000</td>\n",
       "      <td>518.000000</td>\n",
       "      <td>1440.000000</td>\n",
       "      <td>4900.000000</td>\n",
       "    </tr>\n",
       "  </tbody>\n",
       "</table>\n",
       "</div>"
      ],
      "text/plain": [
       "                 Id    TotalSteps  TotalDistance  TrackerDistance  \\\n",
       "count  9.400000e+02    940.000000     940.000000       940.000000   \n",
       "mean   4.855407e+09   7637.910638       5.489702         5.475351   \n",
       "std    2.424805e+09   5087.150742       3.924606         3.907276   \n",
       "min    1.503960e+09      0.000000       0.000000         0.000000   \n",
       "25%    2.320127e+09   3789.750000       2.620000         2.620000   \n",
       "50%    4.445115e+09   7405.500000       5.245000         5.245000   \n",
       "75%    6.962181e+09  10727.000000       7.712500         7.710000   \n",
       "max    8.877689e+09  36019.000000      28.030001        28.030001   \n",
       "\n",
       "       LoggedActivitiesDistance  VeryActiveDistance  ModeratelyActiveDistance  \\\n",
       "count                940.000000          940.000000                940.000000   \n",
       "mean                   0.108171            1.502681                  0.567543   \n",
       "std                    0.619897            2.658941                  0.883580   \n",
       "min                    0.000000            0.000000                  0.000000   \n",
       "25%                    0.000000            0.000000                  0.000000   \n",
       "50%                    0.000000            0.210000                  0.240000   \n",
       "75%                    0.000000            2.052500                  0.800000   \n",
       "max                    4.942142           21.920000                  6.480000   \n",
       "\n",
       "       LightActiveDistance  SedentaryActiveDistance  VeryActiveMinutes  \\\n",
       "count           940.000000               940.000000         940.000000   \n",
       "mean              3.340819                 0.001606          21.164894   \n",
       "std               2.040655                 0.007346          32.844803   \n",
       "min               0.000000                 0.000000           0.000000   \n",
       "25%               1.945000                 0.000000           0.000000   \n",
       "50%               3.365000                 0.000000           4.000000   \n",
       "75%               4.782500                 0.000000          32.000000   \n",
       "max              10.710000                 0.110000         210.000000   \n",
       "\n",
       "       FairlyActiveMinutes  LightlyActiveMinutes  SedentaryMinutes  \\\n",
       "count           940.000000            940.000000        940.000000   \n",
       "mean             13.564894            192.812766        991.210638   \n",
       "std              19.987404            109.174700        301.267437   \n",
       "min               0.000000              0.000000          0.000000   \n",
       "25%               0.000000            127.000000        729.750000   \n",
       "50%               6.000000            199.000000       1057.500000   \n",
       "75%              19.000000            264.000000       1229.500000   \n",
       "max             143.000000            518.000000       1440.000000   \n",
       "\n",
       "          Calories  \n",
       "count   940.000000  \n",
       "mean   2303.609574  \n",
       "std     718.166862  \n",
       "min       0.000000  \n",
       "25%    1828.500000  \n",
       "50%    2134.000000  \n",
       "75%    2793.250000  \n",
       "max    4900.000000  "
      ]
     },
     "execution_count": 11,
     "metadata": {},
     "output_type": "execute_result"
    }
   ],
   "source": [
    "daily_activity_merged.describe()"
   ]
  },
  {
   "cell_type": "code",
   "execution_count": 12,
   "id": "b0bcca38",
   "metadata": {
    "execution": {
     "iopub.execute_input": "2025-03-17T01:19:44.312867Z",
     "iopub.status.busy": "2025-03-17T01:19:44.312603Z",
     "iopub.status.idle": "2025-03-17T01:19:44.318699Z",
     "shell.execute_reply": "2025-03-17T01:19:44.317821Z"
    },
    "jupyter": {
     "source_hidden": true
    },
    "papermill": {
     "duration": 0.015922,
     "end_time": "2025-03-17T01:19:44.319771",
     "exception": false,
     "start_time": "2025-03-17T01:19:44.303849",
     "status": "completed"
    },
    "tags": []
   },
   "outputs": [
    {
     "data": {
      "text/plain": [
       "Id                          0\n",
       "ActivityDate                0\n",
       "TotalSteps                  0\n",
       "TotalDistance               0\n",
       "TrackerDistance             0\n",
       "LoggedActivitiesDistance    0\n",
       "VeryActiveDistance          0\n",
       "ModeratelyActiveDistance    0\n",
       "LightActiveDistance         0\n",
       "SedentaryActiveDistance     0\n",
       "VeryActiveMinutes           0\n",
       "FairlyActiveMinutes         0\n",
       "LightlyActiveMinutes        0\n",
       "SedentaryMinutes            0\n",
       "Calories                    0\n",
       "dtype: int64"
      ]
     },
     "execution_count": 12,
     "metadata": {},
     "output_type": "execute_result"
    }
   ],
   "source": [
    "daily_activity_merged.isnull().sum()"
   ]
  },
  {
   "cell_type": "code",
   "execution_count": 13,
   "id": "f3b5a667",
   "metadata": {
    "execution": {
     "iopub.execute_input": "2025-03-17T01:19:44.337693Z",
     "iopub.status.busy": "2025-03-17T01:19:44.337383Z",
     "iopub.status.idle": "2025-03-17T01:19:44.344400Z",
     "shell.execute_reply": "2025-03-17T01:19:44.343342Z"
    },
    "jupyter": {
     "source_hidden": true
    },
    "papermill": {
     "duration": 0.017624,
     "end_time": "2025-03-17T01:19:44.345744",
     "exception": false,
     "start_time": "2025-03-17T01:19:44.328120",
     "status": "completed"
    },
    "tags": []
   },
   "outputs": [
    {
     "data": {
      "text/plain": [
       "0"
      ]
     },
     "execution_count": 13,
     "metadata": {},
     "output_type": "execute_result"
    }
   ],
   "source": [
    "daily_activity_merged.duplicated().sum()"
   ]
  },
  {
   "cell_type": "markdown",
   "id": "fb8acb28",
   "metadata": {
    "papermill": {
     "duration": 0.008415,
     "end_time": "2025-03-17T01:19:44.363455",
     "exception": false,
     "start_time": "2025-03-17T01:19:44.355040",
     "status": "completed"
    },
    "tags": []
   },
   "source": [
    "## need to change datatype for id and date column.\n",
    "## our data does not have any duplicate or null and nan"
   ]
  },
  {
   "cell_type": "code",
   "execution_count": 14,
   "id": "1d6f1f67",
   "metadata": {
    "execution": {
     "iopub.execute_input": "2025-03-17T01:19:44.381927Z",
     "iopub.status.busy": "2025-03-17T01:19:44.381646Z",
     "iopub.status.idle": "2025-03-17T01:19:44.385924Z",
     "shell.execute_reply": "2025-03-17T01:19:44.385237Z"
    },
    "jupyter": {
     "source_hidden": true
    },
    "papermill": {
     "duration": 0.014882,
     "end_time": "2025-03-17T01:19:44.387075",
     "exception": false,
     "start_time": "2025-03-17T01:19:44.372193",
     "status": "completed"
    },
    "tags": []
   },
   "outputs": [],
   "source": [
    "daily_activity_merged[\"Id\"] = daily_activity_merged[\"Id\"].astype(\"string\")"
   ]
  },
  {
   "cell_type": "code",
   "execution_count": 15,
   "id": "1014abb0",
   "metadata": {
    "execution": {
     "iopub.execute_input": "2025-03-17T01:19:44.406155Z",
     "iopub.status.busy": "2025-03-17T01:19:44.405852Z",
     "iopub.status.idle": "2025-03-17T01:19:44.413412Z",
     "shell.execute_reply": "2025-03-17T01:19:44.412707Z"
    },
    "jupyter": {
     "source_hidden": true
    },
    "papermill": {
     "duration": 0.018126,
     "end_time": "2025-03-17T01:19:44.414544",
     "exception": false,
     "start_time": "2025-03-17T01:19:44.396418",
     "status": "completed"
    },
    "tags": []
   },
   "outputs": [],
   "source": [
    "daily_activity_merged[\"ActivityDate\"] = pd.to_datetime(daily_activity_merged[\"ActivityDate\"])"
   ]
  },
  {
   "cell_type": "code",
   "execution_count": 16,
   "id": "d6eb6954",
   "metadata": {
    "execution": {
     "iopub.execute_input": "2025-03-17T01:19:44.433912Z",
     "iopub.status.busy": "2025-03-17T01:19:44.433600Z",
     "iopub.status.idle": "2025-03-17T01:19:44.442921Z",
     "shell.execute_reply": "2025-03-17T01:19:44.441916Z"
    },
    "jupyter": {
     "source_hidden": true
    },
    "papermill": {
     "duration": 0.020701,
     "end_time": "2025-03-17T01:19:44.444132",
     "exception": false,
     "start_time": "2025-03-17T01:19:44.423431",
     "status": "completed"
    },
    "tags": []
   },
   "outputs": [
    {
     "name": "stdout",
     "output_type": "stream",
     "text": [
      "<class 'pandas.core.frame.DataFrame'>\n",
      "RangeIndex: 940 entries, 0 to 939\n",
      "Data columns (total 15 columns):\n",
      " #   Column                    Non-Null Count  Dtype         \n",
      "---  ------                    --------------  -----         \n",
      " 0   Id                        940 non-null    string        \n",
      " 1   ActivityDate              940 non-null    datetime64[ns]\n",
      " 2   TotalSteps                940 non-null    int64         \n",
      " 3   TotalDistance             940 non-null    float64       \n",
      " 4   TrackerDistance           940 non-null    float64       \n",
      " 5   LoggedActivitiesDistance  940 non-null    float64       \n",
      " 6   VeryActiveDistance        940 non-null    float64       \n",
      " 7   ModeratelyActiveDistance  940 non-null    float64       \n",
      " 8   LightActiveDistance       940 non-null    float64       \n",
      " 9   SedentaryActiveDistance   940 non-null    float64       \n",
      " 10  VeryActiveMinutes         940 non-null    int64         \n",
      " 11  FairlyActiveMinutes       940 non-null    int64         \n",
      " 12  LightlyActiveMinutes      940 non-null    int64         \n",
      " 13  SedentaryMinutes          940 non-null    int64         \n",
      " 14  Calories                  940 non-null    int64         \n",
      "dtypes: datetime64[ns](1), float64(7), int64(6), string(1)\n",
      "memory usage: 110.3 KB\n"
     ]
    }
   ],
   "source": [
    "daily_activity_merged.info()"
   ]
  },
  {
   "cell_type": "markdown",
   "id": "51f1ae24",
   "metadata": {
    "papermill": {
     "duration": 0.008633,
     "end_time": "2025-03-17T01:19:44.461855",
     "exception": false,
     "start_time": "2025-03-17T01:19:44.453222",
     "status": "completed"
    },
    "tags": []
   },
   "source": [
    "### daily activity dataset is cleaned now."
   ]
  },
  {
   "cell_type": "code",
   "execution_count": 17,
   "id": "f32b38af",
   "metadata": {
    "execution": {
     "iopub.execute_input": "2025-03-17T01:19:44.480199Z",
     "iopub.status.busy": "2025-03-17T01:19:44.479917Z",
     "iopub.status.idle": "2025-03-17T01:19:44.486180Z",
     "shell.execute_reply": "2025-03-17T01:19:44.485534Z"
    },
    "jupyter": {
     "source_hidden": true
    },
    "papermill": {
     "duration": 0.016579,
     "end_time": "2025-03-17T01:19:44.487194",
     "exception": false,
     "start_time": "2025-03-17T01:19:44.470615",
     "status": "completed"
    },
    "tags": []
   },
   "outputs": [
    {
     "data": {
      "text/html": [
       "<div>\n",
       "<style scoped>\n",
       "    .dataframe tbody tr th:only-of-type {\n",
       "        vertical-align: middle;\n",
       "    }\n",
       "\n",
       "    .dataframe tbody tr th {\n",
       "        vertical-align: top;\n",
       "    }\n",
       "\n",
       "    .dataframe thead th {\n",
       "        text-align: right;\n",
       "    }\n",
       "</style>\n",
       "<table border=\"1\" class=\"dataframe\">\n",
       "  <thead>\n",
       "    <tr style=\"text-align: right;\">\n",
       "      <th></th>\n",
       "      <th>Id</th>\n",
       "      <th>ActivityDay</th>\n",
       "      <th>Calories</th>\n",
       "    </tr>\n",
       "  </thead>\n",
       "  <tbody>\n",
       "    <tr>\n",
       "      <th>0</th>\n",
       "      <td>1503960366</td>\n",
       "      <td>4/12/2016</td>\n",
       "      <td>1985</td>\n",
       "    </tr>\n",
       "    <tr>\n",
       "      <th>1</th>\n",
       "      <td>1503960366</td>\n",
       "      <td>4/13/2016</td>\n",
       "      <td>1797</td>\n",
       "    </tr>\n",
       "    <tr>\n",
       "      <th>2</th>\n",
       "      <td>1503960366</td>\n",
       "      <td>4/14/2016</td>\n",
       "      <td>1776</td>\n",
       "    </tr>\n",
       "    <tr>\n",
       "      <th>3</th>\n",
       "      <td>1503960366</td>\n",
       "      <td>4/15/2016</td>\n",
       "      <td>1745</td>\n",
       "    </tr>\n",
       "    <tr>\n",
       "      <th>4</th>\n",
       "      <td>1503960366</td>\n",
       "      <td>4/16/2016</td>\n",
       "      <td>1863</td>\n",
       "    </tr>\n",
       "  </tbody>\n",
       "</table>\n",
       "</div>"
      ],
      "text/plain": [
       "           Id ActivityDay  Calories\n",
       "0  1503960366   4/12/2016      1985\n",
       "1  1503960366   4/13/2016      1797\n",
       "2  1503960366   4/14/2016      1776\n",
       "3  1503960366   4/15/2016      1745\n",
       "4  1503960366   4/16/2016      1863"
      ]
     },
     "execution_count": 17,
     "metadata": {},
     "output_type": "execute_result"
    }
   ],
   "source": [
    "daily_calories_merged.head()\n"
   ]
  },
  {
   "cell_type": "code",
   "execution_count": 18,
   "id": "60e95353",
   "metadata": {
    "execution": {
     "iopub.execute_input": "2025-03-17T01:19:44.505330Z",
     "iopub.status.busy": "2025-03-17T01:19:44.505109Z",
     "iopub.status.idle": "2025-03-17T01:19:44.512027Z",
     "shell.execute_reply": "2025-03-17T01:19:44.511137Z"
    },
    "jupyter": {
     "source_hidden": true
    },
    "papermill": {
     "duration": 0.016995,
     "end_time": "2025-03-17T01:19:44.513034",
     "exception": false,
     "start_time": "2025-03-17T01:19:44.496039",
     "status": "completed"
    },
    "tags": []
   },
   "outputs": [
    {
     "name": "stdout",
     "output_type": "stream",
     "text": [
      "<class 'pandas.core.frame.DataFrame'>\n",
      "RangeIndex: 940 entries, 0 to 939\n",
      "Data columns (total 3 columns):\n",
      " #   Column       Non-Null Count  Dtype \n",
      "---  ------       --------------  ----- \n",
      " 0   Id           940 non-null    int64 \n",
      " 1   ActivityDay  940 non-null    object\n",
      " 2   Calories     940 non-null    int64 \n",
      "dtypes: int64(2), object(1)\n",
      "memory usage: 22.2+ KB\n"
     ]
    }
   ],
   "source": [
    "daily_calories_merged.info()"
   ]
  },
  {
   "cell_type": "code",
   "execution_count": 19,
   "id": "9ac39015",
   "metadata": {
    "execution": {
     "iopub.execute_input": "2025-03-17T01:19:44.532188Z",
     "iopub.status.busy": "2025-03-17T01:19:44.531946Z",
     "iopub.status.idle": "2025-03-17T01:19:44.542921Z",
     "shell.execute_reply": "2025-03-17T01:19:44.541992Z"
    },
    "jupyter": {
     "source_hidden": true
    },
    "papermill": {
     "duration": 0.021714,
     "end_time": "2025-03-17T01:19:44.544115",
     "exception": false,
     "start_time": "2025-03-17T01:19:44.522401",
     "status": "completed"
    },
    "tags": []
   },
   "outputs": [
    {
     "data": {
      "text/html": [
       "<div>\n",
       "<style scoped>\n",
       "    .dataframe tbody tr th:only-of-type {\n",
       "        vertical-align: middle;\n",
       "    }\n",
       "\n",
       "    .dataframe tbody tr th {\n",
       "        vertical-align: top;\n",
       "    }\n",
       "\n",
       "    .dataframe thead th {\n",
       "        text-align: right;\n",
       "    }\n",
       "</style>\n",
       "<table border=\"1\" class=\"dataframe\">\n",
       "  <thead>\n",
       "    <tr style=\"text-align: right;\">\n",
       "      <th></th>\n",
       "      <th>Id</th>\n",
       "      <th>Calories</th>\n",
       "    </tr>\n",
       "  </thead>\n",
       "  <tbody>\n",
       "    <tr>\n",
       "      <th>count</th>\n",
       "      <td>9.400000e+02</td>\n",
       "      <td>940.000000</td>\n",
       "    </tr>\n",
       "    <tr>\n",
       "      <th>mean</th>\n",
       "      <td>4.855407e+09</td>\n",
       "      <td>2303.609574</td>\n",
       "    </tr>\n",
       "    <tr>\n",
       "      <th>std</th>\n",
       "      <td>2.424805e+09</td>\n",
       "      <td>718.166862</td>\n",
       "    </tr>\n",
       "    <tr>\n",
       "      <th>min</th>\n",
       "      <td>1.503960e+09</td>\n",
       "      <td>0.000000</td>\n",
       "    </tr>\n",
       "    <tr>\n",
       "      <th>25%</th>\n",
       "      <td>2.320127e+09</td>\n",
       "      <td>1828.500000</td>\n",
       "    </tr>\n",
       "    <tr>\n",
       "      <th>50%</th>\n",
       "      <td>4.445115e+09</td>\n",
       "      <td>2134.000000</td>\n",
       "    </tr>\n",
       "    <tr>\n",
       "      <th>75%</th>\n",
       "      <td>6.962181e+09</td>\n",
       "      <td>2793.250000</td>\n",
       "    </tr>\n",
       "    <tr>\n",
       "      <th>max</th>\n",
       "      <td>8.877689e+09</td>\n",
       "      <td>4900.000000</td>\n",
       "    </tr>\n",
       "  </tbody>\n",
       "</table>\n",
       "</div>"
      ],
      "text/plain": [
       "                 Id     Calories\n",
       "count  9.400000e+02   940.000000\n",
       "mean   4.855407e+09  2303.609574\n",
       "std    2.424805e+09   718.166862\n",
       "min    1.503960e+09     0.000000\n",
       "25%    2.320127e+09  1828.500000\n",
       "50%    4.445115e+09  2134.000000\n",
       "75%    6.962181e+09  2793.250000\n",
       "max    8.877689e+09  4900.000000"
      ]
     },
     "execution_count": 19,
     "metadata": {},
     "output_type": "execute_result"
    }
   ],
   "source": [
    "daily_calories_merged.describe()"
   ]
  },
  {
   "cell_type": "code",
   "execution_count": 20,
   "id": "4b5254d0",
   "metadata": {
    "execution": {
     "iopub.execute_input": "2025-03-17T01:19:44.562681Z",
     "iopub.status.busy": "2025-03-17T01:19:44.562386Z",
     "iopub.status.idle": "2025-03-17T01:19:44.567237Z",
     "shell.execute_reply": "2025-03-17T01:19:44.566593Z"
    },
    "jupyter": {
     "source_hidden": true
    },
    "papermill": {
     "duration": 0.01499,
     "end_time": "2025-03-17T01:19:44.568302",
     "exception": false,
     "start_time": "2025-03-17T01:19:44.553312",
     "status": "completed"
    },
    "tags": []
   },
   "outputs": [
    {
     "data": {
      "text/plain": [
       "Id             0\n",
       "ActivityDay    0\n",
       "Calories       0\n",
       "dtype: int64"
      ]
     },
     "execution_count": 20,
     "metadata": {},
     "output_type": "execute_result"
    }
   ],
   "source": [
    "daily_calories_merged.isnull().sum()"
   ]
  },
  {
   "cell_type": "code",
   "execution_count": 21,
   "id": "a1692da8",
   "metadata": {
    "execution": {
     "iopub.execute_input": "2025-03-17T01:19:44.586125Z",
     "iopub.status.busy": "2025-03-17T01:19:44.585892Z",
     "iopub.status.idle": "2025-03-17T01:19:44.590866Z",
     "shell.execute_reply": "2025-03-17T01:19:44.590194Z"
    },
    "jupyter": {
     "source_hidden": true
    },
    "papermill": {
     "duration": 0.015138,
     "end_time": "2025-03-17T01:19:44.591876",
     "exception": false,
     "start_time": "2025-03-17T01:19:44.576738",
     "status": "completed"
    },
    "tags": []
   },
   "outputs": [
    {
     "data": {
      "text/plain": [
       "0"
      ]
     },
     "execution_count": 21,
     "metadata": {},
     "output_type": "execute_result"
    }
   ],
   "source": [
    "daily_calories_merged.duplicated().sum()"
   ]
  },
  {
   "cell_type": "code",
   "execution_count": 22,
   "id": "eddb7884",
   "metadata": {
    "execution": {
     "iopub.execute_input": "2025-03-17T01:19:44.609973Z",
     "iopub.status.busy": "2025-03-17T01:19:44.609743Z",
     "iopub.status.idle": "2025-03-17T01:19:44.615900Z",
     "shell.execute_reply": "2025-03-17T01:19:44.615037Z"
    },
    "jupyter": {
     "source_hidden": true
    },
    "papermill": {
     "duration": 0.016526,
     "end_time": "2025-03-17T01:19:44.617145",
     "exception": false,
     "start_time": "2025-03-17T01:19:44.600619",
     "status": "completed"
    },
    "tags": []
   },
   "outputs": [],
   "source": [
    "daily_calories_merged[\"Id\"] = daily_calories_merged[\"Id\"].astype(\"string\")\n",
    "daily_calories_merged[\"ActivityDay\"] = pd.to_datetime(daily_calories_merged[\"ActivityDay\"])"
   ]
  },
  {
   "cell_type": "code",
   "execution_count": 23,
   "id": "643209ac",
   "metadata": {
    "execution": {
     "iopub.execute_input": "2025-03-17T01:19:44.635542Z",
     "iopub.status.busy": "2025-03-17T01:19:44.635232Z",
     "iopub.status.idle": "2025-03-17T01:19:44.642440Z",
     "shell.execute_reply": "2025-03-17T01:19:44.641782Z"
    },
    "jupyter": {
     "source_hidden": true
    },
    "papermill": {
     "duration": 0.018328,
     "end_time": "2025-03-17T01:19:44.644366",
     "exception": false,
     "start_time": "2025-03-17T01:19:44.626038",
     "status": "completed"
    },
    "tags": []
   },
   "outputs": [
    {
     "name": "stdout",
     "output_type": "stream",
     "text": [
      "<class 'pandas.core.frame.DataFrame'>\n",
      "RangeIndex: 940 entries, 0 to 939\n",
      "Data columns (total 3 columns):\n",
      " #   Column       Non-Null Count  Dtype         \n",
      "---  ------       --------------  -----         \n",
      " 0   Id           940 non-null    string        \n",
      " 1   ActivityDay  940 non-null    datetime64[ns]\n",
      " 2   Calories     940 non-null    int64         \n",
      "dtypes: datetime64[ns](1), int64(1), string(1)\n",
      "memory usage: 22.2 KB\n"
     ]
    }
   ],
   "source": [
    "daily_calories_merged.info()"
   ]
  },
  {
   "cell_type": "code",
   "execution_count": 24,
   "id": "bed0ddaa",
   "metadata": {
    "execution": {
     "iopub.execute_input": "2025-03-17T01:19:44.664039Z",
     "iopub.status.busy": "2025-03-17T01:19:44.663743Z",
     "iopub.status.idle": "2025-03-17T01:19:44.673255Z",
     "shell.execute_reply": "2025-03-17T01:19:44.672526Z"
    },
    "jupyter": {
     "source_hidden": true
    },
    "papermill": {
     "duration": 0.020286,
     "end_time": "2025-03-17T01:19:44.674337",
     "exception": false,
     "start_time": "2025-03-17T01:19:44.654051",
     "status": "completed"
    },
    "tags": []
   },
   "outputs": [
    {
     "data": {
      "text/html": [
       "<div>\n",
       "<style scoped>\n",
       "    .dataframe tbody tr th:only-of-type {\n",
       "        vertical-align: middle;\n",
       "    }\n",
       "\n",
       "    .dataframe tbody tr th {\n",
       "        vertical-align: top;\n",
       "    }\n",
       "\n",
       "    .dataframe thead th {\n",
       "        text-align: right;\n",
       "    }\n",
       "</style>\n",
       "<table border=\"1\" class=\"dataframe\">\n",
       "  <thead>\n",
       "    <tr style=\"text-align: right;\">\n",
       "      <th></th>\n",
       "      <th>Id</th>\n",
       "      <th>ActivityDay</th>\n",
       "      <th>SedentaryMinutes</th>\n",
       "      <th>LightlyActiveMinutes</th>\n",
       "      <th>FairlyActiveMinutes</th>\n",
       "      <th>VeryActiveMinutes</th>\n",
       "      <th>SedentaryActiveDistance</th>\n",
       "      <th>LightActiveDistance</th>\n",
       "      <th>ModeratelyActiveDistance</th>\n",
       "      <th>VeryActiveDistance</th>\n",
       "    </tr>\n",
       "  </thead>\n",
       "  <tbody>\n",
       "    <tr>\n",
       "      <th>0</th>\n",
       "      <td>1503960366</td>\n",
       "      <td>4/12/2016</td>\n",
       "      <td>728</td>\n",
       "      <td>328</td>\n",
       "      <td>13</td>\n",
       "      <td>25</td>\n",
       "      <td>0.0</td>\n",
       "      <td>6.06</td>\n",
       "      <td>0.55</td>\n",
       "      <td>1.88</td>\n",
       "    </tr>\n",
       "    <tr>\n",
       "      <th>1</th>\n",
       "      <td>1503960366</td>\n",
       "      <td>4/13/2016</td>\n",
       "      <td>776</td>\n",
       "      <td>217</td>\n",
       "      <td>19</td>\n",
       "      <td>21</td>\n",
       "      <td>0.0</td>\n",
       "      <td>4.71</td>\n",
       "      <td>0.69</td>\n",
       "      <td>1.57</td>\n",
       "    </tr>\n",
       "    <tr>\n",
       "      <th>2</th>\n",
       "      <td>1503960366</td>\n",
       "      <td>4/14/2016</td>\n",
       "      <td>1218</td>\n",
       "      <td>181</td>\n",
       "      <td>11</td>\n",
       "      <td>30</td>\n",
       "      <td>0.0</td>\n",
       "      <td>3.91</td>\n",
       "      <td>0.40</td>\n",
       "      <td>2.44</td>\n",
       "    </tr>\n",
       "    <tr>\n",
       "      <th>3</th>\n",
       "      <td>1503960366</td>\n",
       "      <td>4/15/2016</td>\n",
       "      <td>726</td>\n",
       "      <td>209</td>\n",
       "      <td>34</td>\n",
       "      <td>29</td>\n",
       "      <td>0.0</td>\n",
       "      <td>2.83</td>\n",
       "      <td>1.26</td>\n",
       "      <td>2.14</td>\n",
       "    </tr>\n",
       "    <tr>\n",
       "      <th>4</th>\n",
       "      <td>1503960366</td>\n",
       "      <td>4/16/2016</td>\n",
       "      <td>773</td>\n",
       "      <td>221</td>\n",
       "      <td>10</td>\n",
       "      <td>36</td>\n",
       "      <td>0.0</td>\n",
       "      <td>5.04</td>\n",
       "      <td>0.41</td>\n",
       "      <td>2.71</td>\n",
       "    </tr>\n",
       "  </tbody>\n",
       "</table>\n",
       "</div>"
      ],
      "text/plain": [
       "           Id ActivityDay  SedentaryMinutes  LightlyActiveMinutes  \\\n",
       "0  1503960366   4/12/2016               728                   328   \n",
       "1  1503960366   4/13/2016               776                   217   \n",
       "2  1503960366   4/14/2016              1218                   181   \n",
       "3  1503960366   4/15/2016               726                   209   \n",
       "4  1503960366   4/16/2016               773                   221   \n",
       "\n",
       "   FairlyActiveMinutes  VeryActiveMinutes  SedentaryActiveDistance  \\\n",
       "0                   13                 25                      0.0   \n",
       "1                   19                 21                      0.0   \n",
       "2                   11                 30                      0.0   \n",
       "3                   34                 29                      0.0   \n",
       "4                   10                 36                      0.0   \n",
       "\n",
       "   LightActiveDistance  ModeratelyActiveDistance  VeryActiveDistance  \n",
       "0                 6.06                      0.55                1.88  \n",
       "1                 4.71                      0.69                1.57  \n",
       "2                 3.91                      0.40                2.44  \n",
       "3                 2.83                      1.26                2.14  \n",
       "4                 5.04                      0.41                2.71  "
      ]
     },
     "execution_count": 24,
     "metadata": {},
     "output_type": "execute_result"
    }
   ],
   "source": [
    "daily_intensity_merged.head()"
   ]
  },
  {
   "cell_type": "code",
   "execution_count": 25,
   "id": "b5042b7b",
   "metadata": {
    "execution": {
     "iopub.execute_input": "2025-03-17T01:19:44.693621Z",
     "iopub.status.busy": "2025-03-17T01:19:44.693341Z",
     "iopub.status.idle": "2025-03-17T01:19:44.700983Z",
     "shell.execute_reply": "2025-03-17T01:19:44.700280Z"
    },
    "jupyter": {
     "source_hidden": true
    },
    "papermill": {
     "duration": 0.018575,
     "end_time": "2025-03-17T01:19:44.702213",
     "exception": false,
     "start_time": "2025-03-17T01:19:44.683638",
     "status": "completed"
    },
    "tags": []
   },
   "outputs": [
    {
     "name": "stdout",
     "output_type": "stream",
     "text": [
      "<class 'pandas.core.frame.DataFrame'>\n",
      "RangeIndex: 940 entries, 0 to 939\n",
      "Data columns (total 10 columns):\n",
      " #   Column                    Non-Null Count  Dtype  \n",
      "---  ------                    --------------  -----  \n",
      " 0   Id                        940 non-null    int64  \n",
      " 1   ActivityDay               940 non-null    object \n",
      " 2   SedentaryMinutes          940 non-null    int64  \n",
      " 3   LightlyActiveMinutes      940 non-null    int64  \n",
      " 4   FairlyActiveMinutes       940 non-null    int64  \n",
      " 5   VeryActiveMinutes         940 non-null    int64  \n",
      " 6   SedentaryActiveDistance   940 non-null    float64\n",
      " 7   LightActiveDistance       940 non-null    float64\n",
      " 8   ModeratelyActiveDistance  940 non-null    float64\n",
      " 9   VeryActiveDistance        940 non-null    float64\n",
      "dtypes: float64(4), int64(5), object(1)\n",
      "memory usage: 73.6+ KB\n"
     ]
    }
   ],
   "source": [
    "daily_intensity_merged.info()"
   ]
  },
  {
   "cell_type": "code",
   "execution_count": 26,
   "id": "4a8e0f5e",
   "metadata": {
    "execution": {
     "iopub.execute_input": "2025-03-17T01:19:44.722735Z",
     "iopub.status.busy": "2025-03-17T01:19:44.722456Z",
     "iopub.status.idle": "2025-03-17T01:19:44.744210Z",
     "shell.execute_reply": "2025-03-17T01:19:44.743356Z"
    },
    "jupyter": {
     "source_hidden": true
    },
    "papermill": {
     "duration": 0.033436,
     "end_time": "2025-03-17T01:19:44.745527",
     "exception": false,
     "start_time": "2025-03-17T01:19:44.712091",
     "status": "completed"
    },
    "tags": []
   },
   "outputs": [
    {
     "data": {
      "text/html": [
       "<div>\n",
       "<style scoped>\n",
       "    .dataframe tbody tr th:only-of-type {\n",
       "        vertical-align: middle;\n",
       "    }\n",
       "\n",
       "    .dataframe tbody tr th {\n",
       "        vertical-align: top;\n",
       "    }\n",
       "\n",
       "    .dataframe thead th {\n",
       "        text-align: right;\n",
       "    }\n",
       "</style>\n",
       "<table border=\"1\" class=\"dataframe\">\n",
       "  <thead>\n",
       "    <tr style=\"text-align: right;\">\n",
       "      <th></th>\n",
       "      <th>Id</th>\n",
       "      <th>SedentaryMinutes</th>\n",
       "      <th>LightlyActiveMinutes</th>\n",
       "      <th>FairlyActiveMinutes</th>\n",
       "      <th>VeryActiveMinutes</th>\n",
       "      <th>SedentaryActiveDistance</th>\n",
       "      <th>LightActiveDistance</th>\n",
       "      <th>ModeratelyActiveDistance</th>\n",
       "      <th>VeryActiveDistance</th>\n",
       "    </tr>\n",
       "  </thead>\n",
       "  <tbody>\n",
       "    <tr>\n",
       "      <th>count</th>\n",
       "      <td>9.400000e+02</td>\n",
       "      <td>940.000000</td>\n",
       "      <td>940.000000</td>\n",
       "      <td>940.000000</td>\n",
       "      <td>940.000000</td>\n",
       "      <td>940.000000</td>\n",
       "      <td>940.000000</td>\n",
       "      <td>940.000000</td>\n",
       "      <td>940.000000</td>\n",
       "    </tr>\n",
       "    <tr>\n",
       "      <th>mean</th>\n",
       "      <td>4.855407e+09</td>\n",
       "      <td>991.210638</td>\n",
       "      <td>192.812766</td>\n",
       "      <td>13.564894</td>\n",
       "      <td>21.164894</td>\n",
       "      <td>0.001606</td>\n",
       "      <td>3.340819</td>\n",
       "      <td>0.567543</td>\n",
       "      <td>1.502681</td>\n",
       "    </tr>\n",
       "    <tr>\n",
       "      <th>std</th>\n",
       "      <td>2.424805e+09</td>\n",
       "      <td>301.267437</td>\n",
       "      <td>109.174700</td>\n",
       "      <td>19.987404</td>\n",
       "      <td>32.844803</td>\n",
       "      <td>0.007346</td>\n",
       "      <td>2.040655</td>\n",
       "      <td>0.883580</td>\n",
       "      <td>2.658941</td>\n",
       "    </tr>\n",
       "    <tr>\n",
       "      <th>min</th>\n",
       "      <td>1.503960e+09</td>\n",
       "      <td>0.000000</td>\n",
       "      <td>0.000000</td>\n",
       "      <td>0.000000</td>\n",
       "      <td>0.000000</td>\n",
       "      <td>0.000000</td>\n",
       "      <td>0.000000</td>\n",
       "      <td>0.000000</td>\n",
       "      <td>0.000000</td>\n",
       "    </tr>\n",
       "    <tr>\n",
       "      <th>25%</th>\n",
       "      <td>2.320127e+09</td>\n",
       "      <td>729.750000</td>\n",
       "      <td>127.000000</td>\n",
       "      <td>0.000000</td>\n",
       "      <td>0.000000</td>\n",
       "      <td>0.000000</td>\n",
       "      <td>1.945000</td>\n",
       "      <td>0.000000</td>\n",
       "      <td>0.000000</td>\n",
       "    </tr>\n",
       "    <tr>\n",
       "      <th>50%</th>\n",
       "      <td>4.445115e+09</td>\n",
       "      <td>1057.500000</td>\n",
       "      <td>199.000000</td>\n",
       "      <td>6.000000</td>\n",
       "      <td>4.000000</td>\n",
       "      <td>0.000000</td>\n",
       "      <td>3.365000</td>\n",
       "      <td>0.240000</td>\n",
       "      <td>0.210000</td>\n",
       "    </tr>\n",
       "    <tr>\n",
       "      <th>75%</th>\n",
       "      <td>6.962181e+09</td>\n",
       "      <td>1229.500000</td>\n",
       "      <td>264.000000</td>\n",
       "      <td>19.000000</td>\n",
       "      <td>32.000000</td>\n",
       "      <td>0.000000</td>\n",
       "      <td>4.782500</td>\n",
       "      <td>0.800000</td>\n",
       "      <td>2.052500</td>\n",
       "    </tr>\n",
       "    <tr>\n",
       "      <th>max</th>\n",
       "      <td>8.877689e+09</td>\n",
       "      <td>1440.000000</td>\n",
       "      <td>518.000000</td>\n",
       "      <td>143.000000</td>\n",
       "      <td>210.000000</td>\n",
       "      <td>0.110000</td>\n",
       "      <td>10.710000</td>\n",
       "      <td>6.480000</td>\n",
       "      <td>21.920000</td>\n",
       "    </tr>\n",
       "  </tbody>\n",
       "</table>\n",
       "</div>"
      ],
      "text/plain": [
       "                 Id  SedentaryMinutes  LightlyActiveMinutes  \\\n",
       "count  9.400000e+02        940.000000            940.000000   \n",
       "mean   4.855407e+09        991.210638            192.812766   \n",
       "std    2.424805e+09        301.267437            109.174700   \n",
       "min    1.503960e+09          0.000000              0.000000   \n",
       "25%    2.320127e+09        729.750000            127.000000   \n",
       "50%    4.445115e+09       1057.500000            199.000000   \n",
       "75%    6.962181e+09       1229.500000            264.000000   \n",
       "max    8.877689e+09       1440.000000            518.000000   \n",
       "\n",
       "       FairlyActiveMinutes  VeryActiveMinutes  SedentaryActiveDistance  \\\n",
       "count           940.000000         940.000000               940.000000   \n",
       "mean             13.564894          21.164894                 0.001606   \n",
       "std              19.987404          32.844803                 0.007346   \n",
       "min               0.000000           0.000000                 0.000000   \n",
       "25%               0.000000           0.000000                 0.000000   \n",
       "50%               6.000000           4.000000                 0.000000   \n",
       "75%              19.000000          32.000000                 0.000000   \n",
       "max             143.000000         210.000000                 0.110000   \n",
       "\n",
       "       LightActiveDistance  ModeratelyActiveDistance  VeryActiveDistance  \n",
       "count           940.000000                940.000000          940.000000  \n",
       "mean              3.340819                  0.567543            1.502681  \n",
       "std               2.040655                  0.883580            2.658941  \n",
       "min               0.000000                  0.000000            0.000000  \n",
       "25%               1.945000                  0.000000            0.000000  \n",
       "50%               3.365000                  0.240000            0.210000  \n",
       "75%               4.782500                  0.800000            2.052500  \n",
       "max              10.710000                  6.480000           21.920000  "
      ]
     },
     "execution_count": 26,
     "metadata": {},
     "output_type": "execute_result"
    }
   ],
   "source": [
    "daily_intensity_merged.describe()"
   ]
  },
  {
   "cell_type": "code",
   "execution_count": 27,
   "id": "9780a45a",
   "metadata": {
    "execution": {
     "iopub.execute_input": "2025-03-17T01:19:44.766720Z",
     "iopub.status.busy": "2025-03-17T01:19:44.766432Z",
     "iopub.status.idle": "2025-03-17T01:19:44.772297Z",
     "shell.execute_reply": "2025-03-17T01:19:44.771522Z"
    },
    "jupyter": {
     "source_hidden": true
    },
    "papermill": {
     "duration": 0.017469,
     "end_time": "2025-03-17T01:19:44.773509",
     "exception": false,
     "start_time": "2025-03-17T01:19:44.756040",
     "status": "completed"
    },
    "tags": []
   },
   "outputs": [
    {
     "data": {
      "text/plain": [
       "Id                          0\n",
       "ActivityDay                 0\n",
       "SedentaryMinutes            0\n",
       "LightlyActiveMinutes        0\n",
       "FairlyActiveMinutes         0\n",
       "VeryActiveMinutes           0\n",
       "SedentaryActiveDistance     0\n",
       "LightActiveDistance         0\n",
       "ModeratelyActiveDistance    0\n",
       "VeryActiveDistance          0\n",
       "dtype: int64"
      ]
     },
     "execution_count": 27,
     "metadata": {},
     "output_type": "execute_result"
    }
   ],
   "source": [
    "daily_intensity_merged.isnull().sum()"
   ]
  },
  {
   "cell_type": "code",
   "execution_count": 28,
   "id": "8289c1bc",
   "metadata": {
    "execution": {
     "iopub.execute_input": "2025-03-17T01:19:44.793758Z",
     "iopub.status.busy": "2025-03-17T01:19:44.793444Z",
     "iopub.status.idle": "2025-03-17T01:19:44.799180Z",
     "shell.execute_reply": "2025-03-17T01:19:44.798539Z"
    },
    "jupyter": {
     "source_hidden": true
    },
    "papermill": {
     "duration": 0.016942,
     "end_time": "2025-03-17T01:19:44.800212",
     "exception": false,
     "start_time": "2025-03-17T01:19:44.783270",
     "status": "completed"
    },
    "tags": []
   },
   "outputs": [
    {
     "data": {
      "text/plain": [
       "0"
      ]
     },
     "execution_count": 28,
     "metadata": {},
     "output_type": "execute_result"
    }
   ],
   "source": [
    "daily_intensity_merged.duplicated().sum()"
   ]
  },
  {
   "cell_type": "code",
   "execution_count": 29,
   "id": "bf1bbe63",
   "metadata": {
    "execution": {
     "iopub.execute_input": "2025-03-17T01:19:44.820925Z",
     "iopub.status.busy": "2025-03-17T01:19:44.820662Z",
     "iopub.status.idle": "2025-03-17T01:19:44.827085Z",
     "shell.execute_reply": "2025-03-17T01:19:44.826212Z"
    },
    "jupyter": {
     "source_hidden": true
    },
    "papermill": {
     "duration": 0.018256,
     "end_time": "2025-03-17T01:19:44.828467",
     "exception": false,
     "start_time": "2025-03-17T01:19:44.810211",
     "status": "completed"
    },
    "tags": []
   },
   "outputs": [],
   "source": [
    "daily_intensity_merged[\"Id\"] = daily_intensity_merged[\"Id\"].astype(\"string\")\n",
    "daily_intensity_merged[\"ActivityDay\"] = pd.to_datetime(daily_intensity_merged[\"ActivityDay\"])"
   ]
  },
  {
   "cell_type": "code",
   "execution_count": 30,
   "id": "6724f3bd",
   "metadata": {
    "execution": {
     "iopub.execute_input": "2025-03-17T01:19:44.848997Z",
     "iopub.status.busy": "2025-03-17T01:19:44.848740Z",
     "iopub.status.idle": "2025-03-17T01:19:44.857013Z",
     "shell.execute_reply": "2025-03-17T01:19:44.856091Z"
    },
    "jupyter": {
     "source_hidden": true
    },
    "papermill": {
     "duration": 0.019859,
     "end_time": "2025-03-17T01:19:44.858433",
     "exception": false,
     "start_time": "2025-03-17T01:19:44.838574",
     "status": "completed"
    },
    "tags": []
   },
   "outputs": [
    {
     "name": "stdout",
     "output_type": "stream",
     "text": [
      "<class 'pandas.core.frame.DataFrame'>\n",
      "RangeIndex: 940 entries, 0 to 939\n",
      "Data columns (total 10 columns):\n",
      " #   Column                    Non-Null Count  Dtype         \n",
      "---  ------                    --------------  -----         \n",
      " 0   Id                        940 non-null    string        \n",
      " 1   ActivityDay               940 non-null    datetime64[ns]\n",
      " 2   SedentaryMinutes          940 non-null    int64         \n",
      " 3   LightlyActiveMinutes      940 non-null    int64         \n",
      " 4   FairlyActiveMinutes       940 non-null    int64         \n",
      " 5   VeryActiveMinutes         940 non-null    int64         \n",
      " 6   SedentaryActiveDistance   940 non-null    float64       \n",
      " 7   LightActiveDistance       940 non-null    float64       \n",
      " 8   ModeratelyActiveDistance  940 non-null    float64       \n",
      " 9   VeryActiveDistance        940 non-null    float64       \n",
      "dtypes: datetime64[ns](1), float64(4), int64(4), string(1)\n",
      "memory usage: 73.6 KB\n"
     ]
    }
   ],
   "source": [
    "daily_intensity_merged.info()"
   ]
  },
  {
   "cell_type": "code",
   "execution_count": 31,
   "id": "63ce29b9",
   "metadata": {
    "execution": {
     "iopub.execute_input": "2025-03-17T01:19:44.878864Z",
     "iopub.status.busy": "2025-03-17T01:19:44.878541Z",
     "iopub.status.idle": "2025-03-17T01:19:44.885410Z",
     "shell.execute_reply": "2025-03-17T01:19:44.884773Z"
    },
    "jupyter": {
     "source_hidden": true
    },
    "papermill": {
     "duration": 0.018153,
     "end_time": "2025-03-17T01:19:44.886507",
     "exception": false,
     "start_time": "2025-03-17T01:19:44.868354",
     "status": "completed"
    },
    "tags": []
   },
   "outputs": [
    {
     "data": {
      "text/html": [
       "<div>\n",
       "<style scoped>\n",
       "    .dataframe tbody tr th:only-of-type {\n",
       "        vertical-align: middle;\n",
       "    }\n",
       "\n",
       "    .dataframe tbody tr th {\n",
       "        vertical-align: top;\n",
       "    }\n",
       "\n",
       "    .dataframe thead th {\n",
       "        text-align: right;\n",
       "    }\n",
       "</style>\n",
       "<table border=\"1\" class=\"dataframe\">\n",
       "  <thead>\n",
       "    <tr style=\"text-align: right;\">\n",
       "      <th></th>\n",
       "      <th>Id</th>\n",
       "      <th>ActivityDay</th>\n",
       "      <th>StepTotal</th>\n",
       "    </tr>\n",
       "  </thead>\n",
       "  <tbody>\n",
       "    <tr>\n",
       "      <th>0</th>\n",
       "      <td>1503960366</td>\n",
       "      <td>4/12/2016</td>\n",
       "      <td>13162</td>\n",
       "    </tr>\n",
       "    <tr>\n",
       "      <th>1</th>\n",
       "      <td>1503960366</td>\n",
       "      <td>4/13/2016</td>\n",
       "      <td>10735</td>\n",
       "    </tr>\n",
       "    <tr>\n",
       "      <th>2</th>\n",
       "      <td>1503960366</td>\n",
       "      <td>4/14/2016</td>\n",
       "      <td>10460</td>\n",
       "    </tr>\n",
       "    <tr>\n",
       "      <th>3</th>\n",
       "      <td>1503960366</td>\n",
       "      <td>4/15/2016</td>\n",
       "      <td>9762</td>\n",
       "    </tr>\n",
       "    <tr>\n",
       "      <th>4</th>\n",
       "      <td>1503960366</td>\n",
       "      <td>4/16/2016</td>\n",
       "      <td>12669</td>\n",
       "    </tr>\n",
       "  </tbody>\n",
       "</table>\n",
       "</div>"
      ],
      "text/plain": [
       "           Id ActivityDay  StepTotal\n",
       "0  1503960366   4/12/2016      13162\n",
       "1  1503960366   4/13/2016      10735\n",
       "2  1503960366   4/14/2016      10460\n",
       "3  1503960366   4/15/2016       9762\n",
       "4  1503960366   4/16/2016      12669"
      ]
     },
     "execution_count": 31,
     "metadata": {},
     "output_type": "execute_result"
    }
   ],
   "source": [
    "daily_steps_merged.head()"
   ]
  },
  {
   "cell_type": "code",
   "execution_count": 32,
   "id": "c8221799",
   "metadata": {
    "execution": {
     "iopub.execute_input": "2025-03-17T01:19:44.908561Z",
     "iopub.status.busy": "2025-03-17T01:19:44.908225Z",
     "iopub.status.idle": "2025-03-17T01:19:44.915890Z",
     "shell.execute_reply": "2025-03-17T01:19:44.914875Z"
    },
    "jupyter": {
     "source_hidden": true
    },
    "papermill": {
     "duration": 0.019952,
     "end_time": "2025-03-17T01:19:44.917220",
     "exception": false,
     "start_time": "2025-03-17T01:19:44.897268",
     "status": "completed"
    },
    "tags": []
   },
   "outputs": [
    {
     "name": "stdout",
     "output_type": "stream",
     "text": [
      "<class 'pandas.core.frame.DataFrame'>\n",
      "RangeIndex: 940 entries, 0 to 939\n",
      "Data columns (total 3 columns):\n",
      " #   Column       Non-Null Count  Dtype \n",
      "---  ------       --------------  ----- \n",
      " 0   Id           940 non-null    int64 \n",
      " 1   ActivityDay  940 non-null    object\n",
      " 2   StepTotal    940 non-null    int64 \n",
      "dtypes: int64(2), object(1)\n",
      "memory usage: 22.2+ KB\n"
     ]
    }
   ],
   "source": [
    "daily_steps_merged.info()"
   ]
  },
  {
   "cell_type": "code",
   "execution_count": 33,
   "id": "bbf9d885",
   "metadata": {
    "execution": {
     "iopub.execute_input": "2025-03-17T01:19:44.977005Z",
     "iopub.status.busy": "2025-03-17T01:19:44.976735Z",
     "iopub.status.idle": "2025-03-17T01:19:44.988060Z",
     "shell.execute_reply": "2025-03-17T01:19:44.987025Z"
    },
    "jupyter": {
     "source_hidden": true
    },
    "papermill": {
     "duration": 0.023189,
     "end_time": "2025-03-17T01:19:44.989454",
     "exception": false,
     "start_time": "2025-03-17T01:19:44.966265",
     "status": "completed"
    },
    "tags": []
   },
   "outputs": [
    {
     "data": {
      "text/html": [
       "<div>\n",
       "<style scoped>\n",
       "    .dataframe tbody tr th:only-of-type {\n",
       "        vertical-align: middle;\n",
       "    }\n",
       "\n",
       "    .dataframe tbody tr th {\n",
       "        vertical-align: top;\n",
       "    }\n",
       "\n",
       "    .dataframe thead th {\n",
       "        text-align: right;\n",
       "    }\n",
       "</style>\n",
       "<table border=\"1\" class=\"dataframe\">\n",
       "  <thead>\n",
       "    <tr style=\"text-align: right;\">\n",
       "      <th></th>\n",
       "      <th>Id</th>\n",
       "      <th>StepTotal</th>\n",
       "    </tr>\n",
       "  </thead>\n",
       "  <tbody>\n",
       "    <tr>\n",
       "      <th>count</th>\n",
       "      <td>9.400000e+02</td>\n",
       "      <td>940.000000</td>\n",
       "    </tr>\n",
       "    <tr>\n",
       "      <th>mean</th>\n",
       "      <td>4.855407e+09</td>\n",
       "      <td>7637.910638</td>\n",
       "    </tr>\n",
       "    <tr>\n",
       "      <th>std</th>\n",
       "      <td>2.424805e+09</td>\n",
       "      <td>5087.150742</td>\n",
       "    </tr>\n",
       "    <tr>\n",
       "      <th>min</th>\n",
       "      <td>1.503960e+09</td>\n",
       "      <td>0.000000</td>\n",
       "    </tr>\n",
       "    <tr>\n",
       "      <th>25%</th>\n",
       "      <td>2.320127e+09</td>\n",
       "      <td>3789.750000</td>\n",
       "    </tr>\n",
       "    <tr>\n",
       "      <th>50%</th>\n",
       "      <td>4.445115e+09</td>\n",
       "      <td>7405.500000</td>\n",
       "    </tr>\n",
       "    <tr>\n",
       "      <th>75%</th>\n",
       "      <td>6.962181e+09</td>\n",
       "      <td>10727.000000</td>\n",
       "    </tr>\n",
       "    <tr>\n",
       "      <th>max</th>\n",
       "      <td>8.877689e+09</td>\n",
       "      <td>36019.000000</td>\n",
       "    </tr>\n",
       "  </tbody>\n",
       "</table>\n",
       "</div>"
      ],
      "text/plain": [
       "                 Id     StepTotal\n",
       "count  9.400000e+02    940.000000\n",
       "mean   4.855407e+09   7637.910638\n",
       "std    2.424805e+09   5087.150742\n",
       "min    1.503960e+09      0.000000\n",
       "25%    2.320127e+09   3789.750000\n",
       "50%    4.445115e+09   7405.500000\n",
       "75%    6.962181e+09  10727.000000\n",
       "max    8.877689e+09  36019.000000"
      ]
     },
     "execution_count": 33,
     "metadata": {},
     "output_type": "execute_result"
    }
   ],
   "source": [
    "daily_steps_merged.describe()"
   ]
  },
  {
   "cell_type": "code",
   "execution_count": 34,
   "id": "0c999db0",
   "metadata": {
    "execution": {
     "iopub.execute_input": "2025-03-17T01:19:45.010231Z",
     "iopub.status.busy": "2025-03-17T01:19:45.009957Z",
     "iopub.status.idle": "2025-03-17T01:19:45.015633Z",
     "shell.execute_reply": "2025-03-17T01:19:45.014688Z"
    },
    "jupyter": {
     "source_hidden": true
    },
    "papermill": {
     "duration": 0.017068,
     "end_time": "2025-03-17T01:19:45.016817",
     "exception": false,
     "start_time": "2025-03-17T01:19:44.999749",
     "status": "completed"
    },
    "tags": []
   },
   "outputs": [
    {
     "data": {
      "text/plain": [
       "Id             0\n",
       "ActivityDay    0\n",
       "StepTotal      0\n",
       "dtype: int64"
      ]
     },
     "execution_count": 34,
     "metadata": {},
     "output_type": "execute_result"
    }
   ],
   "source": [
    "daily_steps_merged.isnull().sum()"
   ]
  },
  {
   "cell_type": "code",
   "execution_count": 35,
   "id": "6eca6727",
   "metadata": {
    "execution": {
     "iopub.execute_input": "2025-03-17T01:19:45.040348Z",
     "iopub.status.busy": "2025-03-17T01:19:45.040032Z",
     "iopub.status.idle": "2025-03-17T01:19:45.045828Z",
     "shell.execute_reply": "2025-03-17T01:19:45.045147Z"
    },
    "jupyter": {
     "source_hidden": true
    },
    "papermill": {
     "duration": 0.01821,
     "end_time": "2025-03-17T01:19:45.046988",
     "exception": false,
     "start_time": "2025-03-17T01:19:45.028778",
     "status": "completed"
    },
    "tags": []
   },
   "outputs": [
    {
     "data": {
      "text/plain": [
       "0"
      ]
     },
     "execution_count": 35,
     "metadata": {},
     "output_type": "execute_result"
    }
   ],
   "source": [
    "daily_steps_merged.duplicated().sum()"
   ]
  },
  {
   "cell_type": "code",
   "execution_count": 36,
   "id": "f1b9ce67",
   "metadata": {
    "execution": {
     "iopub.execute_input": "2025-03-17T01:19:45.068442Z",
     "iopub.status.busy": "2025-03-17T01:19:45.068150Z",
     "iopub.status.idle": "2025-03-17T01:19:45.075371Z",
     "shell.execute_reply": "2025-03-17T01:19:45.074379Z"
    },
    "jupyter": {
     "source_hidden": true
    },
    "papermill": {
     "duration": 0.019507,
     "end_time": "2025-03-17T01:19:45.076866",
     "exception": false,
     "start_time": "2025-03-17T01:19:45.057359",
     "status": "completed"
    },
    "tags": []
   },
   "outputs": [],
   "source": [
    "daily_steps_merged[\"Id\"] = daily_steps_merged[\"Id\"].astype(\"string\")\n",
    "daily_steps_merged[\"ActivityDay\"] = pd.to_datetime(daily_steps_merged[\"ActivityDay\"])"
   ]
  },
  {
   "cell_type": "code",
   "execution_count": 37,
   "id": "264ce65c",
   "metadata": {
    "execution": {
     "iopub.execute_input": "2025-03-17T01:19:45.098472Z",
     "iopub.status.busy": "2025-03-17T01:19:45.098168Z",
     "iopub.status.idle": "2025-03-17T01:19:45.105853Z",
     "shell.execute_reply": "2025-03-17T01:19:45.104930Z"
    },
    "jupyter": {
     "source_hidden": true
    },
    "papermill": {
     "duration": 0.019812,
     "end_time": "2025-03-17T01:19:45.107368",
     "exception": false,
     "start_time": "2025-03-17T01:19:45.087556",
     "status": "completed"
    },
    "tags": []
   },
   "outputs": [
    {
     "name": "stdout",
     "output_type": "stream",
     "text": [
      "<class 'pandas.core.frame.DataFrame'>\n",
      "RangeIndex: 940 entries, 0 to 939\n",
      "Data columns (total 3 columns):\n",
      " #   Column       Non-Null Count  Dtype         \n",
      "---  ------       --------------  -----         \n",
      " 0   Id           940 non-null    string        \n",
      " 1   ActivityDay  940 non-null    datetime64[ns]\n",
      " 2   StepTotal    940 non-null    int64         \n",
      "dtypes: datetime64[ns](1), int64(1), string(1)\n",
      "memory usage: 22.2 KB\n"
     ]
    }
   ],
   "source": [
    "daily_steps_merged.info()"
   ]
  },
  {
   "cell_type": "code",
   "execution_count": 38,
   "id": "47a17f35",
   "metadata": {
    "execution": {
     "iopub.execute_input": "2025-03-17T01:19:45.129204Z",
     "iopub.status.busy": "2025-03-17T01:19:45.128943Z",
     "iopub.status.idle": "2025-03-17T01:19:45.135989Z",
     "shell.execute_reply": "2025-03-17T01:19:45.135219Z"
    },
    "jupyter": {
     "source_hidden": true
    },
    "papermill": {
     "duration": 0.018822,
     "end_time": "2025-03-17T01:19:45.137197",
     "exception": false,
     "start_time": "2025-03-17T01:19:45.118375",
     "status": "completed"
    },
    "tags": []
   },
   "outputs": [
    {
     "data": {
      "text/html": [
       "<div>\n",
       "<style scoped>\n",
       "    .dataframe tbody tr th:only-of-type {\n",
       "        vertical-align: middle;\n",
       "    }\n",
       "\n",
       "    .dataframe tbody tr th {\n",
       "        vertical-align: top;\n",
       "    }\n",
       "\n",
       "    .dataframe thead th {\n",
       "        text-align: right;\n",
       "    }\n",
       "</style>\n",
       "<table border=\"1\" class=\"dataframe\">\n",
       "  <thead>\n",
       "    <tr style=\"text-align: right;\">\n",
       "      <th></th>\n",
       "      <th>Id</th>\n",
       "      <th>SleepDay</th>\n",
       "      <th>TotalSleepRecords</th>\n",
       "      <th>TotalMinutesAsleep</th>\n",
       "      <th>TotalTimeInBed</th>\n",
       "    </tr>\n",
       "  </thead>\n",
       "  <tbody>\n",
       "    <tr>\n",
       "      <th>0</th>\n",
       "      <td>1503960366</td>\n",
       "      <td>4/12/2016 12:00:00 AM</td>\n",
       "      <td>1</td>\n",
       "      <td>327</td>\n",
       "      <td>346</td>\n",
       "    </tr>\n",
       "    <tr>\n",
       "      <th>1</th>\n",
       "      <td>1503960366</td>\n",
       "      <td>4/13/2016 12:00:00 AM</td>\n",
       "      <td>2</td>\n",
       "      <td>384</td>\n",
       "      <td>407</td>\n",
       "    </tr>\n",
       "    <tr>\n",
       "      <th>2</th>\n",
       "      <td>1503960366</td>\n",
       "      <td>4/15/2016 12:00:00 AM</td>\n",
       "      <td>1</td>\n",
       "      <td>412</td>\n",
       "      <td>442</td>\n",
       "    </tr>\n",
       "    <tr>\n",
       "      <th>3</th>\n",
       "      <td>1503960366</td>\n",
       "      <td>4/16/2016 12:00:00 AM</td>\n",
       "      <td>2</td>\n",
       "      <td>340</td>\n",
       "      <td>367</td>\n",
       "    </tr>\n",
       "    <tr>\n",
       "      <th>4</th>\n",
       "      <td>1503960366</td>\n",
       "      <td>4/17/2016 12:00:00 AM</td>\n",
       "      <td>1</td>\n",
       "      <td>700</td>\n",
       "      <td>712</td>\n",
       "    </tr>\n",
       "  </tbody>\n",
       "</table>\n",
       "</div>"
      ],
      "text/plain": [
       "           Id               SleepDay  TotalSleepRecords  TotalMinutesAsleep  \\\n",
       "0  1503960366  4/12/2016 12:00:00 AM                  1                 327   \n",
       "1  1503960366  4/13/2016 12:00:00 AM                  2                 384   \n",
       "2  1503960366  4/15/2016 12:00:00 AM                  1                 412   \n",
       "3  1503960366  4/16/2016 12:00:00 AM                  2                 340   \n",
       "4  1503960366  4/17/2016 12:00:00 AM                  1                 700   \n",
       "\n",
       "   TotalTimeInBed  \n",
       "0             346  \n",
       "1             407  \n",
       "2             442  \n",
       "3             367  \n",
       "4             712  "
      ]
     },
     "execution_count": 38,
     "metadata": {},
     "output_type": "execute_result"
    }
   ],
   "source": [
    "daily_sleep_merged.head()"
   ]
  },
  {
   "cell_type": "code",
   "execution_count": 39,
   "id": "9a384b1d",
   "metadata": {
    "execution": {
     "iopub.execute_input": "2025-03-17T01:19:45.159466Z",
     "iopub.status.busy": "2025-03-17T01:19:45.159164Z",
     "iopub.status.idle": "2025-03-17T01:19:45.166559Z",
     "shell.execute_reply": "2025-03-17T01:19:45.165762Z"
    },
    "jupyter": {
     "source_hidden": true
    },
    "papermill": {
     "duration": 0.019711,
     "end_time": "2025-03-17T01:19:45.168026",
     "exception": false,
     "start_time": "2025-03-17T01:19:45.148315",
     "status": "completed"
    },
    "tags": []
   },
   "outputs": [
    {
     "name": "stdout",
     "output_type": "stream",
     "text": [
      "<class 'pandas.core.frame.DataFrame'>\n",
      "RangeIndex: 413 entries, 0 to 412\n",
      "Data columns (total 5 columns):\n",
      " #   Column              Non-Null Count  Dtype \n",
      "---  ------              --------------  ----- \n",
      " 0   Id                  413 non-null    int64 \n",
      " 1   SleepDay            413 non-null    object\n",
      " 2   TotalSleepRecords   413 non-null    int64 \n",
      " 3   TotalMinutesAsleep  413 non-null    int64 \n",
      " 4   TotalTimeInBed      413 non-null    int64 \n",
      "dtypes: int64(4), object(1)\n",
      "memory usage: 16.3+ KB\n"
     ]
    }
   ],
   "source": [
    "daily_sleep_merged.info()"
   ]
  },
  {
   "cell_type": "code",
   "execution_count": 40,
   "id": "1e8a02b1",
   "metadata": {
    "execution": {
     "iopub.execute_input": "2025-03-17T01:19:45.190045Z",
     "iopub.status.busy": "2025-03-17T01:19:45.189749Z",
     "iopub.status.idle": "2025-03-17T01:19:45.204568Z",
     "shell.execute_reply": "2025-03-17T01:19:45.203779Z"
    },
    "jupyter": {
     "source_hidden": true
    },
    "papermill": {
     "duration": 0.026738,
     "end_time": "2025-03-17T01:19:45.205739",
     "exception": false,
     "start_time": "2025-03-17T01:19:45.179001",
     "status": "completed"
    },
    "tags": []
   },
   "outputs": [
    {
     "data": {
      "text/html": [
       "<div>\n",
       "<style scoped>\n",
       "    .dataframe tbody tr th:only-of-type {\n",
       "        vertical-align: middle;\n",
       "    }\n",
       "\n",
       "    .dataframe tbody tr th {\n",
       "        vertical-align: top;\n",
       "    }\n",
       "\n",
       "    .dataframe thead th {\n",
       "        text-align: right;\n",
       "    }\n",
       "</style>\n",
       "<table border=\"1\" class=\"dataframe\">\n",
       "  <thead>\n",
       "    <tr style=\"text-align: right;\">\n",
       "      <th></th>\n",
       "      <th>Id</th>\n",
       "      <th>TotalSleepRecords</th>\n",
       "      <th>TotalMinutesAsleep</th>\n",
       "      <th>TotalTimeInBed</th>\n",
       "    </tr>\n",
       "  </thead>\n",
       "  <tbody>\n",
       "    <tr>\n",
       "      <th>count</th>\n",
       "      <td>4.130000e+02</td>\n",
       "      <td>413.000000</td>\n",
       "      <td>413.000000</td>\n",
       "      <td>413.000000</td>\n",
       "    </tr>\n",
       "    <tr>\n",
       "      <th>mean</th>\n",
       "      <td>5.000979e+09</td>\n",
       "      <td>1.118644</td>\n",
       "      <td>419.467312</td>\n",
       "      <td>458.639225</td>\n",
       "    </tr>\n",
       "    <tr>\n",
       "      <th>std</th>\n",
       "      <td>2.060360e+09</td>\n",
       "      <td>0.345521</td>\n",
       "      <td>118.344679</td>\n",
       "      <td>127.101607</td>\n",
       "    </tr>\n",
       "    <tr>\n",
       "      <th>min</th>\n",
       "      <td>1.503960e+09</td>\n",
       "      <td>1.000000</td>\n",
       "      <td>58.000000</td>\n",
       "      <td>61.000000</td>\n",
       "    </tr>\n",
       "    <tr>\n",
       "      <th>25%</th>\n",
       "      <td>3.977334e+09</td>\n",
       "      <td>1.000000</td>\n",
       "      <td>361.000000</td>\n",
       "      <td>403.000000</td>\n",
       "    </tr>\n",
       "    <tr>\n",
       "      <th>50%</th>\n",
       "      <td>4.702922e+09</td>\n",
       "      <td>1.000000</td>\n",
       "      <td>433.000000</td>\n",
       "      <td>463.000000</td>\n",
       "    </tr>\n",
       "    <tr>\n",
       "      <th>75%</th>\n",
       "      <td>6.962181e+09</td>\n",
       "      <td>1.000000</td>\n",
       "      <td>490.000000</td>\n",
       "      <td>526.000000</td>\n",
       "    </tr>\n",
       "    <tr>\n",
       "      <th>max</th>\n",
       "      <td>8.792010e+09</td>\n",
       "      <td>3.000000</td>\n",
       "      <td>796.000000</td>\n",
       "      <td>961.000000</td>\n",
       "    </tr>\n",
       "  </tbody>\n",
       "</table>\n",
       "</div>"
      ],
      "text/plain": [
       "                 Id  TotalSleepRecords  TotalMinutesAsleep  TotalTimeInBed\n",
       "count  4.130000e+02         413.000000          413.000000      413.000000\n",
       "mean   5.000979e+09           1.118644          419.467312      458.639225\n",
       "std    2.060360e+09           0.345521          118.344679      127.101607\n",
       "min    1.503960e+09           1.000000           58.000000       61.000000\n",
       "25%    3.977334e+09           1.000000          361.000000      403.000000\n",
       "50%    4.702922e+09           1.000000          433.000000      463.000000\n",
       "75%    6.962181e+09           1.000000          490.000000      526.000000\n",
       "max    8.792010e+09           3.000000          796.000000      961.000000"
      ]
     },
     "execution_count": 40,
     "metadata": {},
     "output_type": "execute_result"
    }
   ],
   "source": [
    "daily_sleep_merged.describe()"
   ]
  },
  {
   "cell_type": "code",
   "execution_count": 41,
   "id": "9ddf3f92",
   "metadata": {
    "execution": {
     "iopub.execute_input": "2025-03-17T01:19:45.227923Z",
     "iopub.status.busy": "2025-03-17T01:19:45.227659Z",
     "iopub.status.idle": "2025-03-17T01:19:45.234127Z",
     "shell.execute_reply": "2025-03-17T01:19:45.233331Z"
    },
    "jupyter": {
     "source_hidden": true
    },
    "papermill": {
     "duration": 0.018557,
     "end_time": "2025-03-17T01:19:45.235312",
     "exception": false,
     "start_time": "2025-03-17T01:19:45.216755",
     "status": "completed"
    },
    "tags": []
   },
   "outputs": [
    {
     "data": {
      "text/plain": [
       "Id                    0\n",
       "SleepDay              0\n",
       "TotalSleepRecords     0\n",
       "TotalMinutesAsleep    0\n",
       "TotalTimeInBed        0\n",
       "dtype: int64"
      ]
     },
     "execution_count": 41,
     "metadata": {},
     "output_type": "execute_result"
    }
   ],
   "source": [
    "daily_sleep_merged.isnull().sum()"
   ]
  },
  {
   "cell_type": "code",
   "execution_count": 42,
   "id": "b2f2d286",
   "metadata": {
    "execution": {
     "iopub.execute_input": "2025-03-17T01:19:45.256993Z",
     "iopub.status.busy": "2025-03-17T01:19:45.256740Z",
     "iopub.status.idle": "2025-03-17T01:19:45.262195Z",
     "shell.execute_reply": "2025-03-17T01:19:45.261505Z"
    },
    "jupyter": {
     "source_hidden": true
    },
    "papermill": {
     "duration": 0.01704,
     "end_time": "2025-03-17T01:19:45.263204",
     "exception": false,
     "start_time": "2025-03-17T01:19:45.246164",
     "status": "completed"
    },
    "tags": []
   },
   "outputs": [
    {
     "data": {
      "text/plain": [
       "3"
      ]
     },
     "execution_count": 42,
     "metadata": {},
     "output_type": "execute_result"
    }
   ],
   "source": [
    "daily_sleep_merged.duplicated().sum()"
   ]
  },
  {
   "cell_type": "markdown",
   "id": "f2e6312c",
   "metadata": {
    "papermill": {
     "duration": 0.009634,
     "end_time": "2025-03-17T01:19:45.282784",
     "exception": false,
     "start_time": "2025-03-17T01:19:45.273150",
     "status": "completed"
    },
    "tags": []
   },
   "source": [
    "### we found duplicate rows in \"daily_sleep_merged\" dataset."
   ]
  },
  {
   "cell_type": "code",
   "execution_count": 43,
   "id": "afdf2b43",
   "metadata": {
    "execution": {
     "iopub.execute_input": "2025-03-17T01:19:45.303596Z",
     "iopub.status.busy": "2025-03-17T01:19:45.303285Z",
     "iopub.status.idle": "2025-03-17T01:19:45.313496Z",
     "shell.execute_reply": "2025-03-17T01:19:45.312801Z"
    },
    "papermill": {
     "duration": 0.021828,
     "end_time": "2025-03-17T01:19:45.314492",
     "exception": false,
     "start_time": "2025-03-17T01:19:45.292664",
     "status": "completed"
    },
    "tags": []
   },
   "outputs": [
    {
     "data": {
      "text/html": [
       "<div>\n",
       "<style scoped>\n",
       "    .dataframe tbody tr th:only-of-type {\n",
       "        vertical-align: middle;\n",
       "    }\n",
       "\n",
       "    .dataframe tbody tr th {\n",
       "        vertical-align: top;\n",
       "    }\n",
       "\n",
       "    .dataframe thead th {\n",
       "        text-align: right;\n",
       "    }\n",
       "</style>\n",
       "<table border=\"1\" class=\"dataframe\">\n",
       "  <thead>\n",
       "    <tr style=\"text-align: right;\">\n",
       "      <th></th>\n",
       "      <th>Id</th>\n",
       "      <th>SleepDay</th>\n",
       "      <th>TotalSleepRecords</th>\n",
       "      <th>TotalMinutesAsleep</th>\n",
       "      <th>TotalTimeInBed</th>\n",
       "    </tr>\n",
       "  </thead>\n",
       "  <tbody>\n",
       "    <tr>\n",
       "      <th>161</th>\n",
       "      <td>4388161847</td>\n",
       "      <td>5/5/2016 12:00:00 AM</td>\n",
       "      <td>1</td>\n",
       "      <td>471</td>\n",
       "      <td>495</td>\n",
       "    </tr>\n",
       "    <tr>\n",
       "      <th>223</th>\n",
       "      <td>4702921684</td>\n",
       "      <td>5/7/2016 12:00:00 AM</td>\n",
       "      <td>1</td>\n",
       "      <td>520</td>\n",
       "      <td>543</td>\n",
       "    </tr>\n",
       "    <tr>\n",
       "      <th>380</th>\n",
       "      <td>8378563200</td>\n",
       "      <td>4/25/2016 12:00:00 AM</td>\n",
       "      <td>1</td>\n",
       "      <td>388</td>\n",
       "      <td>402</td>\n",
       "    </tr>\n",
       "  </tbody>\n",
       "</table>\n",
       "</div>"
      ],
      "text/plain": [
       "             Id               SleepDay  TotalSleepRecords  TotalMinutesAsleep  \\\n",
       "161  4388161847   5/5/2016 12:00:00 AM                  1                 471   \n",
       "223  4702921684   5/7/2016 12:00:00 AM                  1                 520   \n",
       "380  8378563200  4/25/2016 12:00:00 AM                  1                 388   \n",
       "\n",
       "     TotalTimeInBed  \n",
       "161             495  \n",
       "223             543  \n",
       "380             402  "
      ]
     },
     "execution_count": 43,
     "metadata": {},
     "output_type": "execute_result"
    }
   ],
   "source": [
    "daily_sleep_merged[daily_sleep_merged.duplicated()]    ## this shows only from the second occurence of duplicate row."
   ]
  },
  {
   "cell_type": "code",
   "execution_count": 44,
   "id": "7cf08a86",
   "metadata": {
    "execution": {
     "iopub.execute_input": "2025-03-17T01:19:45.335846Z",
     "iopub.status.busy": "2025-03-17T01:19:45.335569Z",
     "iopub.status.idle": "2025-03-17T01:19:45.344008Z",
     "shell.execute_reply": "2025-03-17T01:19:45.342869Z"
    },
    "papermill": {
     "duration": 0.020428,
     "end_time": "2025-03-17T01:19:45.345189",
     "exception": false,
     "start_time": "2025-03-17T01:19:45.324761",
     "status": "completed"
    },
    "tags": []
   },
   "outputs": [
    {
     "data": {
      "text/html": [
       "<div>\n",
       "<style scoped>\n",
       "    .dataframe tbody tr th:only-of-type {\n",
       "        vertical-align: middle;\n",
       "    }\n",
       "\n",
       "    .dataframe tbody tr th {\n",
       "        vertical-align: top;\n",
       "    }\n",
       "\n",
       "    .dataframe thead th {\n",
       "        text-align: right;\n",
       "    }\n",
       "</style>\n",
       "<table border=\"1\" class=\"dataframe\">\n",
       "  <thead>\n",
       "    <tr style=\"text-align: right;\">\n",
       "      <th></th>\n",
       "      <th>Id</th>\n",
       "      <th>SleepDay</th>\n",
       "      <th>TotalSleepRecords</th>\n",
       "      <th>TotalMinutesAsleep</th>\n",
       "      <th>TotalTimeInBed</th>\n",
       "    </tr>\n",
       "  </thead>\n",
       "  <tbody>\n",
       "    <tr>\n",
       "      <th>160</th>\n",
       "      <td>4388161847</td>\n",
       "      <td>5/5/2016 12:00:00 AM</td>\n",
       "      <td>1</td>\n",
       "      <td>471</td>\n",
       "      <td>495</td>\n",
       "    </tr>\n",
       "    <tr>\n",
       "      <th>161</th>\n",
       "      <td>4388161847</td>\n",
       "      <td>5/5/2016 12:00:00 AM</td>\n",
       "      <td>1</td>\n",
       "      <td>471</td>\n",
       "      <td>495</td>\n",
       "    </tr>\n",
       "    <tr>\n",
       "      <th>222</th>\n",
       "      <td>4702921684</td>\n",
       "      <td>5/7/2016 12:00:00 AM</td>\n",
       "      <td>1</td>\n",
       "      <td>520</td>\n",
       "      <td>543</td>\n",
       "    </tr>\n",
       "    <tr>\n",
       "      <th>223</th>\n",
       "      <td>4702921684</td>\n",
       "      <td>5/7/2016 12:00:00 AM</td>\n",
       "      <td>1</td>\n",
       "      <td>520</td>\n",
       "      <td>543</td>\n",
       "    </tr>\n",
       "    <tr>\n",
       "      <th>379</th>\n",
       "      <td>8378563200</td>\n",
       "      <td>4/25/2016 12:00:00 AM</td>\n",
       "      <td>1</td>\n",
       "      <td>388</td>\n",
       "      <td>402</td>\n",
       "    </tr>\n",
       "    <tr>\n",
       "      <th>380</th>\n",
       "      <td>8378563200</td>\n",
       "      <td>4/25/2016 12:00:00 AM</td>\n",
       "      <td>1</td>\n",
       "      <td>388</td>\n",
       "      <td>402</td>\n",
       "    </tr>\n",
       "  </tbody>\n",
       "</table>\n",
       "</div>"
      ],
      "text/plain": [
       "             Id               SleepDay  TotalSleepRecords  TotalMinutesAsleep  \\\n",
       "160  4388161847   5/5/2016 12:00:00 AM                  1                 471   \n",
       "161  4388161847   5/5/2016 12:00:00 AM                  1                 471   \n",
       "222  4702921684   5/7/2016 12:00:00 AM                  1                 520   \n",
       "223  4702921684   5/7/2016 12:00:00 AM                  1                 520   \n",
       "379  8378563200  4/25/2016 12:00:00 AM                  1                 388   \n",
       "380  8378563200  4/25/2016 12:00:00 AM                  1                 388   \n",
       "\n",
       "     TotalTimeInBed  \n",
       "160             495  \n",
       "161             495  \n",
       "222             543  \n",
       "223             543  \n",
       "379             402  \n",
       "380             402  "
      ]
     },
     "execution_count": 44,
     "metadata": {},
     "output_type": "execute_result"
    }
   ],
   "source": [
    "daily_sleep_merged[daily_sleep_merged.duplicated(keep=False)]    ## this shows all occurence (including first row as well) of duplicate row."
   ]
  },
  {
   "cell_type": "code",
   "execution_count": 45,
   "id": "da1b010e",
   "metadata": {
    "execution": {
     "iopub.execute_input": "2025-03-17T01:19:45.367320Z",
     "iopub.status.busy": "2025-03-17T01:19:45.366960Z",
     "iopub.status.idle": "2025-03-17T01:19:45.371901Z",
     "shell.execute_reply": "2025-03-17T01:19:45.371134Z"
    },
    "papermill": {
     "duration": 0.017324,
     "end_time": "2025-03-17T01:19:45.372972",
     "exception": false,
     "start_time": "2025-03-17T01:19:45.355648",
     "status": "completed"
    },
    "tags": []
   },
   "outputs": [],
   "source": [
    "daily_sleep_merged = daily_sleep_merged.drop_duplicates()"
   ]
  },
  {
   "cell_type": "code",
   "execution_count": 46,
   "id": "21c6a83c",
   "metadata": {
    "execution": {
     "iopub.execute_input": "2025-03-17T01:19:45.394792Z",
     "iopub.status.busy": "2025-03-17T01:19:45.394513Z",
     "iopub.status.idle": "2025-03-17T01:19:45.404395Z",
     "shell.execute_reply": "2025-03-17T01:19:45.403717Z"
    },
    "jupyter": {
     "source_hidden": true
    },
    "papermill": {
     "duration": 0.02206,
     "end_time": "2025-03-17T01:19:45.405609",
     "exception": false,
     "start_time": "2025-03-17T01:19:45.383549",
     "status": "completed"
    },
    "tags": []
   },
   "outputs": [
    {
     "name": "stderr",
     "output_type": "stream",
     "text": [
      "<ipython-input-46-04fbaddbdbd1>:2: UserWarning: Could not infer format, so each element will be parsed individually, falling back to `dateutil`. To ensure parsing is consistent and as-expected, please specify a format.\n",
      "  daily_sleep_merged[\"SleepDay\"] = pd.to_datetime(daily_sleep_merged[\"SleepDay\"])\n"
     ]
    }
   ],
   "source": [
    "daily_sleep_merged[\"Id\"] = daily_sleep_merged[\"Id\"].astype(\"string\")\n",
    "daily_sleep_merged[\"SleepDay\"] = pd.to_datetime(daily_sleep_merged[\"SleepDay\"])"
   ]
  },
  {
   "cell_type": "code",
   "execution_count": 47,
   "id": "0d267a21",
   "metadata": {
    "execution": {
     "iopub.execute_input": "2025-03-17T01:19:45.429076Z",
     "iopub.status.busy": "2025-03-17T01:19:45.428767Z",
     "iopub.status.idle": "2025-03-17T01:19:45.436931Z",
     "shell.execute_reply": "2025-03-17T01:19:45.436186Z"
    },
    "papermill": {
     "duration": 0.02071,
     "end_time": "2025-03-17T01:19:45.438009",
     "exception": false,
     "start_time": "2025-03-17T01:19:45.417299",
     "status": "completed"
    },
    "tags": []
   },
   "outputs": [
    {
     "name": "stdout",
     "output_type": "stream",
     "text": [
      "<class 'pandas.core.frame.DataFrame'>\n",
      "Index: 410 entries, 0 to 412\n",
      "Data columns (total 5 columns):\n",
      " #   Column              Non-Null Count  Dtype         \n",
      "---  ------              --------------  -----         \n",
      " 0   Id                  410 non-null    string        \n",
      " 1   SleepDay            410 non-null    datetime64[ns]\n",
      " 2   TotalSleepRecords   410 non-null    int64         \n",
      " 3   TotalMinutesAsleep  410 non-null    int64         \n",
      " 4   TotalTimeInBed      410 non-null    int64         \n",
      "dtypes: datetime64[ns](1), int64(3), string(1)\n",
      "memory usage: 19.2 KB\n"
     ]
    }
   ],
   "source": [
    "daily_sleep_merged.info()"
   ]
  },
  {
   "cell_type": "code",
   "execution_count": 48,
   "id": "ea68f877",
   "metadata": {
    "execution": {
     "iopub.execute_input": "2025-03-17T01:19:45.461724Z",
     "iopub.status.busy": "2025-03-17T01:19:45.461430Z",
     "iopub.status.idle": "2025-03-17T01:19:45.468407Z",
     "shell.execute_reply": "2025-03-17T01:19:45.467759Z"
    },
    "jupyter": {
     "source_hidden": true
    },
    "papermill": {
     "duration": 0.019866,
     "end_time": "2025-03-17T01:19:45.469480",
     "exception": false,
     "start_time": "2025-03-17T01:19:45.449614",
     "status": "completed"
    },
    "tags": []
   },
   "outputs": [
    {
     "data": {
      "text/html": [
       "<div>\n",
       "<style scoped>\n",
       "    .dataframe tbody tr th:only-of-type {\n",
       "        vertical-align: middle;\n",
       "    }\n",
       "\n",
       "    .dataframe tbody tr th {\n",
       "        vertical-align: top;\n",
       "    }\n",
       "\n",
       "    .dataframe thead th {\n",
       "        text-align: right;\n",
       "    }\n",
       "</style>\n",
       "<table border=\"1\" class=\"dataframe\">\n",
       "  <thead>\n",
       "    <tr style=\"text-align: right;\">\n",
       "      <th></th>\n",
       "      <th>Id</th>\n",
       "      <th>SleepDay</th>\n",
       "      <th>TotalSleepRecords</th>\n",
       "      <th>TotalMinutesAsleep</th>\n",
       "      <th>TotalTimeInBed</th>\n",
       "    </tr>\n",
       "  </thead>\n",
       "  <tbody>\n",
       "    <tr>\n",
       "      <th>0</th>\n",
       "      <td>1503960366</td>\n",
       "      <td>2016-04-12</td>\n",
       "      <td>1</td>\n",
       "      <td>327</td>\n",
       "      <td>346</td>\n",
       "    </tr>\n",
       "    <tr>\n",
       "      <th>1</th>\n",
       "      <td>1503960366</td>\n",
       "      <td>2016-04-13</td>\n",
       "      <td>2</td>\n",
       "      <td>384</td>\n",
       "      <td>407</td>\n",
       "    </tr>\n",
       "    <tr>\n",
       "      <th>2</th>\n",
       "      <td>1503960366</td>\n",
       "      <td>2016-04-15</td>\n",
       "      <td>1</td>\n",
       "      <td>412</td>\n",
       "      <td>442</td>\n",
       "    </tr>\n",
       "    <tr>\n",
       "      <th>3</th>\n",
       "      <td>1503960366</td>\n",
       "      <td>2016-04-16</td>\n",
       "      <td>2</td>\n",
       "      <td>340</td>\n",
       "      <td>367</td>\n",
       "    </tr>\n",
       "    <tr>\n",
       "      <th>4</th>\n",
       "      <td>1503960366</td>\n",
       "      <td>2016-04-17</td>\n",
       "      <td>1</td>\n",
       "      <td>700</td>\n",
       "      <td>712</td>\n",
       "    </tr>\n",
       "  </tbody>\n",
       "</table>\n",
       "</div>"
      ],
      "text/plain": [
       "           Id   SleepDay  TotalSleepRecords  TotalMinutesAsleep  \\\n",
       "0  1503960366 2016-04-12                  1                 327   \n",
       "1  1503960366 2016-04-13                  2                 384   \n",
       "2  1503960366 2016-04-15                  1                 412   \n",
       "3  1503960366 2016-04-16                  2                 340   \n",
       "4  1503960366 2016-04-17                  1                 700   \n",
       "\n",
       "   TotalTimeInBed  \n",
       "0             346  \n",
       "1             407  \n",
       "2             442  \n",
       "3             367  \n",
       "4             712  "
      ]
     },
     "execution_count": 48,
     "metadata": {},
     "output_type": "execute_result"
    }
   ],
   "source": [
    "daily_sleep_merged.head()"
   ]
  },
  {
   "cell_type": "code",
   "execution_count": 49,
   "id": "43fdc86a",
   "metadata": {
    "execution": {
     "iopub.execute_input": "2025-03-17T01:19:45.493487Z",
     "iopub.status.busy": "2025-03-17T01:19:45.493141Z",
     "iopub.status.idle": "2025-03-17T01:19:45.497880Z",
     "shell.execute_reply": "2025-03-17T01:19:45.497166Z"
    },
    "papermill": {
     "duration": 0.018087,
     "end_time": "2025-03-17T01:19:45.499195",
     "exception": false,
     "start_time": "2025-03-17T01:19:45.481108",
     "status": "completed"
    },
    "tags": []
   },
   "outputs": [],
   "source": [
    "weightloginfo = weightloginfo[[\"Id\",\"Date\",\"WeightKg\",\"WeightPounds\",\"BMI\",\"IsManualReport\",\"LogId\"]]"
   ]
  },
  {
   "cell_type": "code",
   "execution_count": 50,
   "id": "b3f13d88",
   "metadata": {
    "execution": {
     "iopub.execute_input": "2025-03-17T01:19:45.522391Z",
     "iopub.status.busy": "2025-03-17T01:19:45.522073Z",
     "iopub.status.idle": "2025-03-17T01:19:45.532432Z",
     "shell.execute_reply": "2025-03-17T01:19:45.531665Z"
    },
    "papermill": {
     "duration": 0.023284,
     "end_time": "2025-03-17T01:19:45.533831",
     "exception": false,
     "start_time": "2025-03-17T01:19:45.510547",
     "status": "completed"
    },
    "tags": []
   },
   "outputs": [
    {
     "data": {
      "text/html": [
       "<div>\n",
       "<style scoped>\n",
       "    .dataframe tbody tr th:only-of-type {\n",
       "        vertical-align: middle;\n",
       "    }\n",
       "\n",
       "    .dataframe tbody tr th {\n",
       "        vertical-align: top;\n",
       "    }\n",
       "\n",
       "    .dataframe thead th {\n",
       "        text-align: right;\n",
       "    }\n",
       "</style>\n",
       "<table border=\"1\" class=\"dataframe\">\n",
       "  <thead>\n",
       "    <tr style=\"text-align: right;\">\n",
       "      <th></th>\n",
       "      <th>Id</th>\n",
       "      <th>Date</th>\n",
       "      <th>WeightKg</th>\n",
       "      <th>WeightPounds</th>\n",
       "      <th>BMI</th>\n",
       "      <th>IsManualReport</th>\n",
       "      <th>LogId</th>\n",
       "    </tr>\n",
       "  </thead>\n",
       "  <tbody>\n",
       "    <tr>\n",
       "      <th>0</th>\n",
       "      <td>1503960366</td>\n",
       "      <td>5/2/2016 11:59:59 PM</td>\n",
       "      <td>52.599998</td>\n",
       "      <td>115.963147</td>\n",
       "      <td>22.650000</td>\n",
       "      <td>True</td>\n",
       "      <td>1462233599000</td>\n",
       "    </tr>\n",
       "    <tr>\n",
       "      <th>1</th>\n",
       "      <td>1503960366</td>\n",
       "      <td>5/3/2016 11:59:59 PM</td>\n",
       "      <td>52.599998</td>\n",
       "      <td>115.963147</td>\n",
       "      <td>22.650000</td>\n",
       "      <td>True</td>\n",
       "      <td>1462319999000</td>\n",
       "    </tr>\n",
       "    <tr>\n",
       "      <th>2</th>\n",
       "      <td>1927972279</td>\n",
       "      <td>4/13/2016 1:08:52 AM</td>\n",
       "      <td>133.500000</td>\n",
       "      <td>294.317120</td>\n",
       "      <td>47.540001</td>\n",
       "      <td>False</td>\n",
       "      <td>1460509732000</td>\n",
       "    </tr>\n",
       "    <tr>\n",
       "      <th>3</th>\n",
       "      <td>2873212765</td>\n",
       "      <td>4/21/2016 11:59:59 PM</td>\n",
       "      <td>56.700001</td>\n",
       "      <td>125.002104</td>\n",
       "      <td>21.450001</td>\n",
       "      <td>True</td>\n",
       "      <td>1461283199000</td>\n",
       "    </tr>\n",
       "    <tr>\n",
       "      <th>4</th>\n",
       "      <td>2873212765</td>\n",
       "      <td>5/12/2016 11:59:59 PM</td>\n",
       "      <td>57.299999</td>\n",
       "      <td>126.324875</td>\n",
       "      <td>21.690001</td>\n",
       "      <td>True</td>\n",
       "      <td>1463097599000</td>\n",
       "    </tr>\n",
       "  </tbody>\n",
       "</table>\n",
       "</div>"
      ],
      "text/plain": [
       "           Id                   Date    WeightKg  WeightPounds        BMI  \\\n",
       "0  1503960366   5/2/2016 11:59:59 PM   52.599998    115.963147  22.650000   \n",
       "1  1503960366   5/3/2016 11:59:59 PM   52.599998    115.963147  22.650000   \n",
       "2  1927972279   4/13/2016 1:08:52 AM  133.500000    294.317120  47.540001   \n",
       "3  2873212765  4/21/2016 11:59:59 PM   56.700001    125.002104  21.450001   \n",
       "4  2873212765  5/12/2016 11:59:59 PM   57.299999    126.324875  21.690001   \n",
       "\n",
       "   IsManualReport          LogId  \n",
       "0            True  1462233599000  \n",
       "1            True  1462319999000  \n",
       "2           False  1460509732000  \n",
       "3            True  1461283199000  \n",
       "4            True  1463097599000  "
      ]
     },
     "execution_count": 50,
     "metadata": {},
     "output_type": "execute_result"
    }
   ],
   "source": [
    "weightloginfo.head()"
   ]
  },
  {
   "cell_type": "code",
   "execution_count": 51,
   "id": "fccd46fb",
   "metadata": {
    "execution": {
     "iopub.execute_input": "2025-03-17T01:19:45.558345Z",
     "iopub.status.busy": "2025-03-17T01:19:45.558003Z",
     "iopub.status.idle": "2025-03-17T01:19:45.566475Z",
     "shell.execute_reply": "2025-03-17T01:19:45.565454Z"
    },
    "papermill": {
     "duration": 0.021909,
     "end_time": "2025-03-17T01:19:45.568059",
     "exception": false,
     "start_time": "2025-03-17T01:19:45.546150",
     "status": "completed"
    },
    "tags": []
   },
   "outputs": [
    {
     "name": "stdout",
     "output_type": "stream",
     "text": [
      "<class 'pandas.core.frame.DataFrame'>\n",
      "RangeIndex: 67 entries, 0 to 66\n",
      "Data columns (total 7 columns):\n",
      " #   Column          Non-Null Count  Dtype  \n",
      "---  ------          --------------  -----  \n",
      " 0   Id              67 non-null     int64  \n",
      " 1   Date            67 non-null     object \n",
      " 2   WeightKg        67 non-null     float64\n",
      " 3   WeightPounds    67 non-null     float64\n",
      " 4   BMI             67 non-null     float64\n",
      " 5   IsManualReport  67 non-null     bool   \n",
      " 6   LogId           67 non-null     int64  \n",
      "dtypes: bool(1), float64(3), int64(2), object(1)\n",
      "memory usage: 3.3+ KB\n"
     ]
    }
   ],
   "source": [
    "weightloginfo.info()"
   ]
  },
  {
   "cell_type": "code",
   "execution_count": 52,
   "id": "940e60b3",
   "metadata": {
    "execution": {
     "iopub.execute_input": "2025-03-17T01:19:45.593015Z",
     "iopub.status.busy": "2025-03-17T01:19:45.592726Z",
     "iopub.status.idle": "2025-03-17T01:19:45.608296Z",
     "shell.execute_reply": "2025-03-17T01:19:45.607389Z"
    },
    "jupyter": {
     "source_hidden": true
    },
    "papermill": {
     "duration": 0.029017,
     "end_time": "2025-03-17T01:19:45.609617",
     "exception": false,
     "start_time": "2025-03-17T01:19:45.580600",
     "status": "completed"
    },
    "tags": []
   },
   "outputs": [
    {
     "data": {
      "text/html": [
       "<div>\n",
       "<style scoped>\n",
       "    .dataframe tbody tr th:only-of-type {\n",
       "        vertical-align: middle;\n",
       "    }\n",
       "\n",
       "    .dataframe tbody tr th {\n",
       "        vertical-align: top;\n",
       "    }\n",
       "\n",
       "    .dataframe thead th {\n",
       "        text-align: right;\n",
       "    }\n",
       "</style>\n",
       "<table border=\"1\" class=\"dataframe\">\n",
       "  <thead>\n",
       "    <tr style=\"text-align: right;\">\n",
       "      <th></th>\n",
       "      <th>Id</th>\n",
       "      <th>WeightKg</th>\n",
       "      <th>WeightPounds</th>\n",
       "      <th>BMI</th>\n",
       "      <th>LogId</th>\n",
       "    </tr>\n",
       "  </thead>\n",
       "  <tbody>\n",
       "    <tr>\n",
       "      <th>count</th>\n",
       "      <td>6.700000e+01</td>\n",
       "      <td>67.000000</td>\n",
       "      <td>67.000000</td>\n",
       "      <td>67.000000</td>\n",
       "      <td>6.700000e+01</td>\n",
       "    </tr>\n",
       "    <tr>\n",
       "      <th>mean</th>\n",
       "      <td>7.009282e+09</td>\n",
       "      <td>72.035821</td>\n",
       "      <td>158.811801</td>\n",
       "      <td>25.185224</td>\n",
       "      <td>1.461772e+12</td>\n",
       "    </tr>\n",
       "    <tr>\n",
       "      <th>std</th>\n",
       "      <td>1.950322e+09</td>\n",
       "      <td>13.923206</td>\n",
       "      <td>30.695415</td>\n",
       "      <td>3.066963</td>\n",
       "      <td>7.829948e+08</td>\n",
       "    </tr>\n",
       "    <tr>\n",
       "      <th>min</th>\n",
       "      <td>1.503960e+09</td>\n",
       "      <td>52.599998</td>\n",
       "      <td>115.963147</td>\n",
       "      <td>21.450001</td>\n",
       "      <td>1.460444e+12</td>\n",
       "    </tr>\n",
       "    <tr>\n",
       "      <th>25%</th>\n",
       "      <td>6.962181e+09</td>\n",
       "      <td>61.400002</td>\n",
       "      <td>135.363832</td>\n",
       "      <td>23.959999</td>\n",
       "      <td>1.461079e+12</td>\n",
       "    </tr>\n",
       "    <tr>\n",
       "      <th>50%</th>\n",
       "      <td>6.962181e+09</td>\n",
       "      <td>62.500000</td>\n",
       "      <td>137.788914</td>\n",
       "      <td>24.389999</td>\n",
       "      <td>1.461802e+12</td>\n",
       "    </tr>\n",
       "    <tr>\n",
       "      <th>75%</th>\n",
       "      <td>8.877689e+09</td>\n",
       "      <td>85.049999</td>\n",
       "      <td>187.503152</td>\n",
       "      <td>25.559999</td>\n",
       "      <td>1.462375e+12</td>\n",
       "    </tr>\n",
       "    <tr>\n",
       "      <th>max</th>\n",
       "      <td>8.877689e+09</td>\n",
       "      <td>133.500000</td>\n",
       "      <td>294.317120</td>\n",
       "      <td>47.540001</td>\n",
       "      <td>1.463098e+12</td>\n",
       "    </tr>\n",
       "  </tbody>\n",
       "</table>\n",
       "</div>"
      ],
      "text/plain": [
       "                 Id    WeightKg  WeightPounds        BMI         LogId\n",
       "count  6.700000e+01   67.000000     67.000000  67.000000  6.700000e+01\n",
       "mean   7.009282e+09   72.035821    158.811801  25.185224  1.461772e+12\n",
       "std    1.950322e+09   13.923206     30.695415   3.066963  7.829948e+08\n",
       "min    1.503960e+09   52.599998    115.963147  21.450001  1.460444e+12\n",
       "25%    6.962181e+09   61.400002    135.363832  23.959999  1.461079e+12\n",
       "50%    6.962181e+09   62.500000    137.788914  24.389999  1.461802e+12\n",
       "75%    8.877689e+09   85.049999    187.503152  25.559999  1.462375e+12\n",
       "max    8.877689e+09  133.500000    294.317120  47.540001  1.463098e+12"
      ]
     },
     "execution_count": 52,
     "metadata": {},
     "output_type": "execute_result"
    }
   ],
   "source": [
    "weightloginfo.describe()"
   ]
  },
  {
   "cell_type": "code",
   "execution_count": 53,
   "id": "1864b82e",
   "metadata": {
    "execution": {
     "iopub.execute_input": "2025-03-17T01:19:45.633625Z",
     "iopub.status.busy": "2025-03-17T01:19:45.633313Z",
     "iopub.status.idle": "2025-03-17T01:19:45.638690Z",
     "shell.execute_reply": "2025-03-17T01:19:45.637980Z"
    },
    "jupyter": {
     "source_hidden": true
    },
    "papermill": {
     "duration": 0.01832,
     "end_time": "2025-03-17T01:19:45.639797",
     "exception": false,
     "start_time": "2025-03-17T01:19:45.621477",
     "status": "completed"
    },
    "tags": []
   },
   "outputs": [
    {
     "data": {
      "text/plain": [
       "Id                0\n",
       "Date              0\n",
       "WeightKg          0\n",
       "WeightPounds      0\n",
       "BMI               0\n",
       "IsManualReport    0\n",
       "LogId             0\n",
       "dtype: int64"
      ]
     },
     "execution_count": 53,
     "metadata": {},
     "output_type": "execute_result"
    }
   ],
   "source": [
    "weightloginfo.isnull().sum()"
   ]
  },
  {
   "cell_type": "code",
   "execution_count": 54,
   "id": "40f56977",
   "metadata": {
    "execution": {
     "iopub.execute_input": "2025-03-17T01:19:45.662929Z",
     "iopub.status.busy": "2025-03-17T01:19:45.662683Z",
     "iopub.status.idle": "2025-03-17T01:19:45.668285Z",
     "shell.execute_reply": "2025-03-17T01:19:45.667467Z"
    },
    "jupyter": {
     "source_hidden": true
    },
    "papermill": {
     "duration": 0.018456,
     "end_time": "2025-03-17T01:19:45.669562",
     "exception": false,
     "start_time": "2025-03-17T01:19:45.651106",
     "status": "completed"
    },
    "tags": []
   },
   "outputs": [
    {
     "data": {
      "text/plain": [
       "0"
      ]
     },
     "execution_count": 54,
     "metadata": {},
     "output_type": "execute_result"
    }
   ],
   "source": [
    "weightloginfo.duplicated().sum()"
   ]
  },
  {
   "cell_type": "code",
   "execution_count": 55,
   "id": "e762259a",
   "metadata": {
    "execution": {
     "iopub.execute_input": "2025-03-17T01:19:45.693629Z",
     "iopub.status.busy": "2025-03-17T01:19:45.693386Z",
     "iopub.status.idle": "2025-03-17T01:19:45.703491Z",
     "shell.execute_reply": "2025-03-17T01:19:45.702534Z"
    },
    "papermill": {
     "duration": 0.02375,
     "end_time": "2025-03-17T01:19:45.704957",
     "exception": false,
     "start_time": "2025-03-17T01:19:45.681207",
     "status": "completed"
    },
    "tags": []
   },
   "outputs": [
    {
     "name": "stderr",
     "output_type": "stream",
     "text": [
      "<ipython-input-55-b25b52c7e4cc>:2: UserWarning: Could not infer format, so each element will be parsed individually, falling back to `dateutil`. To ensure parsing is consistent and as-expected, please specify a format.\n",
      "  weightloginfo[\"Date\"] = pd.to_datetime(weightloginfo[\"Date\"])\n"
     ]
    }
   ],
   "source": [
    "weightloginfo[\"Id\"] = weightloginfo[\"Id\"].astype(\"string\")\n",
    "weightloginfo[\"Date\"] = pd.to_datetime(weightloginfo[\"Date\"])"
   ]
  },
  {
   "cell_type": "code",
   "execution_count": 56,
   "id": "f75ebc16",
   "metadata": {
    "execution": {
     "iopub.execute_input": "2025-03-17T01:19:45.730021Z",
     "iopub.status.busy": "2025-03-17T01:19:45.729746Z",
     "iopub.status.idle": "2025-03-17T01:19:45.737579Z",
     "shell.execute_reply": "2025-03-17T01:19:45.736791Z"
    },
    "papermill": {
     "duration": 0.021396,
     "end_time": "2025-03-17T01:19:45.738716",
     "exception": false,
     "start_time": "2025-03-17T01:19:45.717320",
     "status": "completed"
    },
    "tags": []
   },
   "outputs": [
    {
     "name": "stdout",
     "output_type": "stream",
     "text": [
      "<class 'pandas.core.frame.DataFrame'>\n",
      "RangeIndex: 67 entries, 0 to 66\n",
      "Data columns (total 7 columns):\n",
      " #   Column          Non-Null Count  Dtype         \n",
      "---  ------          --------------  -----         \n",
      " 0   Id              67 non-null     string        \n",
      " 1   Date            67 non-null     datetime64[ns]\n",
      " 2   WeightKg        67 non-null     float64       \n",
      " 3   WeightPounds    67 non-null     float64       \n",
      " 4   BMI             67 non-null     float64       \n",
      " 5   IsManualReport  67 non-null     bool          \n",
      " 6   LogId           67 non-null     int64         \n",
      "dtypes: bool(1), datetime64[ns](1), float64(3), int64(1), string(1)\n",
      "memory usage: 3.3 KB\n"
     ]
    }
   ],
   "source": [
    "weightloginfo.info()"
   ]
  },
  {
   "cell_type": "code",
   "execution_count": 57,
   "id": "d2ec6e26",
   "metadata": {
    "execution": {
     "iopub.execute_input": "2025-03-17T01:19:45.763942Z",
     "iopub.status.busy": "2025-03-17T01:19:45.763625Z",
     "iopub.status.idle": "2025-03-17T01:19:45.772187Z",
     "shell.execute_reply": "2025-03-17T01:19:45.771506Z"
    },
    "papermill": {
     "duration": 0.022604,
     "end_time": "2025-03-17T01:19:45.773359",
     "exception": false,
     "start_time": "2025-03-17T01:19:45.750755",
     "status": "completed"
    },
    "tags": []
   },
   "outputs": [
    {
     "data": {
      "text/html": [
       "<div>\n",
       "<style scoped>\n",
       "    .dataframe tbody tr th:only-of-type {\n",
       "        vertical-align: middle;\n",
       "    }\n",
       "\n",
       "    .dataframe tbody tr th {\n",
       "        vertical-align: top;\n",
       "    }\n",
       "\n",
       "    .dataframe thead th {\n",
       "        text-align: right;\n",
       "    }\n",
       "</style>\n",
       "<table border=\"1\" class=\"dataframe\">\n",
       "  <thead>\n",
       "    <tr style=\"text-align: right;\">\n",
       "      <th></th>\n",
       "      <th>Id</th>\n",
       "      <th>Date</th>\n",
       "      <th>WeightKg</th>\n",
       "      <th>WeightPounds</th>\n",
       "      <th>BMI</th>\n",
       "      <th>IsManualReport</th>\n",
       "      <th>LogId</th>\n",
       "    </tr>\n",
       "  </thead>\n",
       "  <tbody>\n",
       "    <tr>\n",
       "      <th>0</th>\n",
       "      <td>1503960366</td>\n",
       "      <td>2016-05-02 23:59:59</td>\n",
       "      <td>52.599998</td>\n",
       "      <td>115.963147</td>\n",
       "      <td>22.650000</td>\n",
       "      <td>True</td>\n",
       "      <td>1462233599000</td>\n",
       "    </tr>\n",
       "    <tr>\n",
       "      <th>1</th>\n",
       "      <td>1503960366</td>\n",
       "      <td>2016-05-03 23:59:59</td>\n",
       "      <td>52.599998</td>\n",
       "      <td>115.963147</td>\n",
       "      <td>22.650000</td>\n",
       "      <td>True</td>\n",
       "      <td>1462319999000</td>\n",
       "    </tr>\n",
       "    <tr>\n",
       "      <th>2</th>\n",
       "      <td>1927972279</td>\n",
       "      <td>2016-04-13 01:08:52</td>\n",
       "      <td>133.500000</td>\n",
       "      <td>294.317120</td>\n",
       "      <td>47.540001</td>\n",
       "      <td>False</td>\n",
       "      <td>1460509732000</td>\n",
       "    </tr>\n",
       "    <tr>\n",
       "      <th>3</th>\n",
       "      <td>2873212765</td>\n",
       "      <td>2016-04-21 23:59:59</td>\n",
       "      <td>56.700001</td>\n",
       "      <td>125.002104</td>\n",
       "      <td>21.450001</td>\n",
       "      <td>True</td>\n",
       "      <td>1461283199000</td>\n",
       "    </tr>\n",
       "    <tr>\n",
       "      <th>4</th>\n",
       "      <td>2873212765</td>\n",
       "      <td>2016-05-12 23:59:59</td>\n",
       "      <td>57.299999</td>\n",
       "      <td>126.324875</td>\n",
       "      <td>21.690001</td>\n",
       "      <td>True</td>\n",
       "      <td>1463097599000</td>\n",
       "    </tr>\n",
       "  </tbody>\n",
       "</table>\n",
       "</div>"
      ],
      "text/plain": [
       "           Id                Date    WeightKg  WeightPounds        BMI  \\\n",
       "0  1503960366 2016-05-02 23:59:59   52.599998    115.963147  22.650000   \n",
       "1  1503960366 2016-05-03 23:59:59   52.599998    115.963147  22.650000   \n",
       "2  1927972279 2016-04-13 01:08:52  133.500000    294.317120  47.540001   \n",
       "3  2873212765 2016-04-21 23:59:59   56.700001    125.002104  21.450001   \n",
       "4  2873212765 2016-05-12 23:59:59   57.299999    126.324875  21.690001   \n",
       "\n",
       "   IsManualReport          LogId  \n",
       "0            True  1462233599000  \n",
       "1            True  1462319999000  \n",
       "2           False  1460509732000  \n",
       "3            True  1461283199000  \n",
       "4            True  1463097599000  "
      ]
     },
     "execution_count": 57,
     "metadata": {},
     "output_type": "execute_result"
    }
   ],
   "source": [
    "weightloginfo.head()"
   ]
  },
  {
   "cell_type": "code",
   "execution_count": null,
   "id": "ac96818a",
   "metadata": {
    "papermill": {
     "duration": 0.011115,
     "end_time": "2025-03-17T01:19:45.796688",
     "exception": false,
     "start_time": "2025-03-17T01:19:45.785573",
     "status": "completed"
    },
    "tags": []
   },
   "outputs": [],
   "source": []
  },
  {
   "cell_type": "code",
   "execution_count": null,
   "id": "f0d40d7e",
   "metadata": {
    "papermill": {
     "duration": 0.011173,
     "end_time": "2025-03-17T01:19:45.819192",
     "exception": false,
     "start_time": "2025-03-17T01:19:45.808019",
     "status": "completed"
    },
    "tags": []
   },
   "outputs": [],
   "source": []
  }
 ],
 "metadata": {
  "kaggle": {
   "accelerator": "none",
   "dataSources": [
    {
     "datasetId": 1041311,
     "sourceId": 7746251,
     "sourceType": "datasetVersion"
    }
   ],
   "dockerImageVersionId": 30918,
   "isGpuEnabled": false,
   "isInternetEnabled": true,
   "language": "python",
   "sourceType": "notebook"
  },
  "kernelspec": {
   "display_name": "Python 3",
   "language": "python",
   "name": "python3"
  },
  "language_info": {
   "codemirror_mode": {
    "name": "ipython",
    "version": 3
   },
   "file_extension": ".py",
   "mimetype": "text/x-python",
   "name": "python",
   "nbconvert_exporter": "python",
   "pygments_lexer": "ipython3",
   "version": "3.10.12"
  },
  "papermill": {
   "default_parameters": {},
   "duration": 5.147116,
   "end_time": "2025-03-17T01:19:46.248859",
   "environment_variables": {},
   "exception": null,
   "input_path": "__notebook__.ipynb",
   "output_path": "__notebook__.ipynb",
   "parameters": {},
   "start_time": "2025-03-17T01:19:41.101743",
   "version": "2.6.0"
  }
 },
 "nbformat": 4,
 "nbformat_minor": 5
}
